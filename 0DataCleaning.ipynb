{
 "cells": [
  {
   "cell_type": "code",
   "execution_count": 1,
   "metadata": {},
   "outputs": [
    {
     "data": {
      "text/html": [
       "<style>.container { width:100% !important; }</style>"
      ],
      "text/plain": [
       "<IPython.core.display.HTML object>"
      ]
     },
     "metadata": {},
     "output_type": "display_data"
    }
   ],
   "source": [
    "from IPython.core.display import display, HTML\n",
    "display(HTML(\"<style>.container { width:100% !important; }</style>\"))"
   ]
  },
  {
   "cell_type": "code",
   "execution_count": 2,
   "metadata": {},
   "outputs": [
    {
     "name": "stdout",
     "output_type": "stream",
     "text": [
      "\u001b[1m\u001b[34membeddings\u001b[m\u001b[m \u001b[1m\u001b[34mimg\u001b[m\u001b[m        \u001b[1m\u001b[34mmodified\u001b[m\u001b[m   \u001b[1m\u001b[34mraw\u001b[m\u001b[m        \u001b[1m\u001b[34mvectors\u001b[m\u001b[m\r\n"
     ]
    }
   ],
   "source": [
    "!ls ../data/"
   ]
  },
  {
   "cell_type": "code",
   "execution_count": 3,
   "metadata": {},
   "outputs": [],
   "source": [
    "datapath='../data/raw/'\n",
    "datastorepath='../data/modified/'"
   ]
  },
  {
   "cell_type": "code",
   "execution_count": 4,
   "metadata": {},
   "outputs": [],
   "source": [
    "import string\n",
    "import numpy as np\n",
    "import pandas as pd\n",
    "import spacy\n",
    "from spacy.lang.en.stop_words import STOP_WORDS\n",
    "from sklearn.feature_extraction.stop_words import ENGLISH_STOP_WORDS\n",
    "import json\n",
    "import ast\n",
    "import lxml.html\n",
    "from  more_itertools import unique_everseen\n",
    "from tqdm import tqdm\n",
    "from collections import Counter\n",
    "import operator\n",
    "import re\n",
    "import nltk\n",
    "import warnings\n",
    "warnings.simplefilter(\"ignore\", DeprecationWarning)\n",
    "warnings.filterwarnings('ignore',category=pd.io.pytables.PerformanceWarning)\n",
    "\n",
    "%matplotlib inline\n",
    "import matplotlib.pyplot as plt\n",
    "\n",
    "pd.options.display.max_rows\n",
    "pd.set_option('display.max_colwidth', -1)\n",
    "# pd.reset_option('display.max_colwidth')"
   ]
  },
  {
   "cell_type": "code",
   "execution_count": 5,
   "metadata": {},
   "outputs": [
    {
     "name": "stdout",
     "output_type": "stream",
     "text": [
      "CPU times: user 59.1 s, sys: 13.7 s, total: 1min 12s\n",
      "Wall time: 1min 23s\n"
     ]
    }
   ],
   "source": [
    "%%time\n",
    "df1=pd.read_csv(datapath+'products_database_5_Apr.csv',header=None)\n",
    "df1.columns=['Product ID', 'Name', 'Price', 'Currency', 'Retailer ID',\n",
    "            'Retailer Name', 'Brand ID', 'Brand Name', 'Description', 'image_small',\n",
    "            'image_XLarge', 'image_Medium', 'image_Large', 'image_IPhoneSmall',\n",
    "            'image_Best', 'image_Original', 'image_IPhone', 'Extract Date',\n",
    "            'Last Modified', 'Colors', 'Sizes', 'Categories']\n",
    "\n",
    "df2=pd.read_csv(datapath+'products_database_UPTO_2369.csv',header=None)\n",
    "df2.columns=['Product ID', 'Name', 'Price', 'Currency', 'Retailer ID',\n",
    "             'Retailer Name', 'Brand ID', 'Brand Name', 'Description', 'image_small',\n",
    "             'image_XLarge', 'image_Medium', 'image_Large', 'image_IPhoneSmall',\n",
    "             'image_Best', 'image_Original', 'image_IPhone', 'Extract Date',\n",
    "             'Last Modified', 'Colors', 'Sizes', 'Categories']"
   ]
  },
  {
   "cell_type": "code",
   "execution_count": 6,
   "metadata": {},
   "outputs": [
    {
     "name": "stdout",
     "output_type": "stream",
     "text": [
      "CPU times: user 30.9 s, sys: 29.3 s, total: 1min\n",
      "Wall time: 1min 8s\n"
     ]
    }
   ],
   "source": [
    "%%time\n",
    "df=df2.append(df1)\n",
    "df.drop_duplicates(keep=False, inplace=True)"
   ]
  },
  {
   "cell_type": "code",
   "execution_count": 7,
   "metadata": {},
   "outputs": [
    {
     "data": {
      "text/plain": [
       "Index(['Product ID', 'Name', 'Price', 'Currency', 'Retailer ID',\n",
       "       'Retailer Name', 'Brand ID', 'Brand Name', 'Description', 'image_small',\n",
       "       'image_XLarge', 'image_Medium', 'image_Large', 'image_IPhoneSmall',\n",
       "       'image_Best', 'image_Original', 'image_IPhone', 'Extract Date',\n",
       "       'Last Modified', 'Colors', 'Sizes', 'Categories'],\n",
       "      dtype='object')"
      ]
     },
     "execution_count": 7,
     "metadata": {},
     "output_type": "execute_result"
    }
   ],
   "source": [
    "df.columns"
   ]
  },
  {
   "cell_type": "code",
   "execution_count": 23,
   "metadata": {},
   "outputs": [],
   "source": [
    "shopstyle_addr=df.loc[:,['Product ID', 'image_Best']]"
   ]
  },
  {
   "cell_type": "code",
   "execution_count": 27,
   "metadata": {},
   "outputs": [],
   "source": [
    "shopstyle_addr.to_csv(datapath+'shopstyle_addr.csv',index=False)"
   ]
  },
  {
   "cell_type": "code",
   "execution_count": 8,
   "metadata": {},
   "outputs": [],
   "source": [
    "df=df.iloc[:,[0,1,6,7,8,14,19,21]]\n",
    "df['From']='shopstyle'"
   ]
  },
  {
   "cell_type": "markdown",
   "metadata": {},
   "source": [
    "decode"
   ]
  },
  {
   "cell_type": "code",
   "execution_count": 9,
   "metadata": {},
   "outputs": [
    {
     "name": "stdout",
     "output_type": "stream",
     "text": [
      "CPU times: user 1min 35s, sys: 3.39 s, total: 1min 39s\n",
      "Wall time: 1min 40s\n"
     ]
    }
   ],
   "source": [
    "%%time\n",
    "df['Categories']=df['Categories'].apply(lambda x: ast.literal_eval(x))\n",
    "df['Colors']=df['Colors'].apply(lambda x: ast.literal_eval(x))\n",
    "df['Name']=df['Name'].apply(lambda x: ast.literal_eval(x).decode(\"utf-8\"))\n",
    "df['Brand Name']=df['Brand Name'].apply(lambda x: ast.literal_eval(x).decode(\"utf-8\"))\n",
    "df['Description']=df['Description'].apply(lambda x: ast.literal_eval(x).decode(\"utf-8\"))"
   ]
  },
  {
   "cell_type": "markdown",
   "metadata": {},
   "source": [
    "remove non-cloth products"
   ]
  },
  {
   "cell_type": "code",
   "execution_count": 10,
   "metadata": {},
   "outputs": [],
   "source": [
    "# how many categories appear\n",
    "my_categories = df.Categories.tolist()\n",
    "category_counter = Counter()\n",
    "flat = [w for sublist in my_categories for w in sublist]\n",
    "category_counter.update(flat)\n",
    "#category_counter\n",
    "sorted_category_counter = sorted(category_counter.items(), key=operator.itemgetter(1)) # 1 sort on value; 0 sort on keys\n",
    "#sorted_category_counter"
   ]
  },
  {
   "cell_type": "code",
   "execution_count": 11,
   "metadata": {},
   "outputs": [],
   "source": [
    "non_cloth_term =  set(open(datapath+'non_cloth_term.txt').read().split('\\n'))\n",
    "df=df[df.Categories.apply(lambda x: sum(1 if w in non_cloth_term else 0 for w in x))==0]\n",
    "df.reset_index(inplace=True, drop=True)"
   ]
  },
  {
   "cell_type": "code",
   "execution_count": 12,
   "metadata": {},
   "outputs": [
    {
     "data": {
      "text/plain": [
       "(955818, 9)"
      ]
     },
     "execution_count": 12,
     "metadata": {},
     "output_type": "execute_result"
    }
   ],
   "source": [
    "df.shape"
   ]
  },
  {
   "cell_type": "markdown",
   "metadata": {},
   "source": [
    "modify description"
   ]
  },
  {
   "cell_type": "code",
   "execution_count": 13,
   "metadata": {},
   "outputs": [
    {
     "name": "stdout",
     "output_type": "stream",
     "text": [
      "CPU times: user 22.7 s, sys: 601 ms, total: 23.3 s\n",
      "Wall time: 23.6 s\n"
     ]
    }
   ],
   "source": [
    "%%time\n",
    "# join product names, colors, and categories to descriptions\n",
    "df['Colors'] = df['Colors'].apply(lambda row: ''.join(row)) \n",
    "df['Categories'] = df['Categories'].apply(lambda row: ''.join(row))\n",
    "df['comb_desc'] = df[['Name', 'Description', 'Colors', 'Categories']].apply(lambda row: ' '.join(row), axis=1)"
   ]
  },
  {
   "cell_type": "code",
   "execution_count": 14,
   "metadata": {},
   "outputs": [
    {
     "name": "stdout",
     "output_type": "stream",
     "text": [
      "CPU times: user 27.1 s, sys: 157 ms, total: 27.2 s\n",
      "Wall time: 27.3 s\n"
     ]
    }
   ],
   "source": [
    "%%time\n",
    "# remove brand names in combined descriptions\n",
    "df['comb_desc'] = df.apply(lambda row: row['comb_desc'].replace(row['Brand Name'], ''), axis=1)\n",
    "df['comb_desc'] = df['comb_desc'].str.lower()"
   ]
  },
  {
   "cell_type": "markdown",
   "metadata": {},
   "source": [
    "remove html formats, digits, punctuations and multiple spaces"
   ]
  },
  {
   "cell_type": "code",
   "execution_count": 15,
   "metadata": {},
   "outputs": [],
   "source": [
    "def remove_html_tags(text):\n",
    "    import re\n",
    "    clean = re.compile('<.*?>')\n",
    "    return re.sub(clean, '', text)"
   ]
  },
  {
   "cell_type": "code",
   "execution_count": 16,
   "metadata": {},
   "outputs": [
    {
     "name": "stdout",
     "output_type": "stream",
     "text": [
      "CPU times: user 40.8 s, sys: 85.9 ms, total: 40.9 s\n",
      "Wall time: 41 s\n"
     ]
    }
   ],
   "source": [
    "%%time\n",
    "count = df['comb_desc'].apply(lambda x: lxml.html.fromstring(x).find('.//*') is not None)\n",
    "df.loc[count==True,'comb_desc']=df[count==True]['comb_desc'].apply(lambda html: remove_html_tags(html))"
   ]
  },
  {
   "cell_type": "code",
   "execution_count": 17,
   "metadata": {},
   "outputs": [
    {
     "name": "stdout",
     "output_type": "stream",
     "text": [
      "CPU times: user 36.4 s, sys: 72.9 ms, total: 36.5 s\n",
      "Wall time: 36.6 s\n"
     ]
    }
   ],
   "source": [
    "%%time\n",
    "df['comb_desc']=df['comb_desc'].str.replace('\\d+', ' ')\n",
    "df['comb_desc']=df['comb_desc'].str.replace('[^\\w\\s]','')\n",
    "df['comb_desc']=df['comb_desc'].apply(lambda row: re.sub( '\\s+', ' ', row).strip())"
   ]
  },
  {
   "cell_type": "markdown",
   "metadata": {},
   "source": [
    "plot words length"
   ]
  },
  {
   "cell_type": "code",
   "execution_count": 18,
   "metadata": {},
   "outputs": [
    {
     "data": {
      "text/plain": [
       "Text(0.5,1,'combined descriptions words length')"
      ]
     },
     "execution_count": 18,
     "metadata": {},
     "output_type": "execute_result"
    },
    {
     "data": {
      "image/png": "[encoded data removed]",
      "text/plain": [
       "<Figure size 432x288 with 1 Axes>"
      ]
     },
     "metadata": {},
     "output_type": "display_data"
    }
   ],
   "source": [
    "df['comb_desc'].apply(lambda x: len(x.split(' '))).hist(bins=200, range=[0,200])\n",
    "plt.title('combined descriptions words length')"
   ]
  },
  {
   "cell_type": "markdown",
   "metadata": {},
   "source": [
    "label styles"
   ]
  },
  {
   "cell_type": "code",
   "execution_count": 19,
   "metadata": {},
   "outputs": [],
   "source": [
    "df['Brand Name']=df['Brand Name'].str.lower()"
   ]
  },
  {
   "cell_type": "code",
   "execution_count": 20,
   "metadata": {},
   "outputs": [
    {
     "data": {
      "text/plain": [
       "michael kors        2451\n",
       "burberry            1763\n",
       "gucci               1378\n",
       "carolina herrera    1008\n",
       "coach                177\n",
       "Name: Brand Name, dtype: int64"
      ]
     },
     "execution_count": 20,
     "metadata": {},
     "output_type": "execute_result"
    }
   ],
   "source": [
    "classic_brands=['Chloe', 'Michael Kors', 'Burberry', 'Carolina Herrera', 'Coach', 'Jimmy Choo', 'Gucci', 'Stewart Weitzman', 'Vince']\n",
    "df.loc[df['Brand Name'].isin([x.lower() for x in classic_brands]),'style']='classic'\n",
    "df[df['Brand Name'].isin([x.lower() for x in classic_brands])]['Brand Name'].value_counts()"
   ]
  },
  {
   "cell_type": "code",
   "execution_count": 21,
   "metadata": {},
   "outputs": [
    {
     "data": {
      "text/plain": [
       "alexander wang    3531\n",
       "adidas            1720\n",
       "y-3               1023\n",
       "lacoste            913\n",
       "nike               309\n",
       "lucy               296\n",
       "Name: Brand Name, dtype: int64"
      ]
     },
     "execution_count": 21,
     "metadata": {},
     "output_type": "execute_result"
    }
   ],
   "source": [
    "active_brands=['Lacoste', 'Y-3', 'LuLu Lemon', 'Lucy', 'Toms', 'Alexander Wang', 'Adidas', 'Nike', 'Supreme']\n",
    "df.loc[df['Brand Name'].isin([x.lower() for x in active_brands]),'style']='active'\n",
    "df[df['Brand Name'].isin([x.lower() for x in active_brands])]['Brand Name'].value_counts()"
   ]
  },
  {
   "cell_type": "code",
   "execution_count": 22,
   "metadata": {},
   "outputs": [
    {
     "data": {
      "text/plain": [
       "free people      3989\n",
       "isabel marant    3147\n",
       "rachel zoe       1545\n",
       "haute hippie     1538\n",
       "Name: Brand Name, dtype: int64"
      ]
     },
     "execution_count": 22,
     "metadata": {},
     "output_type": "execute_result"
    }
   ],
   "source": [
    "bohemian_brands=['Haute Hippie', 'Rachel Zoe',  'Diane Von Furstenburg', 'Anthropologie', 'Free People', 'Isabel Marant', 'LF USA']\n",
    "df.loc[df['Brand Name'].isin([x.lower() for x in bohemian_brands]),'style']='bohemian'\n",
    "df[df['Brand Name'].isin([x.lower() for x in bohemian_brands])]['Brand Name'].value_counts()"
   ]
  },
  {
   "cell_type": "code",
   "execution_count": 23,
   "metadata": {},
   "outputs": [
    {
     "data": {
      "text/plain": [
       "rick owens           3715\n",
       "nasty gal            2712\n",
       "alexander mcqueen    2369\n",
       "river island         1310\n",
       "Name: Brand Name, dtype: int64"
      ]
     },
     "execution_count": 23,
     "metadata": {},
     "output_type": "execute_result"
    }
   ],
   "source": [
    "edgy_brands=['Rick Owens', 'Skingraft', 'Alexander McQueen', 'Jonathan Varvatos', 'Rag and Bone', 'All Saints', \n",
    "             'Nasty Gal',  'Victor and Rolf', 'Raf Simmons', 'River Island']\n",
    "df.loc[df['Brand Name'].isin([x.lower() for x in edgy_brands]),'style']='edgy'\n",
    "df.loc[df['Brand Name'].isin([x.lower() for x in edgy_brands])]['Brand Name'].value_counts()"
   ]
  },
  {
   "cell_type": "code",
   "execution_count": 24,
   "metadata": {},
   "outputs": [
    {
     "data": {
      "text/plain": [
       "band of outsiders    307\n",
       "keds                   2\n",
       "Name: Brand Name, dtype: int64"
      ]
     },
     "execution_count": 24,
     "metadata": {},
     "output_type": "execute_result"
    }
   ],
   "source": [
    "hipster_brands=['American Apparel', 'Vans','Band of Outsiders', 'APC', 'Acne','Thrift Stores', 'Keds', 'Urban Outfitters']\n",
    "df.loc[df['Brand Name'].isin([x.lower() for x in hipster_brands]),'style']='hipster'\n",
    "df.loc[df['Brand Name'].isin([x.lower() for x in hipster_brands])]['Brand Name'].value_counts()"
   ]
  },
  {
   "cell_type": "code",
   "execution_count": 25,
   "metadata": {},
   "outputs": [
    {
     "data": {
      "text/plain": [
       "juicy couture    1156\n",
       "Name: Brand Name, dtype: int64"
      ]
     },
     "execution_count": 25,
     "metadata": {},
     "output_type": "execute_result"
    }
   ],
   "source": [
    "glam_brands=['Arden B.', 'Minolo Blanik', 'Betsy Johnson', 'Juicy Couture', 'Bebe', 'BCBG', 'Versace']\n",
    "df.loc[df['Brand Name'].isin([x.lower() for x in glam_brands]),'style']='glam'\n",
    "df.loc[df['Brand Name'].isin([x.lower() for x in glam_brands])]['Brand Name'].value_counts()"
   ]
  },
  {
   "cell_type": "code",
   "execution_count": 26,
   "metadata": {},
   "outputs": [
    {
     "data": {
      "text/plain": [
       "rick owens           3715\n",
       "alexander mcqueen    2369\n",
       "Name: Brand Name, dtype: int64"
      ]
     },
     "execution_count": 26,
     "metadata": {},
     "output_type": "execute_result"
    }
   ],
   "source": [
    "gothic_brands=['Nicolas Ghesquiere', 'Alexander McQueen', 'Marko Mitanovski', 'Attitude', 'Rick Owens', 'Hot Topic']\n",
    "df.loc[df['Brand Name'].isin([x.lower() for x in gothic_brands]),'style']='gothic'\n",
    "df.loc[df['Brand Name'].isin([x.lower() for x in gothic_brands])]['Brand Name'].value_counts()"
   ]
  },
  {
   "cell_type": "code",
   "execution_count": 27,
   "metadata": {},
   "outputs": [
    {
     "data": {
      "text/plain": [
       "calvin klein    3100\n",
       "the row         2342\n",
       "jil sander      1954\n",
       "dkny            1641\n",
       "celine          1079\n",
       "Name: Brand Name, dtype: int64"
      ]
     },
     "execution_count": 27,
     "metadata": {},
     "output_type": "execute_result"
    }
   ],
   "source": [
    "minimalistic_brands=['Celine', 'Jil Sander', 'Margiela', 'Calvin Klein', 'DKNY', 'Halston Heritage', 'The Row', 'Ayr']\n",
    "df.loc[df['Brand Name'].isin([x.lower() for x in minimalistic_brands]),'style']='minimalistic'\n",
    "df.loc[df['Brand Name'].isin([x.lower() for x in minimalistic_brands])]['Brand Name'].value_counts()"
   ]
  },
  {
   "cell_type": "code",
   "execution_count": 28,
   "metadata": {},
   "outputs": [
    {
     "data": {
      "text/plain": [
       "brooks brothers    2558\n",
       "tommy hilfiger     2156\n",
       "l.l. bean           988\n",
       "kate spade          905\n",
       "madewell            676\n",
       "ralph lauren         46\n",
       "Name: Brand Name, dtype: int64"
      ]
     },
     "execution_count": 28,
     "metadata": {},
     "output_type": "execute_result"
    }
   ],
   "source": [
    "preppy_brands=['Brooks Brothers', 'J. Crew', 'Abercrombie', 'Kate Spade', 'Tommy Hilfiger' , 'Abercrombie and fitch', 'L.L. Bean', 'Madewell',\n",
    "               'Ralph Lauren']\n",
    "df.loc[df['Brand Name'].isin([x.lower() for x in preppy_brands]),'style']='preppy'\n",
    "df.loc[df['Brand Name'].isin([x.lower() for x in preppy_brands])]['Brand Name'].value_counts()"
   ]
  },
  {
   "cell_type": "code",
   "execution_count": 29,
   "metadata": {},
   "outputs": [
    {
     "data": {
      "text/plain": [
       "ann demeulemeester    1148\n",
       "jean paul gaultier     391\n",
       "converse               196\n",
       "united bamboo           21\n",
       "Name: Brand Name, dtype: int64"
      ]
     },
     "execution_count": 29,
     "metadata": {},
     "output_type": "execute_result"
    }
   ],
   "source": [
    "punk_brands=['Viviane Westwood', 'Ann Demeulemeester', 'Converse', 'M.A. Julius', 'United Bamboo', 'Jean Paul Gaultier']\n",
    "df.loc[df['Brand Name'].isin([x.lower() for x in punk_brands]),'style']='punk'\n",
    "df.loc[df['Brand Name'].isin([x.lower() for x in punk_brands])]['Brand Name'].value_counts()"
   ]
  },
  {
   "cell_type": "code",
   "execution_count": 30,
   "metadata": {},
   "outputs": [
    {
     "data": {
      "text/plain": [
       "asos                3690\n",
       "moschino            3616\n",
       "proenza schouler    3068\n",
       "zimmermann          1662\n",
       "rosie assoulin       430\n",
       "timo weiland         333\n",
       "Name: Brand Name, dtype: int64"
      ]
     },
     "execution_count": 30,
     "metadata": {},
     "output_type": "execute_result"
    }
   ],
   "source": [
    "sartorial_brands=['Proenza Schouler', 'Rosie Assoulin', 'Timo Weiland', 'Zimmermann', 'ASOS', 'Moschino', 'Comme Des Garcon']\n",
    "df.loc[df['Brand Name'].isin([x.lower() for x in sartorial_brands]),'style']='sartorial'\n",
    "df.loc[df['Brand Name'].isin([x.lower() for x in sartorial_brands])]['Brand Name'].value_counts()"
   ]
  },
  {
   "cell_type": "code",
   "execution_count": 31,
   "metadata": {},
   "outputs": [
    {
     "data": {
      "text/plain": [
       "asos                3690\n",
       "topshop             2416\n",
       "victoria beckham    1447\n",
       "Name: Brand Name, dtype: int64"
      ]
     },
     "execution_count": 31,
     "metadata": {},
     "output_type": "execute_result"
    }
   ],
   "source": [
    "tailored_brands=['Haider Ackerman', 'Victoria Beckham', 'Net-a-porte', 'TopShop', 'ASOS']\n",
    "df.loc[df['Brand Name'].isin([x.lower() for x in tailored_brands]),'style']='tailored'\n",
    "df.loc[df['Brand Name'].isin([x.lower() for x in tailored_brands])]['Brand Name'].value_counts()"
   ]
  },
  {
   "cell_type": "code",
   "execution_count": 32,
   "metadata": {},
   "outputs": [
    {
     "data": {
      "text/plain": [
       "oscar de la renta    2796\n",
       "marchesa             1040\n",
       "Name: Brand Name, dtype: int64"
      ]
     },
     "execution_count": 32,
     "metadata": {},
     "output_type": "execute_result"
    }
   ],
   "source": [
    "romantic_brands=['Oscar de la Renta', 'Valentino', 'BCBG', 'Alice and Oliva', 'Pinky Otto', 'Marchesa']\n",
    "df.loc[df['Brand Name'].isin([x.lower() for x in romantic_brands]),'style']='romantic'\n",
    "df.loc[df['Brand Name'].isin([x.lower() for x in romantic_brands])]['Brand Name'].value_counts()"
   ]
  },
  {
   "cell_type": "code",
   "execution_count": 33,
   "metadata": {
    "scrolled": true
   },
   "outputs": [
    {
     "data": {
      "text/plain": [
       "rachel zoe    1545\n",
       "Name: Brand Name, dtype: int64"
      ]
     },
     "execution_count": 33,
     "metadata": {},
     "output_type": "execute_result"
    }
   ],
   "source": [
    "vintage_brands=['Rachel Zoe', 'Mod Cloth', 'Second Time Around', 'Collette', 'Fish for the Hip']\n",
    "df.loc[df['Brand Name'].isin([x.lower() for x in vintage_brands]),'style']='vintage'\n",
    "df.loc[df['Brand Name'].isin([x.lower() for x in vintage_brands])]['Brand Name'].value_counts()"
   ]
  },
  {
   "cell_type": "code",
   "execution_count": 34,
   "metadata": {
    "scrolled": true
   },
   "outputs": [
    {
     "data": {
      "text/plain": [
       "wrangler    374\n",
       "frye          5\n",
       "Name: Brand Name, dtype: int64"
      ]
     },
     "execution_count": 34,
     "metadata": {},
     "output_type": "execute_result"
    }
   ],
   "source": [
    "western_brands=['Levis', 'Frye', 'Cavenders', 'Wrangler', 'American Eagle', 'Buckle']\n",
    "df.loc[df['Brand Name'].isin([x.lower() for x in western_brands]),'style']='western'\n",
    "df.loc[df['Brand Name'].isin([x.lower() for x in western_brands])]['Brand Name'].value_counts()"
   ]
  },
  {
   "cell_type": "code",
   "execution_count": 55,
   "metadata": {
    "scrolled": false
   },
   "outputs": [
    {
     "data": {
      "text/html": [
       "<div>\n",
       "<style scoped>\n",
       "    .dataframe tbody tr th:only-of-type {\n",
       "        vertical-align: middle;\n",
       "    }\n",
       "\n",
       "    .dataframe tbody tr th {\n",
       "        vertical-align: top;\n",
       "    }\n",
       "\n",
       "    .dataframe thead th {\n",
       "        text-align: right;\n",
       "    }\n",
       "</style>\n",
       "<table border=\"1\" class=\"dataframe\">\n",
       "  <thead>\n",
       "    <tr style=\"text-align: right;\">\n",
       "      <th></th>\n",
       "      <th>Product ID</th>\n",
       "      <th>Name</th>\n",
       "      <th>Brand ID</th>\n",
       "      <th>Brand Name</th>\n",
       "      <th>Description</th>\n",
       "      <th>image_Best</th>\n",
       "      <th>Colors</th>\n",
       "      <th>Categories</th>\n",
       "      <th>From</th>\n",
       "      <th>comb_desc</th>\n",
       "      <th>style</th>\n",
       "    </tr>\n",
       "  </thead>\n",
       "  <tbody>\n",
       "    <tr>\n",
       "      <th>764542</th>\n",
       "      <td>715000052</td>\n",
       "      <td>Chaser Long Sleeve Back Cutout Knit Top</td>\n",
       "      <td>29692</td>\n",
       "      <td>chaser</td>\n",
       "      <td>Machine wash 60% cotton, 40% polyester &lt;ul&gt; &lt;l...</td>\n",
       "      <td>https://img.shopstyle-cdn.com/pim/ee/3e/ee3ee6...</td>\n",
       "      <td>clgry</td>\n",
       "      <td>Longsleeve Tops</td>\n",
       "      <td>shopstyle</td>\n",
       "      <td>long sleeve back cutout knit top machine wash ...</td>\n",
       "      <td>NaN</td>\n",
       "    </tr>\n",
       "    <tr>\n",
       "      <th>435979</th>\n",
       "      <td>713617248</td>\n",
       "      <td>Agnona jersey T-shirt</td>\n",
       "      <td>6304</td>\n",
       "      <td>agnona</td>\n",
       "      <td>White cotton jersey T-shirt from Agnona featur...</td>\n",
       "      <td>https://img.shopstyle-cdn.com/pim/79/3a/793ac8...</td>\n",
       "      <td>White</td>\n",
       "      <td>Tees</td>\n",
       "      <td>shopstyle</td>\n",
       "      <td>jersey tshirt white cotton jersey tshirt from ...</td>\n",
       "      <td>NaN</td>\n",
       "    </tr>\n",
       "    <tr>\n",
       "      <th>385054</th>\n",
       "      <td>642839831</td>\n",
       "      <td>Sanctuary Anabella Top</td>\n",
       "      <td>3860</td>\n",
       "      <td>sanctuary</td>\n",
       "      <td>The Anabella Top is a boho-inspired top featur...</td>\n",
       "      <td>https://img.shopstyle-cdn.com/pim/46/70/4670e7...</td>\n",
       "      <td>Blue</td>\n",
       "      <td>Tops</td>\n",
       "      <td>shopstyle</td>\n",
       "      <td>anabella top the anabella top is a bohoinspire...</td>\n",
       "      <td>NaN</td>\n",
       "    </tr>\n",
       "    <tr>\n",
       "      <th>903846</th>\n",
       "      <td>714806963</td>\n",
       "      <td>Arc'Teryx Veilance ARC'TERYX VEILANCE MEN'S TE...</td>\n",
       "      <td>32941</td>\n",
       "      <td>arcteryx veilance</td>\n",
       "      <td>Arc'Teryx Veilance's slim pants are cut from b...</td>\n",
       "      <td>https://img.shopstyle-cdn.com/pim/14/3c/143c04...</td>\n",
       "      <td>BLACK</td>\n",
       "      <td>Pants</td>\n",
       "      <td>shopstyle</td>\n",
       "      <td>arcteryx veilance arcteryx veilance mens techc...</td>\n",
       "      <td>NaN</td>\n",
       "    </tr>\n",
       "    <tr>\n",
       "      <th>815703</th>\n",
       "      <td>694457010</td>\n",
       "      <td>IRO.JEANS Gnotta Shredded V-Neck Top</td>\n",
       "      <td>31655</td>\n",
       "      <td>iro . jeans</td>\n",
       "      <td>IRO.JEANS takes distressing one step further w...</td>\n",
       "      <td>https://img.shopstyle-cdn.com/pim/14/cc/14cc80...</td>\n",
       "      <td>Black</td>\n",
       "      <td>Tops</td>\n",
       "      <td>shopstyle</td>\n",
       "      <td>irojeans gnotta shredded vneck top irojeans ta...</td>\n",
       "      <td>NaN</td>\n",
       "    </tr>\n",
       "  </tbody>\n",
       "</table>\n",
       "</div>"
      ],
      "text/plain": [
       "       Product ID                                               Name Brand ID  \\\n",
       "764542  715000052            Chaser Long Sleeve Back Cutout Knit Top    29692   \n",
       "435979  713617248                              Agnona jersey T-shirt     6304   \n",
       "385054  642839831                             Sanctuary Anabella Top     3860   \n",
       "903846  714806963  Arc'Teryx Veilance ARC'TERYX VEILANCE MEN'S TE...    32941   \n",
       "815703  694457010               IRO.JEANS Gnotta Shredded V-Neck Top    31655   \n",
       "\n",
       "               Brand Name                                        Description  \\\n",
       "764542             chaser  Machine wash 60% cotton, 40% polyester <ul> <l...   \n",
       "435979             agnona  White cotton jersey T-shirt from Agnona featur...   \n",
       "385054          sanctuary  The Anabella Top is a boho-inspired top featur...   \n",
       "903846  arcteryx veilance  Arc'Teryx Veilance's slim pants are cut from b...   \n",
       "815703        iro . jeans  IRO.JEANS takes distressing one step further w...   \n",
       "\n",
       "                                               image_Best Colors  \\\n",
       "764542  https://img.shopstyle-cdn.com/pim/ee/3e/ee3ee6...  clgry   \n",
       "435979  https://img.shopstyle-cdn.com/pim/79/3a/793ac8...  White   \n",
       "385054  https://img.shopstyle-cdn.com/pim/46/70/4670e7...   Blue   \n",
       "903846  https://img.shopstyle-cdn.com/pim/14/3c/143c04...  BLACK   \n",
       "815703  https://img.shopstyle-cdn.com/pim/14/cc/14cc80...  Black   \n",
       "\n",
       "             Categories       From  \\\n",
       "764542  Longsleeve Tops  shopstyle   \n",
       "435979             Tees  shopstyle   \n",
       "385054             Tops  shopstyle   \n",
       "903846            Pants  shopstyle   \n",
       "815703             Tops  shopstyle   \n",
       "\n",
       "                                                comb_desc style  \n",
       "764542  long sleeve back cutout knit top machine wash ...   NaN  \n",
       "435979  jersey tshirt white cotton jersey tshirt from ...   NaN  \n",
       "385054  anabella top the anabella top is a bohoinspire...   NaN  \n",
       "903846  arcteryx veilance arcteryx veilance mens techc...   NaN  \n",
       "815703  irojeans gnotta shredded vneck top irojeans ta...   NaN  "
      ]
     },
     "execution_count": 55,
     "metadata": {},
     "output_type": "execute_result"
    }
   ],
   "source": [
    "df.sample(5)"
   ]
  },
  {
   "cell_type": "code",
   "execution_count": 56,
   "metadata": {},
   "outputs": [
    {
     "name": "stdout",
     "output_type": "stream",
     "text": [
      "CPU times: user 5.39 s, sys: 3.35 s, total: 8.74 s\n",
      "Wall time: 10.2 s\n"
     ]
    }
   ],
   "source": [
    "%%time\n",
    "# cols_to_keep = ['Product ID','Brand ID','Brand Name', 'comb_desc']\n",
    "df.to_hdf(datastorepath+'shopstyle.h5','table')\n",
    "# df=pd.read_hdf(datastorepath+'shopstyle.h5', 'table')"
   ]
  },
  {
   "cell_type": "markdown",
   "metadata": {},
   "source": [
    "*****"
   ]
  },
  {
   "cell_type": "markdown",
   "metadata": {},
   "source": [
    "### Farfetch"
   ]
  },
  {
   "cell_type": "markdown",
   "metadata": {},
   "source": [
    "read data"
   ]
  },
  {
   "cell_type": "code",
   "execution_count": 36,
   "metadata": {},
   "outputs": [],
   "source": [
    "with open(datapath+'ffetch_13.json', 'r') as f:\n",
    "    data = (line.strip() for line in f)\n",
    "    data_json = \"[{0}]\".format(','.join(data))\n",
    "    df_ff = pd.read_json(data_json)"
   ]
  },
  {
   "cell_type": "code",
   "execution_count": 37,
   "metadata": {},
   "outputs": [],
   "source": [
    "# brands_ff=df_ff.loc[0].designer_brands\n",
    "df_ff.drop(index=0, inplace=True)\n",
    "df_ff.reset_index(inplace=True, drop=True)"
   ]
  },
  {
   "cell_type": "code",
   "execution_count": 38,
   "metadata": {},
   "outputs": [],
   "source": [
    "_id=df_ff['_id'].apply(lambda x: x.get('$oid'))\n",
    "df_ff['product_id']=_id\n",
    "df_ff.drop(columns=['_id', 'date','designer_brands', 'designer_style_id','discount', 'product_stock_volume', \n",
    "                   'product_availability',], inplace=True)"
   ]
  },
  {
   "cell_type": "code",
   "execution_count": 39,
   "metadata": {},
   "outputs": [],
   "source": [
    "cols=['designer_name','designer_original_name', 'product_colour', 'product_description','product_name', 'product_type']\n",
    "df_ff.loc[:,cols]=df_ff[cols].applymap(lambda x: ''.join(x))"
   ]
  },
  {
   "cell_type": "markdown",
   "metadata": {},
   "source": [
    "keep only clothes"
   ]
  },
  {
   "cell_type": "code",
   "execution_count": 40,
   "metadata": {},
   "outputs": [],
   "source": [
    "category_cloths=['Clothing', 'Vintage & Archive', 'Activewear', 'Jackets','Tops', 'Knitwear', 'Dresses', 'Coats', 'Trousers', 'Skirts']\n",
    "df_ff=df_ff[df_ff['product_category'].isin(category_cloths)]"
   ]
  },
  {
   "cell_type": "code",
   "execution_count": 41,
   "metadata": {},
   "outputs": [],
   "source": [
    "category_vintages=['dress', 'jacket', 'skirt', 'coat', 'trousers','shirt', 'blazer', 'top',\n",
    "                    'suit', 'blouse', 'jumper', 'cardigan', 'sweater', 'T-shirt', 'shorts',\n",
    "                    'waistcoat', 'jeans', 'jumpsuit', 'raincoat', 'leggings', 'culottes', 'peacoat',\n",
    "                    't-shirt', 'tunic', 'trouser', 'sweatshirt', 'Jacket', 'dres', 'trenchcoat',\n",
    "                    'cardi-coat', 'playsuit', 'Coat', 'hoodie', 'pants', 'bodysuit', 'bomber', \n",
    "                    'cardigian', 'overcoat', 'midi-skirt', 'Dress', 'SUIT', 'straight', 'tops', 'jakcet', \n",
    "                    'parka', 'JACKET', 'romper', 'JACKETS', 'tailcoat', 'COAT', 'T-shirt',\n",
    "                    'wrapdress', 'Suit', 'DRESSES']\n",
    "test=df_ff[df_ff['product_category']=='Vintage & Archive']['product_name'].apply(lambda x: x.split(' ')[-1])\n",
    "a=set(test.index)\n",
    "b=set(test[test.isin(category_vintages)==True].index)\n",
    "idx=sorted(list(a-b))\n",
    "df_ff=df_ff[~df_ff.index.isin(idx)]\n",
    "df_ff.reset_index(inplace=True, drop=True)"
   ]
  },
  {
   "cell_type": "code",
   "execution_count": 42,
   "metadata": {},
   "outputs": [],
   "source": [
    "category_vin_noncloth=['swimsuit', 'bra', 'briefs', 'socks', 'bikini', 'thong', 'bralette', 'corset', 'tie', 'cuffs', 'maillot', 'knickers', 'towel', 'babydoll',\n",
    "                       'ties', 'suspenders', 'panties', 'leotard', 'thongs', 'bralet', 'swuimsuit', 'brooch', 'slippers', ]\n",
    "test=df_ff['product_name'].apply(lambda x: x.lower())\n",
    "df_ff=df_ff[~test.str.contains('|'.join(category_vin_noncloth))]\n",
    "df_ff.reset_index(inplace=True, drop=True)"
   ]
  },
  {
   "cell_type": "code",
   "execution_count": 43,
   "metadata": {},
   "outputs": [],
   "source": [
    "category_noncloth=['swimwear', 'bikini', 'socks']\n",
    "df_ff=df_ff[df_ff['product_description'].str.contains('|'.join(category_noncloth))==False]\n",
    "df_ff.reset_index(inplace=True, drop=True)\n",
    "test=df_ff['product_description'].str.lower()\n",
    "test=test.str.replace('\\d+', ' ')"
   ]
  },
  {
   "cell_type": "markdown",
   "metadata": {},
   "source": [
    "clean descriptions"
   ]
  },
  {
   "cell_type": "code",
   "execution_count": 44,
   "metadata": {},
   "outputs": [
    {
     "name": "stderr",
     "output_type": "stream",
     "text": [
      "100%|██████████| 78/78 [00:10<00:00,  7.51it/s]\n"
     ]
    }
   ],
   "source": [
    "replace_sents = set(open(datapath+'/replace_sents.txt').read().split('\\n'))\n",
    "for sent in tqdm(replace_sents):\n",
    "    test=test.str.replace(sent, '')\n",
    "test=test.str.replace('[^\\w\\s]','')\n",
    "test=test.apply(lambda row: re.sub('\\s+', ' ', row).strip())"
   ]
  },
  {
   "cell_type": "code",
   "execution_count": 45,
   "metadata": {},
   "outputs": [
    {
     "data": {
      "text/plain": [
       "(106705, 11)"
      ]
     },
     "execution_count": 45,
     "metadata": {},
     "output_type": "execute_result"
    }
   ],
   "source": [
    "df_ff.shape"
   ]
  },
  {
   "cell_type": "code",
   "execution_count": 46,
   "metadata": {},
   "outputs": [],
   "source": [
    "df_ff = df_ff.loc[:,['product_id', 'designer_name', 'designer_original_name', 'product_name', 'product_category', 'product_type', 'product_colour', 'product_description']]\n",
    "df_ff['comb_desc'] = df_ff[['product_name', 'product_description', 'product_colour', 'product_category', 'product_type']].apply(lambda row: ' '.join(row), axis=1)\n",
    "df_ff['comb_desc']=df_ff['comb_desc'].str.lower()\n",
    "df_ff['comb_desc']=df_ff['comb_desc'].apply(lambda row: re.sub('\\s+', ' ', row.replace('[^\\w\\s]','').replace(\"&\", \"\")).strip())"
   ]
  },
  {
   "cell_type": "code",
   "execution_count": 47,
   "metadata": {},
   "outputs": [
    {
     "data": {
      "text/plain": [
       "Text(0.5,1,'descriptions words length')"
      ]
     },
     "execution_count": 47,
     "metadata": {},
     "output_type": "execute_result"
    },
    {
     "data": {
      "image/png": "[encoded data removed]",
      "text/plain": [
       "<Figure size 432x288 with 1 Axes>"
      ]
     },
     "metadata": {},
     "output_type": "display_data"
    }
   ],
   "source": [
    "df_ff['comb_desc'].apply(lambda x: len(x.split(' '))).hist(bins=146, range=[4, 150])\n",
    "plt.title('descriptions words length')"
   ]
  },
  {
   "cell_type": "code",
   "execution_count": 48,
   "metadata": {},
   "outputs": [],
   "source": [
    "df_ff['From']='farfetch'"
   ]
  },
  {
   "cell_type": "code",
   "execution_count": 8,
   "metadata": {},
   "outputs": [
    {
     "name": "stdout",
     "output_type": "stream",
     "text": [
      "[nltk_data] Downloading package words to /Users/yiru/nltk_data...\n",
      "[nltk_data]   Package words is already up-to-date!\n"
     ]
    }
   ],
   "source": [
    "import nltk\n",
    "nltk.download('words')\n",
    "words = set(nltk.corpus.words.words())"
   ]
  },
  {
   "cell_type": "code",
   "execution_count": 133,
   "metadata": {},
   "outputs": [],
   "source": [
    "test=df_ff['comb_desc']\n",
    "test=test.str.replace('\\d+','')\n",
    "test=test.str.replace('/',' ')\n",
    "test=test.str.replace('-','')\n",
    "test=test.str.replace('_','')\n",
    "test=test.apply(lambda row: ' '.join(w for w in nltk.wordpunct_tokenize(row) if w in words or not w.isalpha()))\n",
    "test=test.str.replace(',','')\n",
    "test=test.str.replace('[^\\w\\s]','')\n",
    "test=test.apply(lambda row: re.sub('\\s+', ' ', row).strip())\n",
    "df_ff['comb_desc']=test"
   ]
  },
  {
   "cell_type": "code",
   "execution_count": 140,
   "metadata": {},
   "outputs": [],
   "source": [
    "test=df_ff['designer_original_name'].str.lower()\n",
    "test[test.str.contains('vintage')==True]=test[test.str.contains('vintage')==True].str.replace('vintage', '')\n",
    "test=test.apply(lambda row: row.rstrip())\n",
    "df_ff['designer_original_name']=test"
   ]
  },
  {
   "cell_type": "markdown",
   "metadata": {},
   "source": [
    "label style"
   ]
  },
  {
   "cell_type": "code",
   "execution_count": 141,
   "metadata": {},
   "outputs": [
    {
     "data": {
      "text/html": [
       "<div>\n",
       "<style scoped>\n",
       "    .dataframe tbody tr th:only-of-type {\n",
       "        vertical-align: middle;\n",
       "    }\n",
       "\n",
       "    .dataframe tbody tr th {\n",
       "        vertical-align: top;\n",
       "    }\n",
       "\n",
       "    .dataframe thead th {\n",
       "        text-align: right;\n",
       "    }\n",
       "</style>\n",
       "<table border=\"1\" class=\"dataframe\">\n",
       "  <thead>\n",
       "    <tr style=\"text-align: right;\">\n",
       "      <th></th>\n",
       "      <th>0</th>\n",
       "      <th>1</th>\n",
       "      <th>2</th>\n",
       "      <th>3</th>\n",
       "      <th>4</th>\n",
       "      <th>5</th>\n",
       "      <th>6</th>\n",
       "      <th>7</th>\n",
       "      <th>8</th>\n",
       "      <th>9</th>\n",
       "      <th>...</th>\n",
       "      <th>33</th>\n",
       "      <th>34</th>\n",
       "      <th>35</th>\n",
       "      <th>36</th>\n",
       "      <th>37</th>\n",
       "      <th>38</th>\n",
       "      <th>39</th>\n",
       "      <th>40</th>\n",
       "      <th>41</th>\n",
       "      <th>42</th>\n",
       "    </tr>\n",
       "  </thead>\n",
       "  <tbody>\n",
       "    <tr>\n",
       "      <th>Style Name</th>\n",
       "      <td>athleisure</td>\n",
       "      <td>athleisure</td>\n",
       "      <td>athleisure</td>\n",
       "      <td>athleisure</td>\n",
       "      <td>athleisure</td>\n",
       "      <td>athleisure</td>\n",
       "      <td>bohemian</td>\n",
       "      <td>bohemian</td>\n",
       "      <td>bohemian</td>\n",
       "      <td>bohemian</td>\n",
       "      <td>...</td>\n",
       "      <td>preppy</td>\n",
       "      <td>preppy</td>\n",
       "      <td>preppy</td>\n",
       "      <td>glam</td>\n",
       "      <td>gothic</td>\n",
       "      <td>gothic</td>\n",
       "      <td>gothic</td>\n",
       "      <td>gothic</td>\n",
       "      <td>punk</td>\n",
       "      <td>punk</td>\n",
       "    </tr>\n",
       "    <tr>\n",
       "      <th>Brand</th>\n",
       "      <td>adidas</td>\n",
       "      <td>ivy park</td>\n",
       "      <td>puma</td>\n",
       "      <td>lululemon</td>\n",
       "      <td>champion</td>\n",
       "      <td>nike</td>\n",
       "      <td>raquel allegra</td>\n",
       "      <td>isabel marant</td>\n",
       "      <td>free people</td>\n",
       "      <td>anthropologie</td>\n",
       "      <td>...</td>\n",
       "      <td>tommy hilfiger</td>\n",
       "      <td>j crew</td>\n",
       "      <td>ralph lauren</td>\n",
       "      <td>versace</td>\n",
       "      <td>rick owens</td>\n",
       "      <td>damir doma</td>\n",
       "      <td>alexander mcqueen</td>\n",
       "      <td>all saints</td>\n",
       "      <td>vivienne westwood</td>\n",
       "      <td>jean paul gaultier</td>\n",
       "    </tr>\n",
       "  </tbody>\n",
       "</table>\n",
       "<p>2 rows × 43 columns</p>\n",
       "</div>"
      ],
      "text/plain": [
       "                    0           1           2           3           4   \\\n",
       "Style Name  athleisure  athleisure  athleisure  athleisure  athleisure   \n",
       "Brand           adidas    ivy park        puma   lululemon    champion   \n",
       "\n",
       "                    5               6              7            8   \\\n",
       "Style Name  athleisure        bohemian       bohemian     bohemian   \n",
       "Brand             nike  raquel allegra  isabel marant  free people   \n",
       "\n",
       "                       9          ...                      33      34  \\\n",
       "Style Name       bohemian         ...                  preppy  preppy   \n",
       "Brand       anthropologie         ...          tommy hilfiger  j crew   \n",
       "\n",
       "                      35       36          37          38                 39  \\\n",
       "Style Name        preppy     glam      gothic      gothic             gothic   \n",
       "Brand       ralph lauren  versace  rick owens  damir doma  alexander mcqueen   \n",
       "\n",
       "                    40                 41                  42  \n",
       "Style Name      gothic               punk                punk  \n",
       "Brand       all saints  vivienne westwood  jean paul gaultier  \n",
       "\n",
       "[2 rows x 43 columns]"
      ]
     },
     "execution_count": 141,
     "metadata": {},
     "output_type": "execute_result"
    }
   ],
   "source": [
    "# pd.set_option('display.expand_frame_repr', False)\n",
    "style=pd.read_csv(datapath+'styles.csv')\n",
    "style['Style Name']=style['Style Name'].str.lower()\n",
    "style['Brand']=style['Brand'].str.lower()\n",
    "style.T"
   ]
  },
  {
   "cell_type": "code",
   "execution_count": 142,
   "metadata": {},
   "outputs": [],
   "source": [
    "style_dict=dict(zip(list(style['Brand']), list(style['Style Name'])))"
   ]
  },
  {
   "cell_type": "code",
   "execution_count": 143,
   "metadata": {},
   "outputs": [],
   "source": [
    "df_ff['style']=df_ff['designer_original_name'].apply(lambda row: style_dict.get(row))"
   ]
  },
  {
   "cell_type": "code",
   "execution_count": 144,
   "metadata": {},
   "outputs": [
    {
     "data": {
      "text/plain": [
       "gothic          1428\n",
       "minimalistic    1285\n",
       "classic          979\n",
       "romantic         891\n",
       "bohemian         868\n",
       "edgy             673\n",
       "glam             555\n",
       "punk             404\n",
       "athleisure       263\n",
       "preppy           163\n",
       "Name: style, dtype: int64"
      ]
     },
     "execution_count": 144,
     "metadata": {},
     "output_type": "execute_result"
    }
   ],
   "source": [
    "df_ff['style'][df_ff['style'].notnull()==True].value_counts()"
   ]
  },
  {
   "cell_type": "code",
   "execution_count": 145,
   "metadata": {},
   "outputs": [
    {
     "data": {
      "text/html": [
       "<div>\n",
       "<style scoped>\n",
       "    .dataframe tbody tr th:only-of-type {\n",
       "        vertical-align: middle;\n",
       "    }\n",
       "\n",
       "    .dataframe tbody tr th {\n",
       "        vertical-align: top;\n",
       "    }\n",
       "\n",
       "    .dataframe thead th {\n",
       "        text-align: right;\n",
       "    }\n",
       "</style>\n",
       "<table border=\"1\" class=\"dataframe\">\n",
       "  <thead>\n",
       "    <tr style=\"text-align: right;\">\n",
       "      <th></th>\n",
       "      <th>product_id</th>\n",
       "      <th>designer_name</th>\n",
       "      <th>designer_original_name</th>\n",
       "      <th>product_name</th>\n",
       "      <th>product_category</th>\n",
       "      <th>product_type</th>\n",
       "      <th>product_colour</th>\n",
       "      <th>product_description</th>\n",
       "      <th>comb_desc</th>\n",
       "      <th>From</th>\n",
       "      <th>style</th>\n",
       "    </tr>\n",
       "  </thead>\n",
       "  <tbody>\n",
       "    <tr>\n",
       "      <th>49248</th>\n",
       "      <td>5af827a74500d65f249ed6eb</td>\n",
       "      <td>kimoraleesimmons</td>\n",
       "      <td>kimora lee simmons</td>\n",
       "      <td>Alana jumpsuit</td>\n",
       "      <td>Clothing</td>\n",
       "      <td>Women</td>\n",
       "      <td>BLACK, Black/White</td>\n",
       "      <td>Black and white silk blend Alana jumpsuit from...</td>\n",
       "      <td>black and white silk blend from lee black blac...</td>\n",
       "      <td>farfetch</td>\n",
       "      <td>None</td>\n",
       "    </tr>\n",
       "    <tr>\n",
       "      <th>83340</th>\n",
       "      <td>5af83e584500d65f249f6b9f</td>\n",
       "      <td>balmain</td>\n",
       "      <td>balmain</td>\n",
       "      <td>high-waisted wrap skirt</td>\n",
       "      <td>Clothing</td>\n",
       "      <td>Women</td>\n",
       "      <td>BLUE, C3160</td>\n",
       "      <td>Balmain serves up its signature nautical style...</td>\n",
       "      <td>wrap skirt up its signature nautical style wit...</td>\n",
       "      <td>farfetch</td>\n",
       "      <td>None</td>\n",
       "    </tr>\n",
       "    <tr>\n",
       "      <th>37214</th>\n",
       "      <td>5af81eb34500d65f249e9c5a</td>\n",
       "      <td>carolineconstas</td>\n",
       "      <td>caroline constas</td>\n",
       "      <td>checked off shoulder blouse</td>\n",
       "      <td>Clothing</td>\n",
       "      <td>Women</td>\n",
       "      <td>BLUE, PERIWINKLE</td>\n",
       "      <td>Blue checked off shoulder blouse from Caroline...</td>\n",
       "      <td>checked off shoulder blouse blue checked off s...</td>\n",
       "      <td>farfetch</td>\n",
       "      <td>None</td>\n",
       "    </tr>\n",
       "    <tr>\n",
       "      <th>25916</th>\n",
       "      <td>5af816b34500d65f249e678e</td>\n",
       "      <td>forteforte</td>\n",
       "      <td>forte forte</td>\n",
       "      <td>long-sleeved shirt</td>\n",
       "      <td>Clothing</td>\n",
       "      <td>Women</td>\n",
       "      <td>WHITE, AVORIO</td>\n",
       "      <td>White cotton long-sleeved shirt from Forte For...</td>\n",
       "      <td>shirt white cotton shirt from forte forte a cl...</td>\n",
       "      <td>farfetch</td>\n",
       "      <td>None</td>\n",
       "    </tr>\n",
       "    <tr>\n",
       "      <th>83585</th>\n",
       "      <td>5af83e8d4500d65f249f6caa</td>\n",
       "      <td>stellamccartney</td>\n",
       "      <td>stella mccartney</td>\n",
       "      <td>knitted tank top</td>\n",
       "      <td>Clothing</td>\n",
       "      <td>Women</td>\n",
       "      <td>WHITE, 9000</td>\n",
       "      <td>Stella McCartney has developed a reputation of...</td>\n",
       "      <td>knitted tank top stella a reputation of distin...</td>\n",
       "      <td>farfetch</td>\n",
       "      <td>None</td>\n",
       "    </tr>\n",
       "  </tbody>\n",
       "</table>\n",
       "</div>"
      ],
      "text/plain": [
       "                     product_id     designer_name designer_original_name  \\\n",
       "49248  5af827a74500d65f249ed6eb  kimoraleesimmons     kimora lee simmons   \n",
       "83340  5af83e584500d65f249f6b9f           balmain                balmain   \n",
       "37214  5af81eb34500d65f249e9c5a   carolineconstas       caroline constas   \n",
       "25916  5af816b34500d65f249e678e        forteforte            forte forte   \n",
       "83585  5af83e8d4500d65f249f6caa   stellamccartney       stella mccartney   \n",
       "\n",
       "                      product_name product_category product_type  \\\n",
       "49248               Alana jumpsuit         Clothing        Women   \n",
       "83340      high-waisted wrap skirt         Clothing        Women   \n",
       "37214  checked off shoulder blouse         Clothing        Women   \n",
       "25916           long-sleeved shirt         Clothing        Women   \n",
       "83585             knitted tank top         Clothing        Women   \n",
       "\n",
       "           product_colour                                product_description  \\\n",
       "49248  BLACK, Black/White  Black and white silk blend Alana jumpsuit from...   \n",
       "83340         BLUE, C3160  Balmain serves up its signature nautical style...   \n",
       "37214    BLUE, PERIWINKLE  Blue checked off shoulder blouse from Caroline...   \n",
       "25916       WHITE, AVORIO  White cotton long-sleeved shirt from Forte For...   \n",
       "83585         WHITE, 9000  Stella McCartney has developed a reputation of...   \n",
       "\n",
       "                                               comb_desc      From style  \n",
       "49248  black and white silk blend from lee black blac...  farfetch  None  \n",
       "83340  wrap skirt up its signature nautical style wit...  farfetch  None  \n",
       "37214  checked off shoulder blouse blue checked off s...  farfetch  None  \n",
       "25916  shirt white cotton shirt from forte forte a cl...  farfetch  None  \n",
       "83585  knitted tank top stella a reputation of distin...  farfetch  None  "
      ]
     },
     "execution_count": 145,
     "metadata": {},
     "output_type": "execute_result"
    }
   ],
   "source": [
    "df_ff.sample(5)"
   ]
  },
  {
   "cell_type": "markdown",
   "metadata": {},
   "source": [
    "store data"
   ]
  },
  {
   "cell_type": "code",
   "execution_count": 146,
   "metadata": {},
   "outputs": [
    {
     "name": "stdout",
     "output_type": "stream",
     "text": [
      "CPU times: user 609 ms, sys: 139 ms, total: 748 ms\n",
      "Wall time: 857 ms\n"
     ]
    }
   ],
   "source": [
    "%%time\n",
    "# cols_to_keep = ['Product ID','Brand ID','Brand Name', 'comb_desc']\n",
    "df_ff.to_hdf(datastorepath+'farfetch.h5','table')\n",
    "# df_ff=pd.read_hdf(datastorepath+'farfetch.h5', 'table')"
   ]
  },
  {
   "cell_type": "markdown",
   "metadata": {},
   "source": [
    "*****"
   ]
  },
  {
   "cell_type": "markdown",
   "metadata": {},
   "source": [
    "### NAP"
   ]
  },
  {
   "cell_type": "code",
   "execution_count": 147,
   "metadata": {},
   "outputs": [],
   "source": [
    "with open(datapath+'/nap.json', 'r') as f:\n",
    "    data = (line.strip() for line in f)\n",
    "    data_json = \"[{0}]\".format(','.join(data))\n",
    "    df_nap = pd.read_json(data_json)"
   ]
  },
  {
   "cell_type": "code",
   "execution_count": 148,
   "metadata": {},
   "outputs": [],
   "source": [
    "# brands_nap=df_nap.loc[0].designer_brands\n",
    "df_nap.drop(index=0, inplace=True)\n",
    "df_nap.reset_index(inplace=True, drop=True)\n",
    "\n",
    "_id=df_nap['_id'].apply(lambda x: x.get('$oid'))\n",
    "df_nap['product_id']=_id\n",
    "df_nap.drop(columns=['_id', 'date','designer_brands', 'product_availability',], inplace=True)"
   ]
  },
  {
   "cell_type": "code",
   "execution_count": 149,
   "metadata": {},
   "outputs": [],
   "source": [
    "cols=['designer_name','designer_original_name', 'nap_id', 'product_description']\n",
    "df_nap.loc[:,cols]=df_nap[cols].applymap(lambda x: ''.join(x))"
   ]
  },
  {
   "cell_type": "code",
   "execution_count": 150,
   "metadata": {},
   "outputs": [],
   "source": [
    "df_nap=df_nap[df_nap['product_category'].str.contains('Clothing')]\n",
    "df_nap=df_nap[~df_nap['product_category'].str.contains('Beachwear')]\n",
    "df_nap=df_nap[~df_nap['product_category'].str.contains('Accessories')]\n",
    "df_nap.reset_index(inplace=True, drop=True)"
   ]
  },
  {
   "cell_type": "code",
   "execution_count": 151,
   "metadata": {},
   "outputs": [],
   "source": [
    "def rmv_ele(row, index):\n",
    "    row.pop(index)\n",
    "    return row\n",
    "test=df_nap['product_description']\n",
    "test=test.apply(lambda row: row.replace('][', '- ').replace(\".'\", '- ').replace(\"'. '\", \"- \").replace(\"', '\", \"- \"))\n",
    "test=test.str.replace('\\d+', ' ')"
   ]
  },
  {
   "cell_type": "code",
   "execution_count": 152,
   "metadata": {},
   "outputs": [
    {
     "name": "stderr",
     "output_type": "stream",
     "text": [
      "100%|██████████| 78/78 [00:01<00:00, 44.19it/s]\n"
     ]
    }
   ],
   "source": [
    "replace_sents = set(open(datapath+'replace_sents.txt').read().split('\\n'))\n",
    "for sent in tqdm(replace_sents):\n",
    "    test=test.str.replace(sent, '')"
   ]
  },
  {
   "cell_type": "code",
   "execution_count": 153,
   "metadata": {},
   "outputs": [],
   "source": [
    "test=test.apply(lambda row: row.split('- '))\n",
    "test=test.apply(lambda row: row[3:])\n",
    "test=test.apply(lambda row: rmv_ele(row, 1))\n",
    "test=test.apply(lambda row: \" \".join(row))\n",
    "test=test.apply(lambda row: re.sub( '\\s+', ' ', row ).strip())"
   ]
  },
  {
   "cell_type": "code",
   "execution_count": 154,
   "metadata": {},
   "outputs": [],
   "source": [
    "test=test.str.lower()\n",
    "df_nap['product_description']=test"
   ]
  },
  {
   "cell_type": "code",
   "execution_count": 155,
   "metadata": {},
   "outputs": [],
   "source": [
    "df_nap = df_nap[['product_id', 'designer_name', 'designer_original_name', 'product_name', 'product_category', 'product_description']]\n",
    "df_nap['comb_desc'] = df_nap[['product_name', 'product_description', 'product_category']].apply(lambda row: ' '.join(row), axis=1)\n",
    "df_nap['comb_desc']=df_nap['comb_desc'].str.lower().replace('[^\\w\\s]','')"
   ]
  },
  {
   "cell_type": "code",
   "execution_count": 156,
   "metadata": {},
   "outputs": [],
   "source": [
    "df_nap['comb_desc']=df_nap['comb_desc'].apply(lambda row: re.sub('\\s+', ' ', row.replace('[^\\w\\s]','').replace(\"&\", \"\").replace(\"/\", '')).strip())"
   ]
  },
  {
   "cell_type": "code",
   "execution_count": 157,
   "metadata": {},
   "outputs": [
    {
     "data": {
      "text/plain": [
       "Text(0.5,1,'descriptions words length')"
      ]
     },
     "execution_count": 157,
     "metadata": {},
     "output_type": "execute_result"
    },
    {
     "data": {
      "image/png": "[encoded data removed]",
      "text/plain": [
       "<Figure size 432x288 with 1 Axes>"
      ]
     },
     "metadata": {},
     "output_type": "display_data"
    }
   ],
   "source": [
    "df_nap['comb_desc'].apply(lambda x: len(x.split(' '))).hist(bins=143, range=[34, 177])\n",
    "plt.title('descriptions words length')"
   ]
  },
  {
   "cell_type": "code",
   "execution_count": 158,
   "metadata": {},
   "outputs": [],
   "source": [
    "df_nap['From']='nap'"
   ]
  },
  {
   "cell_type": "code",
   "execution_count": 253,
   "metadata": {},
   "outputs": [],
   "source": [
    "test=df_nap['comb_desc']\n",
    "test=test.str.replace('\\d+','')\n",
    "test=test.str.replace('/',' ')\n",
    "test=test.str.replace('-','')\n",
    "test=test.str.replace('_','')\n",
    "test=test.str.replace(',','')\n",
    "test=test.str.replace('[^\\w\\s]','')\n",
    "#test=test.apply(lambda row: ' '.join(w for w in nltk.wordpunct_tokenize(row) if w in words or not w.isalpha()))\n",
    "test=test.apply(lambda row: re.sub('\\s+', ' ', row).strip())\n",
    "df_nap['comb_desc']=test"
   ]
  },
  {
   "cell_type": "markdown",
   "metadata": {},
   "source": [
    "label style"
   ]
  },
  {
   "cell_type": "code",
   "execution_count": 254,
   "metadata": {},
   "outputs": [],
   "source": [
    "df_nap['style']=df_nap['designer_original_name'].str.lower().apply(lambda row: style_dict.get(row))"
   ]
  },
  {
   "cell_type": "code",
   "execution_count": 255,
   "metadata": {},
   "outputs": [
    {
     "data": {
      "text/plain": [
       "romantic        220\n",
       "gothic          172\n",
       "minimalistic    139\n",
       "bohemian        114\n",
       "classic         98 \n",
       "edgy            89 \n",
       "glam            30 \n",
       "punk            16 \n",
       "Name: style, dtype: int64"
      ]
     },
     "execution_count": 255,
     "metadata": {},
     "output_type": "execute_result"
    }
   ],
   "source": [
    "df_nap['style'][df_nap['style'].notnull()==True].value_counts()"
   ]
  },
  {
   "cell_type": "code",
   "execution_count": 161,
   "metadata": {},
   "outputs": [
    {
     "data": {
      "text/html": [
       "<div>\n",
       "<style scoped>\n",
       "    .dataframe tbody tr th:only-of-type {\n",
       "        vertical-align: middle;\n",
       "    }\n",
       "\n",
       "    .dataframe tbody tr th {\n",
       "        vertical-align: top;\n",
       "    }\n",
       "\n",
       "    .dataframe thead th {\n",
       "        text-align: right;\n",
       "    }\n",
       "</style>\n",
       "<table border=\"1\" class=\"dataframe\">\n",
       "  <thead>\n",
       "    <tr style=\"text-align: right;\">\n",
       "      <th></th>\n",
       "      <th>product_id</th>\n",
       "      <th>designer_name</th>\n",
       "      <th>designer_original_name</th>\n",
       "      <th>product_name</th>\n",
       "      <th>product_category</th>\n",
       "      <th>product_description</th>\n",
       "      <th>comb_desc</th>\n",
       "      <th>From</th>\n",
       "      <th>style</th>\n",
       "    </tr>\n",
       "  </thead>\n",
       "  <tbody>\n",
       "    <tr>\n",
       "      <th>8318</th>\n",
       "      <td>5b0140f24500d65c4d2fe113</td>\n",
       "      <td>michaelmichaelkors</td>\n",
       "      <td>MICHAEL Michael Kors</td>\n",
       "      <td>Open-knit cotton-blend sweater</td>\n",
       "      <td>Clothing / Knitwear / Medium Knit</td>\n",
       "      <td>designed for a loose fit dropped shoulder seam...</td>\n",
       "      <td>open-knit cotton-blend sweater designed for a ...</td>\n",
       "      <td>nap</td>\n",
       "      <td>None</td>\n",
       "    </tr>\n",
       "    <tr>\n",
       "      <th>8548</th>\n",
       "      <td>5b0140ff4500d65c4d2fe266</td>\n",
       "      <td>jamesperse</td>\n",
       "      <td>James Perse</td>\n",
       "      <td>Genie Supima cotton-terry track pants</td>\n",
       "      <td>Clothing / Pants / Track Pants</td>\n",
       "      <td>fits true to size, take your normal size cut f...</td>\n",
       "      <td>genie supima cotton-terry track pants fits tru...</td>\n",
       "      <td>nap</td>\n",
       "      <td>None</td>\n",
       "    </tr>\n",
       "    <tr>\n",
       "      <th>3689</th>\n",
       "      <td>5b013f834500d65c4d2fbd11</td>\n",
       "      <td>stellamccartney</td>\n",
       "      <td>Stella McCartney</td>\n",
       "      <td>Crystal-embellished mesh and cady gown</td>\n",
       "      <td>Clothing / Dresses / Gowns</td>\n",
       "      <td>intended to be fitted at the bust and waist, s...</td>\n",
       "      <td>crystal-embellished mesh and cady gown intende...</td>\n",
       "      <td>nap</td>\n",
       "      <td>None</td>\n",
       "    </tr>\n",
       "    <tr>\n",
       "      <th>9591</th>\n",
       "      <td>5b0141854500d65c4d2fefd1</td>\n",
       "      <td>madewell</td>\n",
       "      <td>Madewell</td>\n",
       "      <td>Ex-Boyfriend cotton-chambray shirt</td>\n",
       "      <td>Clothing / Tops / Shirts</td>\n",
       "      <td>designed for a relaxed fit mid-weight, non-str...</td>\n",
       "      <td>ex-boyfriend cotton-chambray shirt designed fo...</td>\n",
       "      <td>nap</td>\n",
       "      <td>None</td>\n",
       "    </tr>\n",
       "    <tr>\n",
       "      <th>2452</th>\n",
       "      <td>5b013f484500d65c4d2fb748</td>\n",
       "      <td>calvinklein205w39nyc</td>\n",
       "      <td>CALVIN KLEIN 205W39NYC</td>\n",
       "      <td>Coated cotton-blend canvas trench coat</td>\n",
       "      <td>Clothing / Coats / Trench Coats</td>\n",
       "      <td>designed for a swing cut, use the belt to cinc...</td>\n",
       "      <td>coated cotton-blend canvas trench coat designe...</td>\n",
       "      <td>nap</td>\n",
       "      <td>None</td>\n",
       "    </tr>\n",
       "  </tbody>\n",
       "</table>\n",
       "</div>"
      ],
      "text/plain": [
       "                    product_id         designer_name  designer_original_name  \\\n",
       "8318  5b0140f24500d65c4d2fe113    michaelmichaelkors    MICHAEL Michael Kors   \n",
       "8548  5b0140ff4500d65c4d2fe266            jamesperse             James Perse   \n",
       "3689  5b013f834500d65c4d2fbd11       stellamccartney        Stella McCartney   \n",
       "9591  5b0141854500d65c4d2fefd1              madewell                Madewell   \n",
       "2452  5b013f484500d65c4d2fb748  calvinklein205w39nyc  CALVIN KLEIN 205W39NYC   \n",
       "\n",
       "                                product_name  \\\n",
       "8318          Open-knit cotton-blend sweater   \n",
       "8548   Genie Supima cotton-terry track pants   \n",
       "3689  Crystal-embellished mesh and cady gown   \n",
       "9591     Ex-Boyfriend cotton-chambray shirt    \n",
       "2452  Coated cotton-blend canvas trench coat   \n",
       "\n",
       "                       product_category  \\\n",
       "8318  Clothing / Knitwear / Medium Knit   \n",
       "8548     Clothing / Pants / Track Pants   \n",
       "3689         Clothing / Dresses / Gowns   \n",
       "9591           Clothing / Tops / Shirts   \n",
       "2452    Clothing / Coats / Trench Coats   \n",
       "\n",
       "                                    product_description  \\\n",
       "8318  designed for a loose fit dropped shoulder seam...   \n",
       "8548  fits true to size, take your normal size cut f...   \n",
       "3689  intended to be fitted at the bust and waist, s...   \n",
       "9591  designed for a relaxed fit mid-weight, non-str...   \n",
       "2452  designed for a swing cut, use the belt to cinc...   \n",
       "\n",
       "                                              comb_desc From style  \n",
       "8318  open-knit cotton-blend sweater designed for a ...  nap  None  \n",
       "8548  genie supima cotton-terry track pants fits tru...  nap  None  \n",
       "3689  crystal-embellished mesh and cady gown intende...  nap  None  \n",
       "9591  ex-boyfriend cotton-chambray shirt designed fo...  nap  None  \n",
       "2452  coated cotton-blend canvas trench coat designe...  nap  None  "
      ]
     },
     "execution_count": 161,
     "metadata": {},
     "output_type": "execute_result"
    }
   ],
   "source": [
    "df_nap.sample(5)"
   ]
  },
  {
   "cell_type": "code",
   "execution_count": 256,
   "metadata": {},
   "outputs": [
    {
     "name": "stdout",
     "output_type": "stream",
     "text": [
      "CPU times: user 42.3 ms, sys: 24.7 ms, total: 66.9 ms\n",
      "Wall time: 78.2 ms\n"
     ]
    }
   ],
   "source": [
    "%%time\n",
    "# cols_to_keep = ['Product ID','Brand ID','Brand Name', 'comb_desc']\n",
    "df_nap.to_hdf(datastorepath+'nap.h5','table')\n",
    "# df_ff=pd.read_hdf('datastorepath+'nap.h5', 'table')"
   ]
  },
  {
   "cell_type": "markdown",
   "metadata": {},
   "source": [
    "*****"
   ]
  },
  {
   "cell_type": "markdown",
   "metadata": {},
   "source": [
    "combine dataset"
   ]
  },
  {
   "cell_type": "code",
   "execution_count": 261,
   "metadata": {},
   "outputs": [],
   "source": [
    "df_ff=df_ff[['product_id', 'designer_original_name', 'product_name', 'comb_desc', 'From', 'style']]\n",
    "df_nap=df_nap[['product_id', 'designer_original_name', 'product_name', 'comb_desc', 'From', 'style']]\n",
    "df_ss=df[['Product ID', 'Brand Name', 'Name', 'comb_desc', 'From', 'style']]\n",
    "df_ss.columns=['product_id', 'designer_original_name', 'product_name', 'comb_desc', 'From', 'style']"
   ]
  },
  {
   "cell_type": "code",
   "execution_count": 305,
   "metadata": {},
   "outputs": [],
   "source": [
    "df=df_ss.append(df_nap.append(df_ff, ignore_index=True), ignore_index=True)"
   ]
  },
  {
   "cell_type": "code",
   "execution_count": 307,
   "metadata": {},
   "outputs": [],
   "source": [
    "test=df['comb_desc']\n",
    "test=test.str.replace('\\d+','')\n",
    "test=test.str.replace('/',' ')\n",
    "test=test.str.replace('-','')\n",
    "test=test.str.replace('_','')\n",
    "#test=test.apply(lambda row: ' '.join(w for w in nltk.wordpunct_tokenize(row) if w in words or not w.isalpha()))\n",
    "test=test.str.replace(',','')\n",
    "test=test.str.replace('[^\\w\\s]','')\n",
    "test=test.apply(lambda row: re.sub('\\s+', ' ', row).strip())\n",
    "df['comb_desc']=test"
   ]
  },
  {
   "cell_type": "code",
   "execution_count": 26,
   "metadata": {},
   "outputs": [],
   "source": [
    "#remove non english words\n",
    "test=df['comb_desc']\n",
    "test=test.apply(lambda row: ' '.join(w for w in nltk.wordpunct_tokenize(row) if w in words or not w.isalpha()))\n",
    "df['comb_desc']=test"
   ]
  },
  {
   "cell_type": "code",
   "execution_count": 27,
   "metadata": {},
   "outputs": [],
   "source": [
    "df.to_hdf(datastorepath+'df.h5','table')\n",
    "#df=pd.read_hdf(datastorepath+'df.h5','table')"
   ]
  }
 ],
 "metadata": {
  "kernelspec": {
   "display_name": "Python (fashion_project)",
   "language": "python",
   "name": "fashion_project"
  },
  "language_info": {
   "codemirror_mode": {
    "name": "ipython",
    "version": 3
   },
   "file_extension": ".py",
   "mimetype": "text/x-python",
   "name": "python",
   "nbconvert_exporter": "python",
   "pygments_lexer": "ipython3",
   "version": "3.6.1"
  }
 },
 "nbformat": 4,
 "nbformat_minor": 2
}
