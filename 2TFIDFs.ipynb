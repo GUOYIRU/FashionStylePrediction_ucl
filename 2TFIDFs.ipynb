{
 "cells": [
  {
   "cell_type": "code",
   "execution_count": 1,
   "metadata": {},
   "outputs": [
    {
     "data": {
      "text/html": [
       "<style>.container { width:100% !important; }</style>"
      ],
      "text/plain": [
       "<IPython.core.display.HTML object>"
      ]
     },
     "metadata": {},
     "output_type": "display_data"
    }
   ],
   "source": [
    "from IPython.core.display import display, HTML\n",
    "display(HTML(\"<style>.container { width:100% !important; }</style>\"))"
   ]
  },
  {
   "cell_type": "code",
   "execution_count": 2,
   "metadata": {},
   "outputs": [],
   "source": [
    "import numpy as np\n",
    "import pandas as pd\n",
    "import json\n",
    "import time\n",
    "\n",
    "from sklearn.feature_extraction.text import CountVectorizer\n",
    "from sklearn.feature_extraction.text import TfidfTransformer\n",
    "from itertools import islice"
   ]
  },
  {
   "cell_type": "code",
   "execution_count": 3,
   "metadata": {},
   "outputs": [],
   "source": [
    "datapath=''"
   ]
  },
  {
   "cell_type": "code",
   "execution_count": 4,
   "metadata": {},
   "outputs": [],
   "source": [
    "df=pd.read_hdf(datapath+'df.h5', 'table')"
   ]
  },
  {
   "cell_type": "code",
   "execution_count": 5,
   "metadata": {},
   "outputs": [],
   "source": [
    "desc=df['comb_desc']"
   ]
  },
  {
   "cell_type": "code",
   "execution_count": 6,
   "metadata": {},
   "outputs": [
    {
     "name": "stdout",
     "output_type": "stream",
     "text": [
      "--- 29.49 seconds ---\n"
     ]
    }
   ],
   "source": [
    "start_time = time.time()\n",
    "#counts word frequencies\n",
    "word_counts = CountVectorizer(stop_words='english', \n",
    "                              analyzer='word',\n",
    "                              min_df=.0025, #max_df=.1, \n",
    "                              ngram_range=(1,1))\n",
    "word_counts.fit(desc)\n",
    "print(\"--- %.2f seconds ---\" % (time.time() - start_time))"
   ]
  },
  {
   "cell_type": "code",
   "execution_count": 7,
   "metadata": {},
   "outputs": [
    {
     "data": {
      "text/plain": [
       "[('zippered', 1072),\n",
       " ('zipper', 1071),\n",
       " ('zip', 1070),\n",
       " ('youthful', 1069),\n",
       " ('york', 1068),\n",
       " ('yoke', 1067),\n",
       " ('yellow', 1066),\n",
       " ('year', 1065),\n",
       " ('wrap', 1064),\n",
       " ('worn', 1063),\n",
       " ('world', 1062),\n",
       " ('workout', 1061),\n",
       " ('work', 1060),\n",
       " ('woolblend', 1059),\n",
       " ('wool', 1058),\n",
       " ('womens', 1057),\n",
       " ('women', 1056),\n",
       " ('woman', 1055),\n",
       " ('wish', 1054),\n",
       " ('winter', 1053)]"
      ]
     },
     "execution_count": 7,
     "metadata": {},
     "output_type": "execute_result"
    }
   ],
   "source": [
    "# Check how many total 1-grams we have across all product descs\n",
    "len(word_counts.vocabulary_)\n",
    "\n",
    "list(islice(sorted(word_counts.vocabulary_.items(), reverse=True), 20))"
   ]
  },
  {
   "cell_type": "code",
   "execution_count": 8,
   "metadata": {},
   "outputs": [
    {
     "name": "stdout",
     "output_type": "stream",
     "text": [
      "sparse matrix shape: (1072150, 1073)\n",
      "nonzero count: 20649077\n",
      "sparsity: 1.79%\n"
     ]
    }
   ],
   "source": [
    "wordcounts = word_counts.transform(df['comb_desc'])\n",
    "print('sparse matrix shape:', wordcounts.shape)\n",
    "print('nonzero count:', wordcounts.nnz)\n",
    "print('sparsity: %.2f%%' % (100.0 * wordcounts.nnz / (wordcounts.shape[0] * wordcounts.shape[1])))"
   ]
  },
  {
   "cell_type": "code",
   "execution_count": 9,
   "metadata": {},
   "outputs": [
    {
     "data": {
      "text/html": [
       "<div>\n",
       "<style scoped>\n",
       "    .dataframe tbody tr th:only-of-type {\n",
       "        vertical-align: middle;\n",
       "    }\n",
       "\n",
       "    .dataframe tbody tr th {\n",
       "        vertical-align: top;\n",
       "    }\n",
       "\n",
       "    .dataframe thead th {\n",
       "        text-align: right;\n",
       "    }\n",
       "</style>\n",
       "<table border=\"1\" class=\"dataframe\">\n",
       "  <thead>\n",
       "    <tr style=\"text-align: right;\">\n",
       "      <th></th>\n",
       "      <th>261</th>\n",
       "      <th>843</th>\n",
       "      <th>69</th>\n",
       "      <th>189</th>\n",
       "      <th>691</th>\n",
       "      <th>829</th>\n",
       "      <th>338</th>\n",
       "      <th>113</th>\n",
       "      <th>151</th>\n",
       "      <th>660</th>\n",
       "      <th>1070</th>\n",
       "      <th>539</th>\n",
       "      <th>812</th>\n",
       "      <th>914</th>\n",
       "      <th>78</th>\n",
       "    </tr>\n",
       "  </thead>\n",
       "  <tbody>\n",
       "    <tr>\n",
       "      <th>term</th>\n",
       "      <td>dress</td>\n",
       "      <td>sleeve</td>\n",
       "      <td>black</td>\n",
       "      <td>cotton</td>\n",
       "      <td>pocket</td>\n",
       "      <td>size</td>\n",
       "      <td>fit</td>\n",
       "      <td>button</td>\n",
       "      <td>closure</td>\n",
       "      <td>pant</td>\n",
       "      <td>zip</td>\n",
       "      <td>long</td>\n",
       "      <td>short</td>\n",
       "      <td>style</td>\n",
       "      <td>blue</td>\n",
       "    </tr>\n",
       "    <tr>\n",
       "      <th>occurrences</th>\n",
       "      <td>730867</td>\n",
       "      <td>425240</td>\n",
       "      <td>420710</td>\n",
       "      <td>403715</td>\n",
       "      <td>336093</td>\n",
       "      <td>334761</td>\n",
       "      <td>314197</td>\n",
       "      <td>274528</td>\n",
       "      <td>267543</td>\n",
       "      <td>262793</td>\n",
       "      <td>259659</td>\n",
       "      <td>257597</td>\n",
       "      <td>239232</td>\n",
       "      <td>238716</td>\n",
       "      <td>232741</td>\n",
       "    </tr>\n",
       "  </tbody>\n",
       "</table>\n",
       "</div>"
      ],
      "text/plain": [
       "               261     843     69      189     691     829     338     113   \\\n",
       "term          dress  sleeve   black  cotton  pocket    size     fit  button   \n",
       "occurrences  730867  425240  420710  403715  336093  334761  314197  274528   \n",
       "\n",
       "                151     660     1070    539     812     914     78    \n",
       "term         closure    pant     zip    long   short   style    blue  \n",
       "occurrences   267543  262793  259659  257597  239232  238716  232741  "
      ]
     },
     "execution_count": 9,
     "metadata": {},
     "output_type": "execute_result"
    }
   ],
   "source": [
    "# top 15 most common terms\n",
    "occ = np.asarray(wordcounts.sum(axis=0)).ravel().tolist()\n",
    "counts_desc = pd.DataFrame({'term': word_counts.get_feature_names(), 'occurrences': occ})\n",
    "counts_desc.sort_values(by='occurrences', ascending=False).head(15).T"
   ]
  },
  {
   "cell_type": "code",
   "execution_count": 10,
   "metadata": {},
   "outputs": [
    {
     "name": "stdout",
     "output_type": "stream",
     "text": [
      "--- 0.61 seconds ---\n"
     ]
    }
   ],
   "source": [
    "start_time = time.time()\n",
    "transformer = TfidfTransformer()\n",
    "transformed_weights = transformer.fit_transform(wordcounts)\n",
    "print(\"--- %.2f seconds ---\" % (time.time() - start_time))"
   ]
  },
  {
   "cell_type": "code",
   "execution_count": 11,
   "metadata": {},
   "outputs": [
    {
     "data": {
      "text/html": [
       "<div>\n",
       "<style scoped>\n",
       "    .dataframe tbody tr th:only-of-type {\n",
       "        vertical-align: middle;\n",
       "    }\n",
       "\n",
       "    .dataframe tbody tr th {\n",
       "        vertical-align: top;\n",
       "    }\n",
       "\n",
       "    .dataframe thead th {\n",
       "        text-align: right;\n",
       "    }\n",
       "</style>\n",
       "<table border=\"1\" class=\"dataframe\">\n",
       "  <thead>\n",
       "    <tr style=\"text-align: right;\">\n",
       "      <th></th>\n",
       "      <th>261</th>\n",
       "      <th>69</th>\n",
       "      <th>189</th>\n",
       "      <th>843</th>\n",
       "      <th>660</th>\n",
       "      <th>691</th>\n",
       "      <th>812</th>\n",
       "      <th>928</th>\n",
       "      <th>78</th>\n",
       "      <th>836</th>\n",
       "      <th>1049</th>\n",
       "      <th>808</th>\n",
       "      <th>113</th>\n",
       "      <th>829</th>\n",
       "      <th>151</th>\n",
       "    </tr>\n",
       "  </thead>\n",
       "  <tbody>\n",
       "    <tr>\n",
       "      <th>term</th>\n",
       "      <td>dress</td>\n",
       "      <td>black</td>\n",
       "      <td>cotton</td>\n",
       "      <td>sleeve</td>\n",
       "      <td>pant</td>\n",
       "      <td>pocket</td>\n",
       "      <td>short</td>\n",
       "      <td>sweater</td>\n",
       "      <td>blue</td>\n",
       "      <td>skirt</td>\n",
       "      <td>white</td>\n",
       "      <td>shirt</td>\n",
       "      <td>button</td>\n",
       "      <td>size</td>\n",
       "      <td>closure</td>\n",
       "    </tr>\n",
       "    <tr>\n",
       "      <th>weight</th>\n",
       "      <td>0.0715857</td>\n",
       "      <td>0.0440156</td>\n",
       "      <td>0.0357701</td>\n",
       "      <td>0.035391</td>\n",
       "      <td>0.0326948</td>\n",
       "      <td>0.0303458</td>\n",
       "      <td>0.0299723</td>\n",
       "      <td>0.0292727</td>\n",
       "      <td>0.0290085</td>\n",
       "      <td>0.0279998</td>\n",
       "      <td>0.0279041</td>\n",
       "      <td>0.0275573</td>\n",
       "      <td>0.0273254</td>\n",
       "      <td>0.0267282</td>\n",
       "      <td>0.0267073</td>\n",
       "    </tr>\n",
       "  </tbody>\n",
       "</table>\n",
       "</div>"
      ],
      "text/plain": [
       "             261        69         189       843        660        691   \\\n",
       "term        dress      black     cotton    sleeve       pant     pocket   \n",
       "weight  0.0715857  0.0440156  0.0357701  0.035391  0.0326948  0.0303458   \n",
       "\n",
       "             812        928        78         836        1049       808   \\\n",
       "term        short    sweater       blue      skirt      white      shirt   \n",
       "weight  0.0299723  0.0292727  0.0290085  0.0279998  0.0279041  0.0275573   \n",
       "\n",
       "             113        829        151   \n",
       "term       button       size    closure  \n",
       "weight  0.0273254  0.0267282  0.0267073  "
      ]
     },
     "execution_count": 11,
     "metadata": {},
     "output_type": "execute_result"
    }
   ],
   "source": [
    "# top 15 terms by average tf-idf weight:\n",
    "weights = np.asarray(transformed_weights.mean(axis=0)).ravel().tolist()\n",
    "weights_df = pd.DataFrame({'term': word_counts.get_feature_names(), 'weight': weights})\n",
    "weights_df.sort_values(by='weight', ascending=False).head(15).T"
   ]
  },
  {
   "cell_type": "code",
   "execution_count": 12,
   "metadata": {},
   "outputs": [],
   "source": [
    "weights_df.to_hdf('tfidf_weights_df.h5','table')"
   ]
  }
 ],
 "metadata": {
  "kernelspec": {
   "display_name": "py3fashion",
   "language": "python",
   "name": "fashionenv"
  },
  "language_info": {
   "codemirror_mode": {
    "name": "ipython",
    "version": 3
   },
   "file_extension": ".py",
   "mimetype": "text/x-python",
   "name": "python",
   "nbconvert_exporter": "python",
   "pygments_lexer": "ipython3",
   "version": "3.6.5"
  }
 },
 "nbformat": 4,
 "nbformat_minor": 2
}
