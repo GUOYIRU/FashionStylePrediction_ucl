{
 "cells": [
  {
   "cell_type": "code",
   "execution_count": 1,
   "metadata": {},
   "outputs": [
    {
     "data": {
      "text/html": [
       "<style>.container { width:100% !important; }</style>"
      ],
      "text/plain": [
       "<IPython.core.display.HTML object>"
      ]
     },
     "metadata": {},
     "output_type": "display_data"
    }
   ],
   "source": [
    "from IPython.core.display import display, HTML\n",
    "display(HTML(\"<style>.container { width:100% !important; }</style>\"))"
   ]
  },
  {
   "cell_type": "code",
   "execution_count": 2,
   "metadata": {},
   "outputs": [],
   "source": [
    "import numpy as np\n",
    "import pandas as pd\n",
    "import pickle\n",
    "import time\n",
    "from gensim.models.doc2vec import Doc2Vec\n",
    "from gensim.models import KeyedVectors\n",
    "\n",
    "from sklearn.model_selection import train_test_split\n",
    "from sklearn import preprocessing"
   ]
  },
  {
   "cell_type": "code",
   "execution_count": 3,
   "metadata": {},
   "outputs": [],
   "source": [
    "pd.options.display.max_rows\n",
    "pd.set_option('display.max_colwidth', -1)\n",
    "pd.set_option('display.max_columns', 500)"
   ]
  },
  {
   "cell_type": "code",
   "execution_count": 4,
   "metadata": {},
   "outputs": [
    {
     "ename": "FileNotFoundError",
     "evalue": "File /home/ubuntu/hana/df.h5 does not exist",
     "output_type": "error",
     "traceback": [
      "\u001b[0;31m---------------------------------------------------------------------------\u001b[0m",
      "\u001b[0;31mFileNotFoundError\u001b[0m                         Traceback (most recent call last)",
      "\u001b[0;32m<ipython-input-4-d119b82211c1>\u001b[0m in \u001b[0;36m<module>\u001b[0;34m()\u001b[0m\n\u001b[0;32m----> 1\u001b[0;31m \u001b[0mdf\u001b[0m\u001b[0;34m=\u001b[0m\u001b[0mpd\u001b[0m\u001b[0;34m.\u001b[0m\u001b[0mread_hdf\u001b[0m\u001b[0;34m(\u001b[0m\u001b[0;34m'/home/ubuntu/hana/df.h5'\u001b[0m\u001b[0;34m,\u001b[0m\u001b[0;34m'table'\u001b[0m\u001b[0;34m)\u001b[0m\u001b[0;34m\u001b[0m\u001b[0m\n\u001b[0m",
      "\u001b[0;32m~/.pyenv/versions/fashion_project/lib/python3.6/site-packages/pandas/io/pytables.py\u001b[0m in \u001b[0;36mread_hdf\u001b[0;34m(path_or_buf, key, mode, **kwargs)\u001b[0m\n\u001b[1;32m    345\u001b[0m         \u001b[0;32mif\u001b[0m \u001b[0;32mnot\u001b[0m \u001b[0mexists\u001b[0m\u001b[0;34m:\u001b[0m\u001b[0;34m\u001b[0m\u001b[0m\n\u001b[1;32m    346\u001b[0m             raise compat.FileNotFoundError(\n\u001b[0;32m--> 347\u001b[0;31m                 'File %s does not exist' % path_or_buf)\n\u001b[0m\u001b[1;32m    348\u001b[0m \u001b[0;34m\u001b[0m\u001b[0m\n\u001b[1;32m    349\u001b[0m         \u001b[0mstore\u001b[0m \u001b[0;34m=\u001b[0m \u001b[0mHDFStore\u001b[0m\u001b[0;34m(\u001b[0m\u001b[0mpath_or_buf\u001b[0m\u001b[0;34m,\u001b[0m \u001b[0mmode\u001b[0m\u001b[0;34m=\u001b[0m\u001b[0mmode\u001b[0m\u001b[0;34m,\u001b[0m \u001b[0;34m**\u001b[0m\u001b[0mkwargs\u001b[0m\u001b[0;34m)\u001b[0m\u001b[0;34m\u001b[0m\u001b[0m\n",
      "\u001b[0;31mFileNotFoundError\u001b[0m: File /home/ubuntu/hana/df.h5 does not exist"
     ]
    }
   ],
   "source": [
    "df=pd.read_hdf('df.h5','table')"
   ]
  },
  {
   "cell_type": "code",
   "execution_count": 5,
   "metadata": {},
   "outputs": [
    {
     "ename": "NameError",
     "evalue": "name 'df' is not defined",
     "output_type": "error",
     "traceback": [
      "\u001b[0;31m---------------------------------------------------------------------------\u001b[0m",
      "\u001b[0;31mNameError\u001b[0m                                 Traceback (most recent call last)",
      "\u001b[0;32m<ipython-input-5-17ce5a54c073>\u001b[0m in \u001b[0;36m<module>\u001b[0;34m()\u001b[0m\n\u001b[0;32m----> 1\u001b[0;31m \u001b[0mdf\u001b[0m\u001b[0;34m[\u001b[0m\u001b[0mdf\u001b[0m\u001b[0;34m[\u001b[0m\u001b[0;34m'style'\u001b[0m\u001b[0;34m]\u001b[0m\u001b[0;34m.\u001b[0m\u001b[0mnotnull\u001b[0m\u001b[0;34m(\u001b[0m\u001b[0;34m)\u001b[0m\u001b[0;34m]\u001b[0m\u001b[0;34m.\u001b[0m\u001b[0mshape\u001b[0m\u001b[0;34m\u001b[0m\u001b[0m\n\u001b[0m",
      "\u001b[0;31mNameError\u001b[0m: name 'df' is not defined"
     ]
    }
   ],
   "source": [
    "df[df['style'].notnull()].shape"
   ]
  },
  {
   "cell_type": "code",
   "execution_count": 5,
   "metadata": {},
   "outputs": [],
   "source": [
    "doc2vec_model = Doc2Vec.load('model/doc2vec/model_dv')\n",
    "doc_vectors = KeyedVectors.load('model/doc2vec/dv_vectors')"
   ]
  },
  {
   "cell_type": "code",
   "execution_count": 6,
   "metadata": {},
   "outputs": [],
   "source": [
    "desc = df['product_id'].apply(lambda row: doc2vec_model.docvecs[row])\n",
    "labels = df['style']"
   ]
  },
  {
   "cell_type": "code",
   "execution_count": 11,
   "metadata": {},
   "outputs": [],
   "source": [
    "x_train, x_test= desc[df['style'].notnull()], desc[df['style'].isnull()]\n",
    "y_train, y_test= labels[df['style'].notnull()], labels[df['style'].isnull()]\n",
    "x_train, x_val, y_train, y_val = train_test_split(x_train, y_train, test_size=0.2, random_state=2018)\n",
    "x_train, x_val, x_test = np.vstack(x_train), np.vstack(x_val), np.vstack(x_test)"
   ]
  },
  {
   "cell_type": "code",
   "execution_count": 19,
   "metadata": {},
   "outputs": [
    {
     "data": {
      "text/plain": [
       "((67859, 50), (16965, 50), (987326, 50), (67859,), (16965,), (987326,))"
      ]
     },
     "execution_count": 19,
     "metadata": {},
     "output_type": "execute_result"
    }
   ],
   "source": [
    "# lb = preprocessing.Label()\n",
    "# lb.fit(labels[df['style'].notnull()])\n",
    "# y_train, y_val=lb.transform(y_train), lb.transform(y_val)\n",
    "x_train.shape, x_val.shape, x_test.shape, y_train.shape, y_val.shape, y_test.shape"
   ]
  },
  {
   "cell_type": "code",
   "execution_count": 24,
   "metadata": {},
   "outputs": [],
   "source": [
    "from sklearn.metrics import classification_report\n",
    "from sklearn.metrics import zero_one_loss\n",
    "from sklearn.metrics import hamming_loss\n",
    "from sklearn.metrics import jaccard_similarity_score\n",
    "\n",
    "def custom_metrics(y_true,y_pred):\n",
    "    print('hamming: {:.3f}\\n0-1: {:.3f}\\njaccard: {:.3f}'.\n",
    "         format(hamming_loss(y_true,y_pred),\n",
    "               zero_one_loss(y_true,y_pred),\n",
    "               jaccard_similarity_score(y_true,y_pred)))\n",
    "    print(classification_report(y_true,y_pred))"
   ]
  },
  {
   "cell_type": "code",
   "execution_count": 40,
   "metadata": {},
   "outputs": [],
   "source": [
    "from sklearn.linear_model import LogisticRegressionCV"
   ]
  },
  {
   "cell_type": "code",
   "execution_count": 211,
   "metadata": {},
   "outputs": [
    {
     "name": "stdout",
     "output_type": "stream",
     "text": [
      "CPU times: user 16min 24s, sys: 29min 53s, total: 46min 17s\n",
      "Wall time: 3min 15s\n"
     ]
    }
   ],
   "source": [
    "%%time\n",
    "classifierCV = LogisticRegressionCV(Cs=list(np.power(10.0, np.arange(-10, 10)))\n",
    "                                    ,penalty='l2'\n",
    "                                    ,scoring='accuracy'\n",
    "                                    ,cv=10\n",
    "                                    ,random_state=2018\n",
    "                                    ,max_iter=10000\n",
    "                                    ,fit_intercept=True\n",
    "                                    ,solver='newton-cg'\n",
    "                                    ,tol=10)\n",
    "# classifier = LogisticRegressionCV(cv=10, random_state=2018, penalty='l2', solver='lbfgs', multi_class='multinomial')\n",
    "classifierCV.fit(x_train, y_train)"
   ]
  },
  {
   "cell_type": "code",
   "execution_count": 212,
   "metadata": {},
   "outputs": [],
   "source": [
    "predictions_prob=classifierCV.predict_proba(x_val)\n",
    "predictions=classifierCV.predict(x_val)"
   ]
  },
  {
   "cell_type": "code",
   "execution_count": 272,
   "metadata": {},
   "outputs": [
    {
     "data": {
      "text/plain": [
       "0.30810492189802535"
      ]
     },
     "execution_count": 272,
     "metadata": {},
     "output_type": "execute_result"
    }
   ],
   "source": [
    "np.mean(predictions==y_val)"
   ]
  },
  {
   "cell_type": "code",
   "execution_count": 213,
   "metadata": {},
   "outputs": [],
   "source": [
    "pred_df=pd.concat([pd.DataFrame([classifierCV.classes_.tolist()]), pd.DataFrame(predictions_prob)])\n",
    "pred_df=pred_df.rename(columns=pred_df.iloc[0], inplace=False).reset_index(drop=True)\n",
    "pred_df.drop(index=[0], axis=1, inplace=True)\n",
    "pred_df.reset_index(drop=True, inplace=True)\n",
    "pred_df['pred_style']=predictions"
   ]
  },
  {
   "cell_type": "code",
   "execution_count": 214,
   "metadata": {},
   "outputs": [],
   "source": [
    "df_merge=df.loc[y_val.index][['style', 'product_id', 'comb_desc']].reset_index()"
   ]
  },
  {
   "cell_type": "code",
   "execution_count": 215,
   "metadata": {},
   "outputs": [],
   "source": [
    "pred_df=pd.concat([pred_df, df_merge], axis=1)"
   ]
  },
  {
   "cell_type": "markdown",
   "metadata": {},
   "source": [
    "for each product_id, keep only the pred prob larger than 0.1, and label it, remove the product_id that all styles has <0.1 probs. go back to cluster."
   ]
  },
  {
   "cell_type": "code",
   "execution_count": 266,
   "metadata": {},
   "outputs": [],
   "source": [
    "styles = pred_df.columns[:-5].tolist()\n",
    "\n",
    "def topProbability(row, threshold=0.1):\n",
    "    return [s for s in styles if row[s]>threshold]"
   ]
  },
  {
   "cell_type": "code",
   "execution_count": 267,
   "metadata": {},
   "outputs": [],
   "source": [
    "top_styles=pred_df.apply(topProbability, axis=1)"
   ]
  },
  {
   "cell_type": "code",
   "execution_count": 268,
   "metadata": {},
   "outputs": [
    {
     "data": {
      "text/plain": [
       "0        [bohemian, gothic, minimalistic, romantic]                     \n",
       "1        [bohemian, gothic, minimalistic, tailored]                     \n",
       "2        [bohemian, minimalistic, sartorial]                            \n",
       "3        [active, bohemian, minimalistic, sartorial]                    \n",
       "4        [active, minimalistic]                                         \n",
       "5        [bohemian, classic, romantic]                                  \n",
       "6        [bohemian, minimalistic, tailored]                             \n",
       "7        [active, bohemian, minimalistic, sartorial]                    \n",
       "8        [active, classic, edgy, gothic]                                \n",
       "9        [bohemian, classic, sartorial]                                 \n",
       "10       [bohemian, minimalistic]                                       \n",
       "11       [bohemian, gothic, minimalistic]                               \n",
       "12       [bohemian, minimalistic, preppy, romantic, sartorial, tailored]\n",
       "13       [active, bohemian, classic, sartorial]                         \n",
       "14       [bohemian, classic, edgy, minimalistic, preppy, tailored]      \n",
       "15       [active, bohemian, sartorial]                                  \n",
       "16       [active, bohemian, sartorial]                                  \n",
       "17       [gothic, minimalistic, romantic]                               \n",
       "18       [bohemian, classic, minimalistic]                              \n",
       "19       [gothic, minimalistic]                                         \n",
       "20       [bohemian, minimalistic, preppy, tailored]                     \n",
       "21       [active, bohemian, classic, minimalistic, sartorial]           \n",
       "22       [bohemian, classic, minimalistic]                              \n",
       "23       [active, bohemian]                                             \n",
       "24       [bohemian, classic, gothic, minimalistic, preppy, tailored]    \n",
       "25       [active, bohemian, classic, sartorial]                         \n",
       "26       [bohemian, classic, minimalistic, preppy, tailored]            \n",
       "27       [bohemian, minimalistic, preppy, sartorial, tailored]          \n",
       "28       [bohemian, classic, gothic]                                    \n",
       "29       [active, bohemian, minimalistic, sartorial]                    \n",
       "                            ...                                         \n",
       "16935    [bohemian, classic, minimalistic]                              \n",
       "16936    [bohemian, edgy, gothic, minimalistic]                         \n",
       "16937    [active, bohemian, classic, sartorial]                         \n",
       "16938    [bohemian, gothic, preppy, tailored]                           \n",
       "16939    [active, bohemian, minimalistic, preppy, tailored]             \n",
       "16940    [active, classic, minimalistic]                                \n",
       "16941    [active, edgy, gothic, minimalistic]                           \n",
       "16942    [bohemian, classic]                                            \n",
       "16943    [active, bohemian, classic]                                    \n",
       "16944    [bohemian, gothic, minimalistic]                               \n",
       "16945    [classic, sartorial]                                           \n",
       "16946    [classic, gothic, romantic]                                    \n",
       "16947    [active, bohemian, minimalistic]                               \n",
       "16948    [bohemian, edgy, preppy, tailored]                             \n",
       "16949    [bohemian, classic]                                            \n",
       "16950    [bohemian, gothic, minimalistic, sartorial]                    \n",
       "16951    [active, bohemian, classic, minimalistic, preppy, tailored]    \n",
       "16952    [bohemian, minimalistic, sartorial]                            \n",
       "16953    [bohemian, minimalistic, sartorial]                            \n",
       "16954    [active, bohemian, edgy, gothic]                               \n",
       "16955    [active, gothic, minimalistic, romantic]                       \n",
       "16956    [bohemian, gothic, minimalistic, preppy, sartorial, tailored]  \n",
       "16957    [active, bohemian, gothic, minimalistic]                       \n",
       "16958    [bohemian, gothic, preppy, tailored]                           \n",
       "16959    [gothic, sartorial]                                            \n",
       "16960    [active, minimalistic]                                         \n",
       "16961    [bohemian, minimalistic, preppy, tailored]                     \n",
       "16962    [active, bohemian, gothic, preppy, tailored]                   \n",
       "16963    [bohemian, minimalistic, preppy, sartorial, tailored]          \n",
       "16964    [active, minimalistic, sartorial]                              \n",
       "Length: 16965, dtype: object"
      ]
     },
     "execution_count": 268,
     "metadata": {},
     "output_type": "execute_result"
    }
   ],
   "source": [
    "top_styles"
   ]
  },
  {
   "cell_type": "code",
   "execution_count": 1,
   "metadata": {},
   "outputs": [
    {
     "ename": "NameError",
     "evalue": "name 'pred_df' is not defined",
     "output_type": "error",
     "traceback": [
      "\u001b[0;31m---------------------------------------------------------------------------\u001b[0m",
      "\u001b[0;31mNameError\u001b[0m                                 Traceback (most recent call last)",
      "\u001b[0;32m<ipython-input-1-7aedada93fbb>\u001b[0m in \u001b[0;36m<module>\u001b[0;34m()\u001b[0m\n\u001b[0;32m----> 1\u001b[0;31m \u001b[0mpred_df\u001b[0m\u001b[0;34m.\u001b[0m\u001b[0mhead\u001b[0m\u001b[0;34m(\u001b[0m\u001b[0;34m)\u001b[0m\u001b[0;34m\u001b[0m\u001b[0m\n\u001b[0m",
      "\u001b[0;31mNameError\u001b[0m: name 'pred_df' is not defined"
     ]
    }
   ],
   "source": [
    "pred_df.head()"
   ]
  },
  {
   "cell_type": "code",
   "execution_count": 232,
   "metadata": {},
   "outputs": [],
   "source": [
    "# save the model to disk\n",
    "model_path= 'model/multiclass_classification/lrcv/'\n",
    "filename = 'lgcv.sav'\n",
    "pickle.dump(classifierCV, open(model_path+filename, 'wb'))\n",
    "# classifierCV = pickle.load(open(filename, 'rb'))"
   ]
  },
  {
   "cell_type": "code",
   "execution_count": 233,
   "metadata": {},
   "outputs": [
    {
     "name": "stderr",
     "output_type": "stream",
     "text": [
      "/home/ubuntu/.virtualenvs/hana/lib/python3.6/site-packages/pandas/core/generic.py:1993: PerformanceWarning: \n",
      "your performance may suffer as PyTables will pickle object types that it cannot\n",
      "map directly to c-types [inferred_type->mixed,key->block1_values] [items->['active', 'athleisure', 'bohemian', 'classic', 'edgy', 'glam', 'gothic', 'hipster', 'minimalistic', 'preppy', 'punk', 'romantic', 'sartorial', 'tailored', 'vintage', 'western', 'pred_style', 'style', 'product_id', 'comb_desc']]\n",
      "\n",
      "  return pytables.to_hdf(path_or_buf, key, self, **kwargs)\n"
     ]
    }
   ],
   "source": [
    "pred_df.to_hdf(model_path+'pred_df.h5','table')"
   ]
  },
  {
   "cell_type": "code",
   "execution_count": 34,
   "metadata": {},
   "outputs": [
    {
     "name": "stdout",
     "output_type": "stream",
     "text": [
      "hamming: 0.629\n",
      "0-1: 0.629\n",
      "jaccard: 0.371\n",
      "              precision    recall  f1-score   support\n",
      "\n",
      "      active       0.37      0.35      0.36      1535\n",
      "  athleisure       0.00      0.00      0.00        62\n",
      "    bohemian       0.39      0.61      0.48      1898\n",
      "     classic       0.39      0.36      0.37      1584\n",
      "        edgy       0.35      0.22      0.27       944\n",
      "        glam       0.25      0.04      0.06       352\n",
      "      gothic       0.35      0.44      0.39      1478\n",
      "     hipster       0.73      0.17      0.27        66\n",
      "minimalistic       0.37      0.50      0.42      2370\n",
      "      preppy       0.29      0.18      0.22      1492\n",
      "        punk       0.33      0.04      0.06       425\n",
      "    romantic       0.39      0.16      0.23      1010\n",
      "   sartorial       0.40      0.46      0.43      1899\n",
      "    tailored       0.36      0.43      0.39      1454\n",
      "     vintage       0.34      0.11      0.16       323\n",
      "     western       0.00      0.00      0.00        73\n",
      "\n",
      " avg / total       0.36      0.37      0.35     16965\n",
      "\n"
     ]
    }
   ],
   "source": [
    "custom_metrics(y_val, predictions)"
   ]
  },
  {
   "cell_type": "code",
   "execution_count": null,
   "metadata": {},
   "outputs": [],
   "source": []
  },
  {
   "cell_type": "code",
   "execution_count": null,
   "metadata": {},
   "outputs": [],
   "source": []
  },
  {
   "cell_type": "code",
   "execution_count": null,
   "metadata": {},
   "outputs": [],
   "source": [
    "## Import up sound alert dependencies\n",
    "from IPython.display import Audio, display\n",
    "\n",
    "def allDone():\n",
    "  display(Audio(url='https://sound.peal.io/ps/audios/000/000/537/original/woo_vu_luvub_dub_dub.wav', autoplay=True))\n",
    "## Insert whatever audio file you want above\n",
    "allDone()"
   ]
  },
  {
   "cell_type": "code",
   "execution_count": null,
   "metadata": {},
   "outputs": [],
   "source": []
  },
  {
   "cell_type": "code",
   "execution_count": null,
   "metadata": {},
   "outputs": [],
   "source": []
  },
  {
   "cell_type": "code",
   "execution_count": 270,
   "metadata": {
    "scrolled": false
   },
   "outputs": [
    {
     "data": {
      "text/html": [
       "<div>\n",
       "<style scoped>\n",
       "    .dataframe tbody tr th:only-of-type {\n",
       "        vertical-align: middle;\n",
       "    }\n",
       "\n",
       "    .dataframe tbody tr th {\n",
       "        vertical-align: top;\n",
       "    }\n",
       "\n",
       "    .dataframe thead th {\n",
       "        text-align: right;\n",
       "    }\n",
       "</style>\n",
       "<table border=\"1\" class=\"dataframe\">\n",
       "  <thead>\n",
       "    <tr style=\"text-align: right;\">\n",
       "      <th></th>\n",
       "      <th>product_id</th>\n",
       "      <th>designer_original_name</th>\n",
       "      <th>product_name</th>\n",
       "      <th>comb_desc</th>\n",
       "      <th>From</th>\n",
       "      <th>style</th>\n",
       "    </tr>\n",
       "  </thead>\n",
       "  <tbody>\n",
       "    <tr>\n",
       "      <th>884308</th>\n",
       "      <td>687720652</td>\n",
       "      <td>ronny kobo</td>\n",
       "      <td>Ronny Kobo Women's Ava Eyelets &amp; Stripes Bodysuit</td>\n",
       "      <td>ava knit eyelet asymmetrical neck shoulder sleeve tonal panel seaming fully line circumference bust shoulder hem take size height tops</td>\n",
       "      <td>shopstyle</td>\n",
       "      <td>NaN</td>\n",
       "    </tr>\n",
       "    <tr>\n",
       "      <th>846106</th>\n",
       "      <td>365338508</td>\n",
       "      <td>5.11 tactical</td>\n",
       "      <td>Men's 5.11 Tactical Short Sleeve Tall Professional Polo - Heather Grey Short Sleeve Shirts</td>\n",
       "      <td>short sleeve tall professional polo heather grey short sleeve law enforcement military consistently choose professional polo wear meet law enforcement professional polo stay look neat clean professional duty assignment professional polo select casual uniform wear country cotton specially fade wrinkle shrink professional polo provide neat clean professional look professional polo wear duty professional polo perfect special bicycle patrol casual duty work training facility wear office wear duty demand formal uniform professional polo high law enforcement military roll collar flexible stay roll pen endure constant use design comfort durability melamine button professional polo melamine button crack break withstand heat iron professional look stitching construction professional polo high quality professional polo ultimate comfort fit cotton fabric soft feel look great polo</td>\n",
       "      <td>shopstyle</td>\n",
       "      <td>NaN</td>\n",
       "    </tr>\n",
       "    <tr>\n",
       "      <th>973594</th>\n",
       "      <td>5af809b64500d65f249e13fc</td>\n",
       "      <td>derek lam 10 crosby</td>\n",
       "      <td>Long Sleeve Asymmetrical Ruffle Hem Dress</td>\n",
       "      <td>long sleeve asymmetrical ruffle hem dress shift dress asymmetric ruffle hem white silk weave metallic gold invisible zip closure clean crew neck button line white soft white clothing</td>\n",
       "      <td>farfetch</td>\n",
       "      <td>None</td>\n",
       "    </tr>\n",
       "    <tr>\n",
       "      <th>512034</th>\n",
       "      <td>703075258</td>\n",
       "      <td>dondup</td>\n",
       "      <td>Dondup Sun Viscose Blend T-shirt</td>\n",
       "      <td>sun viscose blend sun viscose blend round neck elastic hem metal panel viscose blue</td>\n",
       "      <td>shopstyle</td>\n",
       "      <td>NaN</td>\n",
       "    </tr>\n",
       "    <tr>\n",
       "      <th>582535</th>\n",
       "      <td>707569679</td>\n",
       "      <td>roberto collina</td>\n",
       "      <td>ROBERTO COLLINA Sweaters</td>\n",
       "      <td>knit solid color round collar lightweight sweater long viscose linen nylon beige</td>\n",
       "      <td>shopstyle</td>\n",
       "      <td>NaN</td>\n",
       "    </tr>\n",
       "    <tr>\n",
       "      <th>861616</th>\n",
       "      <td>654778344</td>\n",
       "      <td>apiece apart</td>\n",
       "      <td>Apiece Apart off the shoulder blouse</td>\n",
       "      <td>shoulder blouse grey blue cotton blouse shoulder design frill trim curved hem long left sleeve button cuff blue top</td>\n",
       "      <td>shopstyle</td>\n",
       "      <td>NaN</td>\n",
       "    </tr>\n",
       "    <tr>\n",
       "      <th>418716</th>\n",
       "      <td>700504297</td>\n",
       "      <td>pottery barn kids</td>\n",
       "      <td>Mackenzie Navy Mermaids Large Duffle Bag</td>\n",
       "      <td>navy large bag big big bag extra roomy bag easy spacious overnight bag polyester detachable shoulder strap rolling build withstand matter rugged denier polyester interior denier polyester shoulder strap durable synthetic webbing roll carry carry strap easy transport load heavy key product shoulder strap adjustable roomy interior store personalization note personalization placement appear show personalization cover print roll overall wide deep high interior wide deep high exterior pocket wide long carrying handle wide long carry strap wide long diameter weight capacity weight care maintenance spot clean damp white cloth blot remove excess water air dry nursery clothe</td>\n",
       "      <td>shopstyle</td>\n",
       "      <td>NaN</td>\n",
       "    </tr>\n",
       "    <tr>\n",
       "      <th>502406</th>\n",
       "      <td>675654787</td>\n",
       "      <td>aviu</td>\n",
       "      <td>AVIÙ T-shirts</td>\n",
       "      <td>tulle jersey openwork solid color round collar long stretch cotton polyamide black</td>\n",
       "      <td>shopstyle</td>\n",
       "      <td>NaN</td>\n",
       "    </tr>\n",
       "    <tr>\n",
       "      <th>586817</th>\n",
       "      <td>700073142</td>\n",
       "      <td>lord &amp; taylor</td>\n",
       "      <td>Lord &amp; Taylor Petite Embroidered Ankle Pants</td>\n",
       "      <td>petite ankle pant petite ankle ankle pant allover floral embroidery belt zip fly button closure style skinny fit rise inseam machine wash authentic navy petite</td>\n",
       "      <td>shopstyle</td>\n",
       "      <td>NaN</td>\n",
       "    </tr>\n",
       "    <tr>\n",
       "      <th>461886</th>\n",
       "      <td>692606242</td>\n",
       "      <td>parker</td>\n",
       "      <td>Parker Honey Cold Shoulder Blouse</td>\n",
       "      <td>honey cold shoulder blouse velvet tie narrow add festive cut airy silk beguilingly style honey cold shoulder blouse style number available black top</td>\n",
       "      <td>shopstyle</td>\n",
       "      <td>NaN</td>\n",
       "    </tr>\n",
       "  </tbody>\n",
       "</table>\n",
       "</div>"
      ],
      "text/plain": [
       "                      product_id designer_original_name  \\\n",
       "884308  687720652                 ronny kobo              \n",
       "846106  365338508                 5.11 tactical           \n",
       "973594  5af809b64500d65f249e13fc  derek lam 10 crosby     \n",
       "512034  703075258                 dondup                  \n",
       "582535  707569679                 roberto collina         \n",
       "861616  654778344                 apiece apart            \n",
       "418716  700504297                 pottery barn kids       \n",
       "502406  675654787                 aviu                    \n",
       "586817  700073142                 lord & taylor           \n",
       "461886  692606242                 parker                  \n",
       "\n",
       "                                                                                      product_name  \\\n",
       "884308  Ronny Kobo Women's Ava Eyelets & Stripes Bodysuit                                            \n",
       "846106  Men's 5.11 Tactical Short Sleeve Tall Professional Polo - Heather Grey Short Sleeve Shirts   \n",
       "973594  Long Sleeve Asymmetrical Ruffle Hem Dress                                                    \n",
       "512034  Dondup Sun Viscose Blend T-shirt                                                             \n",
       "582535  ROBERTO COLLINA Sweaters                                                                     \n",
       "861616  Apiece Apart off the shoulder blouse                                                         \n",
       "418716  Mackenzie Navy Mermaids Large Duffle Bag                                                     \n",
       "502406  AVIÙ T-shirts                                                                                \n",
       "586817  Lord & Taylor Petite Embroidered Ankle Pants                                                 \n",
       "461886  Parker Honey Cold Shoulder Blouse                                                            \n",
       "\n",
       "                                                                                                                                                                                                                                                                                                                                                                                                                                                                                                                                                                                                                                                                                                                                                                                                                                                                                                                comb_desc  \\\n",
       "884308  ava knit eyelet asymmetrical neck shoulder sleeve tonal panel seaming fully line circumference bust shoulder hem take size height tops                                                                                                                                                                                                                                                                                                                                                                                                                                                                                                                                                                                                                                                                                                                                                                              \n",
       "846106  short sleeve tall professional polo heather grey short sleeve law enforcement military consistently choose professional polo wear meet law enforcement professional polo stay look neat clean professional duty assignment professional polo select casual uniform wear country cotton specially fade wrinkle shrink professional polo provide neat clean professional look professional polo wear duty professional polo perfect special bicycle patrol casual duty work training facility wear office wear duty demand formal uniform professional polo high law enforcement military roll collar flexible stay roll pen endure constant use design comfort durability melamine button professional polo melamine button crack break withstand heat iron professional look stitching construction professional polo high quality professional polo ultimate comfort fit cotton fabric soft feel look great polo   \n",
       "973594  long sleeve asymmetrical ruffle hem dress shift dress asymmetric ruffle hem white silk weave metallic gold invisible zip closure clean crew neck button line white soft white clothing                                                                                                                                                                                                                                                                                                                                                                                                                                                                                                                                                                                                                                                                                                                              \n",
       "512034  sun viscose blend sun viscose blend round neck elastic hem metal panel viscose blue                                                                                                                                                                                                                                                                                                                                                                                                                                                                                                                                                                                                                                                                                                                                                                                                                                 \n",
       "582535  knit solid color round collar lightweight sweater long viscose linen nylon beige                                                                                                                                                                                                                                                                                                                                                                                                                                                                                                                                                                                                                                                                                                                                                                                                                                    \n",
       "861616  shoulder blouse grey blue cotton blouse shoulder design frill trim curved hem long left sleeve button cuff blue top                                                                                                                                                                                                                                                                                                                                                                                                                                                                                                                                                                                                                                                                                                                                                                                                 \n",
       "418716  navy large bag big big bag extra roomy bag easy spacious overnight bag polyester detachable shoulder strap rolling build withstand matter rugged denier polyester interior denier polyester shoulder strap durable synthetic webbing roll carry carry strap easy transport load heavy key product shoulder strap adjustable roomy interior store personalization note personalization placement appear show personalization cover print roll overall wide deep high interior wide deep high exterior pocket wide long carrying handle wide long carry strap wide long diameter weight capacity weight care maintenance spot clean damp white cloth blot remove excess water air dry nursery clothe                                                                                                                                                                                                                  \n",
       "502406  tulle jersey openwork solid color round collar long stretch cotton polyamide black                                                                                                                                                                                                                                                                                                                                                                                                                                                                                                                                                                                                                                                                                                                                                                                                                                  \n",
       "586817  petite ankle pant petite ankle ankle pant allover floral embroidery belt zip fly button closure style skinny fit rise inseam machine wash authentic navy petite                                                                                                                                                                                                                                                                                                                                                                                                                                                                                                                                                                                                                                                                                                                                                     \n",
       "461886  honey cold shoulder blouse velvet tie narrow add festive cut airy silk beguilingly style honey cold shoulder blouse style number available black top                                                                                                                                                                                                                                                                                                                                                                                                                                                                                                                                                                                                                                                                                                                                                                \n",
       "\n",
       "             From style  \n",
       "884308  shopstyle  NaN   \n",
       "846106  shopstyle  NaN   \n",
       "973594  farfetch   None  \n",
       "512034  shopstyle  NaN   \n",
       "582535  shopstyle  NaN   \n",
       "861616  shopstyle  NaN   \n",
       "418716  shopstyle  NaN   \n",
       "502406  shopstyle  NaN   \n",
       "586817  shopstyle  NaN   \n",
       "461886  shopstyle  NaN   "
      ]
     },
     "execution_count": 270,
     "metadata": {},
     "output_type": "execute_result"
    }
   ],
   "source": [
    "df.sample(10)"
   ]
  },
  {
   "cell_type": "code",
   "execution_count": null,
   "metadata": {},
   "outputs": [],
   "source": []
  },
  {
   "cell_type": "code",
   "execution_count": null,
   "metadata": {},
   "outputs": [],
   "source": []
  },
  {
   "cell_type": "code",
   "execution_count": null,
   "metadata": {},
   "outputs": [],
   "source": []
  }
 ],
 "metadata": {
  "kernelspec": {
   "display_name": "Python (fashion_project)",
   "language": "python",
   "name": "fashion_project"
  },
  "language_info": {
   "codemirror_mode": {
    "name": "ipython",
    "version": 3
   },
   "file_extension": ".py",
   "mimetype": "text/x-python",
   "name": "python",
   "nbconvert_exporter": "python",
   "pygments_lexer": "ipython3",
   "version": "3.6.1"
  }
 },
 "nbformat": 4,
 "nbformat_minor": 2
}
