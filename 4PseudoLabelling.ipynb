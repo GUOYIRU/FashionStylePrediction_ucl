{
 "cells": [
  {
   "cell_type": "code",
   "execution_count": 1,
   "metadata": {},
   "outputs": [
    {
     "data": {
      "text/html": [
       "<style>.container { width:100% !important; }</style>"
      ],
      "text/plain": [
       "<IPython.core.display.HTML object>"
      ]
     },
     "metadata": {},
     "output_type": "display_data"
    }
   ],
   "source": [
    "from IPython.core.display import display, HTML\n",
    "display(HTML(\"<style>.container { width:100% !important; }</style>\"))"
   ]
  },
  {
   "cell_type": "code",
   "execution_count": 2,
   "metadata": {},
   "outputs": [],
   "source": [
    "import math\n",
    "import numpy as np\n",
    "import pandas as pd\n",
    "import mlxtend\n",
    "import matplotlib.pyplot as plt \n",
    "from sklearn.model_selection import train_test_split\n",
    "from sklearn.preprocessing import MultiLabelBinarizer, LabelBinarizer\n",
    "from sklearn.metrics import classification_report\n",
    "from sklearn.pipeline import Pipeline\n",
    "from sklearn.model_selection import GridSearchCV\n",
    "from sklearn.metrics import accuracy_score\n",
    "from sklearn.externals import joblib\n",
    "from sklearn.feature_extraction.text import TfidfVectorizer\n",
    "from sklearn.feature_extraction.text import CountVectorizer\n",
    "from sklearn.multiclass import OneVsRestClassifier\n",
    "from sklearn.linear_model import LogisticRegression\n",
    "from sklearn.ensemble import RandomForestClassifier\n",
    "from sklearn.ensemble import AdaBoostClassifier\n",
    "from sklearn.tree import DecisionTreeClassifier\n",
    "from sklearn.svm import LinearSVC\n",
    "\n",
    "from sklearn import model_selection\n",
    "\n",
    "\n",
    "from mlxtend.classifier import StackingClassifier\n",
    "#from sklearn import XGBClassifier\n",
    "#from xgboost import XGBClassifier"
   ]
  },
  {
   "cell_type": "markdown",
   "metadata": {},
   "source": [
    "## load data"
   ]
  },
  {
   "cell_type": "code",
   "execution_count": 10,
   "metadata": {},
   "outputs": [
    {
     "name": "stdout",
     "output_type": "stream",
     "text": [
      "doc_style_embedding_nap.h5  tfidf_weights_nap.h5\r\n",
      "tfidf_weights_df.h5         wv_embedding_200_nap.h5\r\n"
     ]
    }
   ],
   "source": [
    "%ls /Users/yiru/projects/Fashion_Project_18/data/embeddings"
   ]
  },
  {
   "cell_type": "code",
   "execution_count": 34,
   "metadata": {},
   "outputs": [],
   "source": [
    "datapath = '/Users/yiru/projects/Fashion_Project_18/data/embeddings/'\n",
    "df=pd.read_hdf(datapath+'wv_embedding_200_nap.h5', 'table')"
   ]
  },
  {
   "cell_type": "code",
   "execution_count": 35,
   "metadata": {
    "scrolled": false
   },
   "outputs": [
    {
     "data": {
      "text/html": [
       "<div>\n",
       "<style scoped>\n",
       "    .dataframe tbody tr th:only-of-type {\n",
       "        vertical-align: middle;\n",
       "    }\n",
       "\n",
       "    .dataframe tbody tr th {\n",
       "        vertical-align: top;\n",
       "    }\n",
       "\n",
       "    .dataframe thead th {\n",
       "        text-align: right;\n",
       "    }\n",
       "</style>\n",
       "<table border=\"1\" class=\"dataframe\">\n",
       "  <thead>\n",
       "    <tr style=\"text-align: right;\">\n",
       "      <th></th>\n",
       "      <th>product_id</th>\n",
       "      <th>tf_wv_desc_embedding_200_nap</th>\n",
       "    </tr>\n",
       "  </thead>\n",
       "  <tbody>\n",
       "    <tr>\n",
       "      <th>0</th>\n",
       "      <td>5b013e8c4500d65c4d2fa41b</td>\n",
       "      <td>[0.024669377, -0.0049285544, 0.00094511727, -0...</td>\n",
       "    </tr>\n",
       "    <tr>\n",
       "      <th>1</th>\n",
       "      <td>5b013e8d4500d65c4d2fa425</td>\n",
       "      <td>[0.01456125, -0.0048520938, -0.004193153, -0.0...</td>\n",
       "    </tr>\n",
       "    <tr>\n",
       "      <th>2</th>\n",
       "      <td>5b013e8e4500d65c4d2fa43d</td>\n",
       "      <td>[0.00551367, -0.0064105573, 0.0039206864, -0.0...</td>\n",
       "    </tr>\n",
       "    <tr>\n",
       "      <th>3</th>\n",
       "      <td>5b013e8e4500d65c4d2fa445</td>\n",
       "      <td>[0.018165318, -0.0040821056, -0.0014719595, -0...</td>\n",
       "    </tr>\n",
       "    <tr>\n",
       "      <th>4</th>\n",
       "      <td>5b013e8e4500d65c4d2fa446</td>\n",
       "      <td>[0.012526386, -0.0047087525, 0.004192033, -0.0...</td>\n",
       "    </tr>\n",
       "    <tr>\n",
       "      <th>5</th>\n",
       "      <td>5b013e8f4500d65c4d2fa45a</td>\n",
       "      <td>[0.02521637, -0.007163938, -0.0011767752, -0.0...</td>\n",
       "    </tr>\n",
       "    <tr>\n",
       "      <th>6</th>\n",
       "      <td>5b013e8f4500d65c4d2fa45b</td>\n",
       "      <td>[0.011644115, -0.006797975, 0.002258105, -0.00...</td>\n",
       "    </tr>\n",
       "    <tr>\n",
       "      <th>7</th>\n",
       "      <td>5b013e8f4500d65c4d2fa460</td>\n",
       "      <td>[0.010549389, -0.0053413995, 0.0031645214, -0....</td>\n",
       "    </tr>\n",
       "    <tr>\n",
       "      <th>8</th>\n",
       "      <td>5b013e8f4500d65c4d2fa461</td>\n",
       "      <td>[0.0132017145, -0.002324929, 0.0034438393, -0....</td>\n",
       "    </tr>\n",
       "    <tr>\n",
       "      <th>9</th>\n",
       "      <td>5b013e904500d65c4d2fa47c</td>\n",
       "      <td>[0.011169956, -0.0037464255, 0.0026757102, -0....</td>\n",
       "    </tr>\n",
       "    <tr>\n",
       "      <th>10</th>\n",
       "      <td>5b013e904500d65c4d2fa487</td>\n",
       "      <td>[0.012328238, -0.0042279297, 8.680565e-05, -0....</td>\n",
       "    </tr>\n",
       "    <tr>\n",
       "      <th>11</th>\n",
       "      <td>5b013e904500d65c4d2fa488</td>\n",
       "      <td>[0.016862433, -0.003414688, 0.004218234, -0.00...</td>\n",
       "    </tr>\n",
       "    <tr>\n",
       "      <th>12</th>\n",
       "      <td>5b013e914500d65c4d2fa48a</td>\n",
       "      <td>[0.01204088, -0.0030314345, 0.0068941545, -0.0...</td>\n",
       "    </tr>\n",
       "    <tr>\n",
       "      <th>13</th>\n",
       "      <td>5b013e914500d65c4d2fa499</td>\n",
       "      <td>[0.01507015, -0.0040049786, -0.0012459663, -0....</td>\n",
       "    </tr>\n",
       "    <tr>\n",
       "      <th>14</th>\n",
       "      <td>5b013e914500d65c4d2fa49c</td>\n",
       "      <td>[0.018629251, -0.0039100773, 0.0056391945, -0....</td>\n",
       "    </tr>\n",
       "    <tr>\n",
       "      <th>15</th>\n",
       "      <td>5b013e924500d65c4d2fa4b2</td>\n",
       "      <td>[0.020288944, -0.0018346502, 0.0067887763, -0....</td>\n",
       "    </tr>\n",
       "    <tr>\n",
       "      <th>16</th>\n",
       "      <td>5b013e934500d65c4d2fa4c4</td>\n",
       "      <td>[0.015624765, -0.003383814, -0.00068817113, -0...</td>\n",
       "    </tr>\n",
       "    <tr>\n",
       "      <th>17</th>\n",
       "      <td>5b013e934500d65c4d2fa4c6</td>\n",
       "      <td>[0.015039165, -0.004117553, 8.890534e-05, -0.0...</td>\n",
       "    </tr>\n",
       "    <tr>\n",
       "      <th>18</th>\n",
       "      <td>5b013e934500d65c4d2fa4ca</td>\n",
       "      <td>[0.0137892, -0.0043583624, -0.00041879216, -0....</td>\n",
       "    </tr>\n",
       "    <tr>\n",
       "      <th>19</th>\n",
       "      <td>5b013e944500d65c4d2fa4e5</td>\n",
       "      <td>[0.023768017, 0.0050830822, 0.014901059, 0.000...</td>\n",
       "    </tr>\n",
       "    <tr>\n",
       "      <th>20</th>\n",
       "      <td>5b013e944500d65c4d2fa4e6</td>\n",
       "      <td>[0.02522895, 0.004532339, 0.010878602, -0.0039...</td>\n",
       "    </tr>\n",
       "    <tr>\n",
       "      <th>21</th>\n",
       "      <td>5b013e944500d65c4d2fa4f4</td>\n",
       "      <td>[0.018881502, -0.0029219633, 0.0048130355, -0....</td>\n",
       "    </tr>\n",
       "    <tr>\n",
       "      <th>22</th>\n",
       "      <td>5b013e954500d65c4d2fa506</td>\n",
       "      <td>[0.020865701, -0.00023644754, 0.005859711, -0....</td>\n",
       "    </tr>\n",
       "    <tr>\n",
       "      <th>23</th>\n",
       "      <td>5b013e954500d65c4d2fa511</td>\n",
       "      <td>[0.018737053, -0.003192492, -0.0018655715, -0....</td>\n",
       "    </tr>\n",
       "    <tr>\n",
       "      <th>24</th>\n",
       "      <td>5b013e9c4500d65c4d2fa5c6</td>\n",
       "      <td>[0.014346284, -0.0036578656, 0.0021856783, -0....</td>\n",
       "    </tr>\n",
       "    <tr>\n",
       "      <th>25</th>\n",
       "      <td>5b013e9c4500d65c4d2fa5c7</td>\n",
       "      <td>[0.008640368, -0.008300363, -0.0034300096, -0....</td>\n",
       "    </tr>\n",
       "    <tr>\n",
       "      <th>26</th>\n",
       "      <td>5b013e9c4500d65c4d2fa5c9</td>\n",
       "      <td>[0.018040214, -0.0012231735, 0.0069703795, -0....</td>\n",
       "    </tr>\n",
       "    <tr>\n",
       "      <th>27</th>\n",
       "      <td>5b013e9c4500d65c4d2fa5cd</td>\n",
       "      <td>[0.015668338, -0.0014502014, -0.0015116956, -0...</td>\n",
       "    </tr>\n",
       "    <tr>\n",
       "      <th>28</th>\n",
       "      <td>5b013eac4500d65c4d2fa791</td>\n",
       "      <td>[0.019638749, -0.005807208, 0.0018742011, -0.0...</td>\n",
       "    </tr>\n",
       "    <tr>\n",
       "      <th>29</th>\n",
       "      <td>5b013eac4500d65c4d2fa793</td>\n",
       "      <td>[0.011903293, -0.0044228975, -0.0040734597, -0...</td>\n",
       "    </tr>\n",
       "    <tr>\n",
       "      <th>...</th>\n",
       "      <td>...</td>\n",
       "      <td>...</td>\n",
       "    </tr>\n",
       "    <tr>\n",
       "      <th>1709</th>\n",
       "      <td>5b0141804500d65c4d2fef4c</td>\n",
       "      <td>[0.015622284, -0.0059721945, 0.00036303728, -0...</td>\n",
       "    </tr>\n",
       "    <tr>\n",
       "      <th>1710</th>\n",
       "      <td>5b0141804500d65c4d2fef54</td>\n",
       "      <td>[0.013792371, -0.0024166566, 0.003094845, -0.0...</td>\n",
       "    </tr>\n",
       "    <tr>\n",
       "      <th>1711</th>\n",
       "      <td>5b0141804500d65c4d2fef58</td>\n",
       "      <td>[0.022950342, -0.00621401, 0.005970874, -0.004...</td>\n",
       "    </tr>\n",
       "    <tr>\n",
       "      <th>1712</th>\n",
       "      <td>5b0141814500d65c4d2fef6a</td>\n",
       "      <td>[0.016340325, -0.004825787, 0.00016314971, -0....</td>\n",
       "    </tr>\n",
       "    <tr>\n",
       "      <th>1713</th>\n",
       "      <td>5b0141814500d65c4d2fef6d</td>\n",
       "      <td>[0.014956613, -0.006120857, -0.0014083904, -0....</td>\n",
       "    </tr>\n",
       "    <tr>\n",
       "      <th>1714</th>\n",
       "      <td>5b0141814500d65c4d2fef73</td>\n",
       "      <td>[0.012129432, -0.0022103628, 0.008273694, -0.0...</td>\n",
       "    </tr>\n",
       "    <tr>\n",
       "      <th>1715</th>\n",
       "      <td>5b0141814500d65c4d2fef78</td>\n",
       "      <td>[0.016661672, -0.002151214, 0.007405701, -0.01...</td>\n",
       "    </tr>\n",
       "    <tr>\n",
       "      <th>1716</th>\n",
       "      <td>5b0141824500d65c4d2fef81</td>\n",
       "      <td>[0.011118987, -0.008507293, 0.0023873465, -0.0...</td>\n",
       "    </tr>\n",
       "    <tr>\n",
       "      <th>1717</th>\n",
       "      <td>5b0141824500d65c4d2fef8a</td>\n",
       "      <td>[0.017717468, -0.007842746, 0.0023729831, -0.0...</td>\n",
       "    </tr>\n",
       "    <tr>\n",
       "      <th>1718</th>\n",
       "      <td>5b0141834500d65c4d2fef9c</td>\n",
       "      <td>[0.019181663, -0.005134734, -0.0014792614, -0....</td>\n",
       "    </tr>\n",
       "    <tr>\n",
       "      <th>1719</th>\n",
       "      <td>5b0141844500d65c4d2fefba</td>\n",
       "      <td>[0.023350323, 0.0005861012, 0.01293233, -0.001...</td>\n",
       "    </tr>\n",
       "    <tr>\n",
       "      <th>1720</th>\n",
       "      <td>5b0141844500d65c4d2fefbb</td>\n",
       "      <td>[0.009078061, -0.004188949, -8.307858e-05, -0....</td>\n",
       "    </tr>\n",
       "    <tr>\n",
       "      <th>1721</th>\n",
       "      <td>5b0141844500d65c4d2fefc4</td>\n",
       "      <td>[0.01455232, -0.002682004, 0.0053434144, -0.01...</td>\n",
       "    </tr>\n",
       "    <tr>\n",
       "      <th>1722</th>\n",
       "      <td>5b0141854500d65c4d2fefcb</td>\n",
       "      <td>[0.018449403, -0.005025134, 0.0030410097, -0.0...</td>\n",
       "    </tr>\n",
       "    <tr>\n",
       "      <th>1723</th>\n",
       "      <td>5b0141854500d65c4d2fefcd</td>\n",
       "      <td>[0.023008516, 8.622682e-05, 0.003751781, -0.00...</td>\n",
       "    </tr>\n",
       "    <tr>\n",
       "      <th>1724</th>\n",
       "      <td>5b0141854500d65c4d2fefd4</td>\n",
       "      <td>[0.010945097, -0.0032057134, 0.005761576, -0.0...</td>\n",
       "    </tr>\n",
       "    <tr>\n",
       "      <th>1725</th>\n",
       "      <td>5b0141854500d65c4d2fefda</td>\n",
       "      <td>[0.009757858, -0.0102220625, -0.007347521, -0....</td>\n",
       "    </tr>\n",
       "    <tr>\n",
       "      <th>1726</th>\n",
       "      <td>5b0141854500d65c4d2fefdb</td>\n",
       "      <td>[0.0158323, -0.0015974789, 0.010066817, -0.007...</td>\n",
       "    </tr>\n",
       "    <tr>\n",
       "      <th>1727</th>\n",
       "      <td>5b0141854500d65c4d2fefde</td>\n",
       "      <td>[0.014111778, -0.0046186815, 0.0057949466, -0....</td>\n",
       "    </tr>\n",
       "    <tr>\n",
       "      <th>1728</th>\n",
       "      <td>5b0141854500d65c4d2fefe0</td>\n",
       "      <td>[0.010253989, -0.004722225, -0.0022238847, -0....</td>\n",
       "    </tr>\n",
       "    <tr>\n",
       "      <th>1729</th>\n",
       "      <td>5b0141864500d65c4d2fefe8</td>\n",
       "      <td>[0.012142811, -0.0063124932, 0.0037035446, -0....</td>\n",
       "    </tr>\n",
       "    <tr>\n",
       "      <th>1730</th>\n",
       "      <td>5b0141864500d65c4d2fefec</td>\n",
       "      <td>[0.0035625526, -0.0067944685, -0.0070182467, -...</td>\n",
       "    </tr>\n",
       "    <tr>\n",
       "      <th>1731</th>\n",
       "      <td>5b0142824500d65c4d3008d3</td>\n",
       "      <td>[0.030240258, -0.0011615499, 0.005168664, -0.0...</td>\n",
       "    </tr>\n",
       "    <tr>\n",
       "      <th>1732</th>\n",
       "      <td>5b0142824500d65c4d3008d3</td>\n",
       "      <td>[0.030240258, -0.0011615499, 0.005168664, -0.0...</td>\n",
       "    </tr>\n",
       "    <tr>\n",
       "      <th>1733</th>\n",
       "      <td>5b0142df4500d65c4d30124f</td>\n",
       "      <td>[0.013163131, -0.006640071, 0.001934785, -0.01...</td>\n",
       "    </tr>\n",
       "    <tr>\n",
       "      <th>1734</th>\n",
       "      <td>5b0142df4500d65c4d30124f</td>\n",
       "      <td>[0.013163131, -0.006640071, 0.001934785, -0.01...</td>\n",
       "    </tr>\n",
       "    <tr>\n",
       "      <th>1735</th>\n",
       "      <td>5b0142df4500d65c4d301250</td>\n",
       "      <td>[0.011483675, -0.006211117, 0.0058544157, -0.0...</td>\n",
       "    </tr>\n",
       "    <tr>\n",
       "      <th>1736</th>\n",
       "      <td>5b0142df4500d65c4d301250</td>\n",
       "      <td>[0.011483675, -0.006211117, 0.0058544157, -0.0...</td>\n",
       "    </tr>\n",
       "    <tr>\n",
       "      <th>1737</th>\n",
       "      <td>5b0142df4500d65c4d301250</td>\n",
       "      <td>[0.011483675, -0.006211117, 0.0058544157, -0.0...</td>\n",
       "    </tr>\n",
       "    <tr>\n",
       "      <th>1738</th>\n",
       "      <td>5b0142df4500d65c4d301250</td>\n",
       "      <td>[0.011483675, -0.006211117, 0.0058544157, -0.0...</td>\n",
       "    </tr>\n",
       "  </tbody>\n",
       "</table>\n",
       "<p>1739 rows × 2 columns</p>\n",
       "</div>"
      ],
      "text/plain": [
       "                    product_id  \\\n",
       "0     5b013e8c4500d65c4d2fa41b   \n",
       "1     5b013e8d4500d65c4d2fa425   \n",
       "2     5b013e8e4500d65c4d2fa43d   \n",
       "3     5b013e8e4500d65c4d2fa445   \n",
       "4     5b013e8e4500d65c4d2fa446   \n",
       "5     5b013e8f4500d65c4d2fa45a   \n",
       "6     5b013e8f4500d65c4d2fa45b   \n",
       "7     5b013e8f4500d65c4d2fa460   \n",
       "8     5b013e8f4500d65c4d2fa461   \n",
       "9     5b013e904500d65c4d2fa47c   \n",
       "10    5b013e904500d65c4d2fa487   \n",
       "11    5b013e904500d65c4d2fa488   \n",
       "12    5b013e914500d65c4d2fa48a   \n",
       "13    5b013e914500d65c4d2fa499   \n",
       "14    5b013e914500d65c4d2fa49c   \n",
       "15    5b013e924500d65c4d2fa4b2   \n",
       "16    5b013e934500d65c4d2fa4c4   \n",
       "17    5b013e934500d65c4d2fa4c6   \n",
       "18    5b013e934500d65c4d2fa4ca   \n",
       "19    5b013e944500d65c4d2fa4e5   \n",
       "20    5b013e944500d65c4d2fa4e6   \n",
       "21    5b013e944500d65c4d2fa4f4   \n",
       "22    5b013e954500d65c4d2fa506   \n",
       "23    5b013e954500d65c4d2fa511   \n",
       "24    5b013e9c4500d65c4d2fa5c6   \n",
       "25    5b013e9c4500d65c4d2fa5c7   \n",
       "26    5b013e9c4500d65c4d2fa5c9   \n",
       "27    5b013e9c4500d65c4d2fa5cd   \n",
       "28    5b013eac4500d65c4d2fa791   \n",
       "29    5b013eac4500d65c4d2fa793   \n",
       "...                        ...   \n",
       "1709  5b0141804500d65c4d2fef4c   \n",
       "1710  5b0141804500d65c4d2fef54   \n",
       "1711  5b0141804500d65c4d2fef58   \n",
       "1712  5b0141814500d65c4d2fef6a   \n",
       "1713  5b0141814500d65c4d2fef6d   \n",
       "1714  5b0141814500d65c4d2fef73   \n",
       "1715  5b0141814500d65c4d2fef78   \n",
       "1716  5b0141824500d65c4d2fef81   \n",
       "1717  5b0141824500d65c4d2fef8a   \n",
       "1718  5b0141834500d65c4d2fef9c   \n",
       "1719  5b0141844500d65c4d2fefba   \n",
       "1720  5b0141844500d65c4d2fefbb   \n",
       "1721  5b0141844500d65c4d2fefc4   \n",
       "1722  5b0141854500d65c4d2fefcb   \n",
       "1723  5b0141854500d65c4d2fefcd   \n",
       "1724  5b0141854500d65c4d2fefd4   \n",
       "1725  5b0141854500d65c4d2fefda   \n",
       "1726  5b0141854500d65c4d2fefdb   \n",
       "1727  5b0141854500d65c4d2fefde   \n",
       "1728  5b0141854500d65c4d2fefe0   \n",
       "1729  5b0141864500d65c4d2fefe8   \n",
       "1730  5b0141864500d65c4d2fefec   \n",
       "1731  5b0142824500d65c4d3008d3   \n",
       "1732  5b0142824500d65c4d3008d3   \n",
       "1733  5b0142df4500d65c4d30124f   \n",
       "1734  5b0142df4500d65c4d30124f   \n",
       "1735  5b0142df4500d65c4d301250   \n",
       "1736  5b0142df4500d65c4d301250   \n",
       "1737  5b0142df4500d65c4d301250   \n",
       "1738  5b0142df4500d65c4d301250   \n",
       "\n",
       "                           tf_wv_desc_embedding_200_nap  \n",
       "0     [0.024669377, -0.0049285544, 0.00094511727, -0...  \n",
       "1     [0.01456125, -0.0048520938, -0.004193153, -0.0...  \n",
       "2     [0.00551367, -0.0064105573, 0.0039206864, -0.0...  \n",
       "3     [0.018165318, -0.0040821056, -0.0014719595, -0...  \n",
       "4     [0.012526386, -0.0047087525, 0.004192033, -0.0...  \n",
       "5     [0.02521637, -0.007163938, -0.0011767752, -0.0...  \n",
       "6     [0.011644115, -0.006797975, 0.002258105, -0.00...  \n",
       "7     [0.010549389, -0.0053413995, 0.0031645214, -0....  \n",
       "8     [0.0132017145, -0.002324929, 0.0034438393, -0....  \n",
       "9     [0.011169956, -0.0037464255, 0.0026757102, -0....  \n",
       "10    [0.012328238, -0.0042279297, 8.680565e-05, -0....  \n",
       "11    [0.016862433, -0.003414688, 0.004218234, -0.00...  \n",
       "12    [0.01204088, -0.0030314345, 0.0068941545, -0.0...  \n",
       "13    [0.01507015, -0.0040049786, -0.0012459663, -0....  \n",
       "14    [0.018629251, -0.0039100773, 0.0056391945, -0....  \n",
       "15    [0.020288944, -0.0018346502, 0.0067887763, -0....  \n",
       "16    [0.015624765, -0.003383814, -0.00068817113, -0...  \n",
       "17    [0.015039165, -0.004117553, 8.890534e-05, -0.0...  \n",
       "18    [0.0137892, -0.0043583624, -0.00041879216, -0....  \n",
       "19    [0.023768017, 0.0050830822, 0.014901059, 0.000...  \n",
       "20    [0.02522895, 0.004532339, 0.010878602, -0.0039...  \n",
       "21    [0.018881502, -0.0029219633, 0.0048130355, -0....  \n",
       "22    [0.020865701, -0.00023644754, 0.005859711, -0....  \n",
       "23    [0.018737053, -0.003192492, -0.0018655715, -0....  \n",
       "24    [0.014346284, -0.0036578656, 0.0021856783, -0....  \n",
       "25    [0.008640368, -0.008300363, -0.0034300096, -0....  \n",
       "26    [0.018040214, -0.0012231735, 0.0069703795, -0....  \n",
       "27    [0.015668338, -0.0014502014, -0.0015116956, -0...  \n",
       "28    [0.019638749, -0.005807208, 0.0018742011, -0.0...  \n",
       "29    [0.011903293, -0.0044228975, -0.0040734597, -0...  \n",
       "...                                                 ...  \n",
       "1709  [0.015622284, -0.0059721945, 0.00036303728, -0...  \n",
       "1710  [0.013792371, -0.0024166566, 0.003094845, -0.0...  \n",
       "1711  [0.022950342, -0.00621401, 0.005970874, -0.004...  \n",
       "1712  [0.016340325, -0.004825787, 0.00016314971, -0....  \n",
       "1713  [0.014956613, -0.006120857, -0.0014083904, -0....  \n",
       "1714  [0.012129432, -0.0022103628, 0.008273694, -0.0...  \n",
       "1715  [0.016661672, -0.002151214, 0.007405701, -0.01...  \n",
       "1716  [0.011118987, -0.008507293, 0.0023873465, -0.0...  \n",
       "1717  [0.017717468, -0.007842746, 0.0023729831, -0.0...  \n",
       "1718  [0.019181663, -0.005134734, -0.0014792614, -0....  \n",
       "1719  [0.023350323, 0.0005861012, 0.01293233, -0.001...  \n",
       "1720  [0.009078061, -0.004188949, -8.307858e-05, -0....  \n",
       "1721  [0.01455232, -0.002682004, 0.0053434144, -0.01...  \n",
       "1722  [0.018449403, -0.005025134, 0.0030410097, -0.0...  \n",
       "1723  [0.023008516, 8.622682e-05, 0.003751781, -0.00...  \n",
       "1724  [0.010945097, -0.0032057134, 0.005761576, -0.0...  \n",
       "1725  [0.009757858, -0.0102220625, -0.007347521, -0....  \n",
       "1726  [0.0158323, -0.0015974789, 0.010066817, -0.007...  \n",
       "1727  [0.014111778, -0.0046186815, 0.0057949466, -0....  \n",
       "1728  [0.010253989, -0.004722225, -0.0022238847, -0....  \n",
       "1729  [0.012142811, -0.0063124932, 0.0037035446, -0....  \n",
       "1730  [0.0035625526, -0.0067944685, -0.0070182467, -...  \n",
       "1731  [0.030240258, -0.0011615499, 0.005168664, -0.0...  \n",
       "1732  [0.030240258, -0.0011615499, 0.005168664, -0.0...  \n",
       "1733  [0.013163131, -0.006640071, 0.001934785, -0.01...  \n",
       "1734  [0.013163131, -0.006640071, 0.001934785, -0.01...  \n",
       "1735  [0.011483675, -0.006211117, 0.0058544157, -0.0...  \n",
       "1736  [0.011483675, -0.006211117, 0.0058544157, -0.0...  \n",
       "1737  [0.011483675, -0.006211117, 0.0058544157, -0.0...  \n",
       "1738  [0.011483675, -0.006211117, 0.0058544157, -0.0...  \n",
       "\n",
       "[1739 rows x 2 columns]"
      ]
     },
     "execution_count": 35,
     "metadata": {},
     "output_type": "execute_result"
    }
   ],
   "source": [
    "df[df['product_id'].isin(df_original['product_id'])][['product_id','tf_wv_desc_embedding_200_nap']]"
   ]
  },
  {
   "cell_type": "markdown",
   "metadata": {},
   "source": [
    "## split train test"
   ]
  },
  {
   "cell_type": "code",
   "execution_count": 36,
   "metadata": {},
   "outputs": [],
   "source": [
    "data = df[df['label'].notnull()]"
   ]
  },
  {
   "cell_type": "code",
   "execution_count": 37,
   "metadata": {
    "scrolled": false
   },
   "outputs": [
    {
     "data": {
      "text/plain": [
       "[('casual', 503),\n",
       " ('romantic', 397),\n",
       " ('artsy', 278),\n",
       " ('minimalistic', 212),\n",
       " ('sophisticated', 205),\n",
       " ('vintage', 195),\n",
       " ('tailored', 193),\n",
       " ('chic', 179),\n",
       " ('exotic', 179),\n",
       " ('athleisure', 168),\n",
       " ('business', 167),\n",
       " ('glam', 161),\n",
       " ('street', 149),\n",
       " ('sexy', 138),\n",
       " ('classic', 122),\n",
       " ('edgy', 96),\n",
       " ('bohemian', 76),\n",
       " ('sartorial', 72),\n",
       " ('punk', 57),\n",
       " ('western', 55),\n",
       " ('preppy', 42),\n",
       " ('rocker', 40),\n",
       " ('hipster', 23),\n",
       " ('gothic', 13)]"
      ]
     },
     "execution_count": 37,
     "metadata": {},
     "output_type": "execute_result"
    }
   ],
   "source": [
    "from collections import Counter\n",
    "style_counts = [x for sublist in data['label'].tolist() for x in sublist]\n",
    "style_dict=Counter(style_counts)\n",
    "style_dict.most_common()"
   ]
  },
  {
   "cell_type": "code",
   "execution_count": 38,
   "metadata": {
    "scrolled": false
   },
   "outputs": [
    {
     "data": {
      "text/plain": [
       "<BarContainer object of 24 artists>"
      ]
     },
     "execution_count": 38,
     "metadata": {},
     "output_type": "execute_result"
    },
    {
     "data": {
      "image/png": "[encoded data removed]",
      "text/plain": [
       "<Figure size 2160x576 with 1 Axes>"
      ]
     },
     "metadata": {},
     "output_type": "display_data"
    }
   ],
   "source": [
    "indexes = list(style_dict.keys())\n",
    "labels, values = zip(*style_dict.items())\n",
    "\n",
    "plt.figure(figsize=(30,8))\n",
    "width = 1\n",
    "plt.bar(indexes, values, width, align='center', )"
   ]
  },
  {
   "cell_type": "markdown",
   "metadata": {},
   "source": [
    "# Multi-class classification"
   ]
  },
  {
   "cell_type": "code",
   "execution_count": 50,
   "metadata": {},
   "outputs": [],
   "source": [
    "data['single_label'] = [x[0] for x in data['label']]"
   ]
  },
  {
   "cell_type": "code",
   "execution_count": 58,
   "metadata": {
    "scrolled": true
   },
   "outputs": [
    {
     "data": {
      "text/plain": [
       "array([0, 0, 0, 0, 0, 0, 0, 0, 0, 0, 0, 0, 0, 0, 0, 0, 1, 0, 0, 0, 0, 0,\n",
       "       0, 0])"
      ]
     },
     "execution_count": 58,
     "metadata": {},
     "output_type": "execute_result"
    }
   ],
   "source": [
    "# Convert labels to k-hot\n",
    "lb = LabelBinarizer()\n",
    "Y_single = lb.fit_transform(data['single_label'])"
   ]
  },
  {
   "cell_type": "code",
   "execution_count": 59,
   "metadata": {},
   "outputs": [],
   "source": [
    "embeddings = ['tf_wv_desc_embedding_200_nap']"
   ]
  },
  {
   "cell_type": "code",
   "execution_count": 60,
   "metadata": {},
   "outputs": [],
   "source": [
    "# Select embeddings from dataframe\n",
    "X = data[embeddings]"
   ]
  },
  {
   "cell_type": "code",
   "execution_count": 61,
   "metadata": {},
   "outputs": [],
   "source": [
    "# 80/20 train/test\n",
    "x_train, x_test, y_train, y_test = train_test_split(X, Y_single, test_size = 0.2, random_state = 2018)"
   ]
  },
  {
   "cell_type": "code",
   "execution_count": 71,
   "metadata": {},
   "outputs": [
    {
     "ename": "NameError",
     "evalue": "name 'MultinomialNB' is not defined",
     "output_type": "error",
     "traceback": [
      "\u001b[0;31m---------------------------------------------------------------------------\u001b[0m",
      "\u001b[0;31mNameError\u001b[0m                                 Traceback (most recent call last)",
      "\u001b[0;32m<ipython-input-71-1039f3d56cee>\u001b[0m in \u001b[0;36m<module>\u001b[0;34m()\u001b[0m\n\u001b[1;32m      1\u001b[0m NB_pipeline = Pipeline([\n\u001b[1;32m      2\u001b[0m                 \u001b[0;34m(\u001b[0m\u001b[0;34m'tfidf'\u001b[0m\u001b[0;34m,\u001b[0m \u001b[0mTfidfVectorizer\u001b[0m\u001b[0;34m(\u001b[0m\u001b[0mstop_words\u001b[0m\u001b[0;34m=\u001b[0m\u001b[0;34m'english'\u001b[0m\u001b[0;34m)\u001b[0m\u001b[0;34m)\u001b[0m\u001b[0;34m,\u001b[0m\u001b[0;34m\u001b[0m\u001b[0m\n\u001b[0;32m----> 3\u001b[0;31m                 ('clf', OneVsRestClassifier(MultinomialNB(\n\u001b[0m\u001b[1;32m      4\u001b[0m                     fit_prior=True, class_prior=None))),\n\u001b[1;32m      5\u001b[0m             ])\n",
      "\u001b[0;31mNameError\u001b[0m: name 'MultinomialNB' is not defined"
     ]
    }
   ],
   "source": [
    "NB_pipeline = Pipeline([\n",
    "                ('tfidf', TfidfVectorizer(stop_words='english')),\n",
    "                ('clf', OneVsRestClassifier(MultinomialNB(\n",
    "                    fit_prior=True, class_prior=None))),\n",
    "            ])\n",
    "\n",
    "for category in mlb.classes_:\n",
    "    print('... Processing {}'.format(category))\n",
    "    # train the model using X_dtm & y\n",
    "    NB_pipeline.fit(X_train, y_train[category])\n",
    "    # compute the testing accuracy\n",
    "    prediction = NB_pipeline.predict(X_test)\n",
    "    print('Test accuracy is {}'.format(accuracy_score(y_test[category], prediction)))"
   ]
  },
  {
   "cell_type": "code",
   "execution_count": null,
   "metadata": {},
   "outputs": [],
   "source": []
  },
  {
   "cell_type": "code",
   "execution_count": 66,
   "metadata": {},
   "outputs": [],
   "source": [
    "# Construct grid searches\n",
    "jobs = -1\n",
    "\n",
    "gs_lr_tf_idf = GridSearchCV(estimator=pipe_lr_tfidf,\n",
    "        param_grid=grid_params_lr,\n",
    "        scoring='precision',\n",
    "        cv=5)\n",
    "\n",
    "gs_lr = GridSearchCV(estimator=pipe_lr,\n",
    "        param_grid=grid_params_lr,\n",
    "        scoring='accuracy',\n",
    "        cv=5) \n",
    "\n",
    "gs_rf = GridSearchCV(estimator=pipe_rf,\n",
    "        param_grid=grid_params_rf,\n",
    "        scoring='accuracy',\n",
    "        cv=10, \n",
    "        n_jobs=jobs)\n",
    "\n",
    "gs_svm = GridSearchCV(estimator=pipe_svm,\n",
    "        param_grid=grid_params_svm,\n",
    "        scoring='recall_micro',\n",
    "        cv=10, \n",
    "        n_jobs=jobs)\n",
    "\n",
    "gs_ada = GridSearchCV(\n",
    "        estimator=pipe_ada,\n",
    "        param_grid=grid_params_ada,\n",
    "        scoring='recall_micro',\n",
    "        cv=10, \n",
    "        n_jobs=jobs)\n",
    "\n",
    "# gs_xgb = GridSearchCV(estimator=pipe_xgb,\n",
    "#         param_grid=grid_params_xgb,\n",
    "#         scoring='recall_micro',\n",
    "#         cv=10, \n",
    "#         n_jobs=jobs)\n",
    "\n",
    "# gs_rf.fit(np.vstack(x_train['tf_wv_desc_embedding']), y_train)\n",
    "            # gs_rf.fit(d/ata['comb_desc'][:400], Y[:400])\n",
    "            # gs_svm.fit(newdata, Y[:400])"
   ]
  },
  {
   "cell_type": "code",
   "execution_count": 69,
   "metadata": {
    "scrolled": true
   },
   "outputs": [
    {
     "ename": "JoblibValueError",
     "evalue": "JoblibValueError\n___________________________________________________________________________\nMultiprocessing exception:\n...........................................................................\n/Users/yiru/.pyenv/versions/3.6.1/lib/python3.6/runpy.py in _run_module_as_main(mod_name='ipykernel_launcher', alter_argv=1)\n    188         sys.exit(msg)\n    189     main_globals = sys.modules[\"__main__\"].__dict__\n    190     if alter_argv:\n    191         sys.argv[0] = mod_spec.origin\n    192     return _run_code(code, main_globals, None,\n--> 193                      \"__main__\", mod_spec)\n        mod_spec = ModuleSpec(name='ipykernel_launcher', loader=<_f...b/python3.6/site-packages/ipykernel_launcher.py')\n    194 \n    195 def run_module(mod_name, init_globals=None,\n    196                run_name=None, alter_sys=False):\n    197     \"\"\"Execute a module's code without importing it\n\n...........................................................................\n/Users/yiru/.pyenv/versions/3.6.1/lib/python3.6/runpy.py in _run_code(code=<code object <module> at 0x10971a9c0, file \"/Use...3.6/site-packages/ipykernel_launcher.py\", line 5>, run_globals={'__annotations__': {}, '__builtins__': <module 'builtins' (built-in)>, '__cached__': '/Users/yiru/.pyenv/versions/fashion_project/lib/...ges/__pycache__/ipykernel_launcher.cpython-36.pyc', '__doc__': 'Entry point for launching an IPython kernel.\\n\\nTh...orts until\\nafter removing the cwd from sys.path.\\n', '__file__': '/Users/yiru/.pyenv/versions/fashion_project/lib/python3.6/site-packages/ipykernel_launcher.py', '__loader__': <_frozen_importlib_external.SourceFileLoader object>, '__name__': '__main__', '__package__': '', '__spec__': ModuleSpec(name='ipykernel_launcher', loader=<_f...b/python3.6/site-packages/ipykernel_launcher.py'), 'app': <module 'ipykernel.kernelapp' from '/Users/yiru/.../python3.6/site-packages/ipykernel/kernelapp.py'>, ...}, init_globals=None, mod_name='__main__', mod_spec=ModuleSpec(name='ipykernel_launcher', loader=<_f...b/python3.6/site-packages/ipykernel_launcher.py'), pkg_name='', script_name=None)\n     80                        __cached__ = cached,\n     81                        __doc__ = None,\n     82                        __loader__ = loader,\n     83                        __package__ = pkg_name,\n     84                        __spec__ = mod_spec)\n---> 85     exec(code, run_globals)\n        code = <code object <module> at 0x10971a9c0, file \"/Use...3.6/site-packages/ipykernel_launcher.py\", line 5>\n        run_globals = {'__annotations__': {}, '__builtins__': <module 'builtins' (built-in)>, '__cached__': '/Users/yiru/.pyenv/versions/fashion_project/lib/...ges/__pycache__/ipykernel_launcher.cpython-36.pyc', '__doc__': 'Entry point for launching an IPython kernel.\\n\\nTh...orts until\\nafter removing the cwd from sys.path.\\n', '__file__': '/Users/yiru/.pyenv/versions/fashion_project/lib/python3.6/site-packages/ipykernel_launcher.py', '__loader__': <_frozen_importlib_external.SourceFileLoader object>, '__name__': '__main__', '__package__': '', '__spec__': ModuleSpec(name='ipykernel_launcher', loader=<_f...b/python3.6/site-packages/ipykernel_launcher.py'), 'app': <module 'ipykernel.kernelapp' from '/Users/yiru/.../python3.6/site-packages/ipykernel/kernelapp.py'>, ...}\n     86     return run_globals\n     87 \n     88 def _run_module_code(code, init_globals=None,\n     89                     mod_name=None, mod_spec=None,\n\n...........................................................................\n/Users/yiru/.pyenv/versions/fashion_project/lib/python3.6/site-packages/ipykernel_launcher.py in <module>()\n     11     # This is added back by InteractiveShellApp.init_path()\n     12     if sys.path[0] == '':\n     13         del sys.path[0]\n     14 \n     15     from ipykernel import kernelapp as app\n---> 16     app.launch_new_instance()\n\n...........................................................................\n/Users/yiru/.pyenv/versions/fashion_project/lib/python3.6/site-packages/traitlets/config/application.py in launch_instance(cls=<class 'ipykernel.kernelapp.IPKernelApp'>, argv=None, **kwargs={})\n    653 \n    654         If a global instance already exists, this reinitializes and starts it\n    655         \"\"\"\n    656         app = cls.instance(**kwargs)\n    657         app.initialize(argv)\n--> 658         app.start()\n        app.start = <bound method IPKernelApp.start of <ipykernel.kernelapp.IPKernelApp object>>\n    659 \n    660 #-----------------------------------------------------------------------------\n    661 # utility functions, for convenience\n    662 #-----------------------------------------------------------------------------\n\n...........................................................................\n/Users/yiru/.pyenv/versions/fashion_project/lib/python3.6/site-packages/ipykernel/kernelapp.py in start(self=<ipykernel.kernelapp.IPKernelApp object>)\n    481         if self.poller is not None:\n    482             self.poller.start()\n    483         self.kernel.start()\n    484         self.io_loop = ioloop.IOLoop.current()\n    485         try:\n--> 486             self.io_loop.start()\n        self.io_loop.start = <bound method BaseAsyncIOLoop.start of <tornado.platform.asyncio.AsyncIOMainLoop object>>\n    487         except KeyboardInterrupt:\n    488             pass\n    489 \n    490 launch_new_instance = IPKernelApp.launch_instance\n\n...........................................................................\n/Users/yiru/.pyenv/versions/fashion_project/lib/python3.6/site-packages/tornado/platform/asyncio.py in start(self=<tornado.platform.asyncio.AsyncIOMainLoop object>)\n    122         except (RuntimeError, AssertionError):\n    123             old_loop = None\n    124         try:\n    125             self._setup_logging()\n    126             asyncio.set_event_loop(self.asyncio_loop)\n--> 127             self.asyncio_loop.run_forever()\n        self.asyncio_loop.run_forever = <bound method BaseEventLoop.run_forever of <_Uni...EventLoop running=True closed=False debug=False>>\n    128         finally:\n    129             asyncio.set_event_loop(old_loop)\n    130 \n    131     def stop(self):\n\n...........................................................................\n/Users/yiru/.pyenv/versions/3.6.1/lib/python3.6/asyncio/base_events.py in run_forever(self=<_UnixSelectorEventLoop running=True closed=False debug=False>)\n    416             sys.set_asyncgen_hooks(firstiter=self._asyncgen_firstiter_hook,\n    417                                    finalizer=self._asyncgen_finalizer_hook)\n    418         try:\n    419             events._set_running_loop(self)\n    420             while True:\n--> 421                 self._run_once()\n        self._run_once = <bound method BaseEventLoop._run_once of <_UnixS...EventLoop running=True closed=False debug=False>>\n    422                 if self._stopping:\n    423                     break\n    424         finally:\n    425             self._stopping = False\n\n...........................................................................\n/Users/yiru/.pyenv/versions/3.6.1/lib/python3.6/asyncio/base_events.py in _run_once(self=<_UnixSelectorEventLoop running=True closed=False debug=False>)\n   1420                         logger.warning('Executing %s took %.3f seconds',\n   1421                                        _format_handle(handle), dt)\n   1422                 finally:\n   1423                     self._current_handle = None\n   1424             else:\n-> 1425                 handle._run()\n        handle._run = <bound method Handle._run of <Handle BaseAsyncIOLoop._handle_events(13, 1)>>\n   1426         handle = None  # Needed to break cycles when an exception occurs.\n   1427 \n   1428     def _set_coroutine_wrapper(self, enabled):\n   1429         try:\n\n...........................................................................\n/Users/yiru/.pyenv/versions/3.6.1/lib/python3.6/asyncio/events.py in _run(self=<Handle BaseAsyncIOLoop._handle_events(13, 1)>)\n    122             self._callback = None\n    123             self._args = None\n    124 \n    125     def _run(self):\n    126         try:\n--> 127             self._callback(*self._args)\n        self._callback = <bound method BaseAsyncIOLoop._handle_events of <tornado.platform.asyncio.AsyncIOMainLoop object>>\n        self._args = (13, 1)\n    128         except Exception as exc:\n    129             cb = _format_callback_source(self._callback, self._args)\n    130             msg = 'Exception in callback {}'.format(cb)\n    131             context = {\n\n...........................................................................\n/Users/yiru/.pyenv/versions/fashion_project/lib/python3.6/site-packages/tornado/platform/asyncio.py in _handle_events(self=<tornado.platform.asyncio.AsyncIOMainLoop object>, fd=13, events=1)\n    112             self.writers.remove(fd)\n    113         del self.handlers[fd]\n    114 \n    115     def _handle_events(self, fd, events):\n    116         fileobj, handler_func = self.handlers[fd]\n--> 117         handler_func(fileobj, events)\n        handler_func = <function wrap.<locals>.null_wrapper>\n        fileobj = <zmq.sugar.socket.Socket object>\n        events = 1\n    118 \n    119     def start(self):\n    120         try:\n    121             old_loop = asyncio.get_event_loop()\n\n...........................................................................\n/Users/yiru/.pyenv/versions/fashion_project/lib/python3.6/site-packages/tornado/stack_context.py in null_wrapper(*args=(<zmq.sugar.socket.Socket object>, 1), **kwargs={})\n    271         # Fast path when there are no active contexts.\n    272         def null_wrapper(*args, **kwargs):\n    273             try:\n    274                 current_state = _state.contexts\n    275                 _state.contexts = cap_contexts[0]\n--> 276                 return fn(*args, **kwargs)\n        args = (<zmq.sugar.socket.Socket object>, 1)\n        kwargs = {}\n    277             finally:\n    278                 _state.contexts = current_state\n    279         null_wrapper._wrapped = True\n    280         return null_wrapper\n\n...........................................................................\n/Users/yiru/.pyenv/versions/fashion_project/lib/python3.6/site-packages/zmq/eventloop/zmqstream.py in _handle_events(self=<zmq.eventloop.zmqstream.ZMQStream object>, fd=<zmq.sugar.socket.Socket object>, events=1)\n    445             return\n    446         zmq_events = self.socket.EVENTS\n    447         try:\n    448             # dispatch events:\n    449             if zmq_events & zmq.POLLIN and self.receiving():\n--> 450                 self._handle_recv()\n        self._handle_recv = <bound method ZMQStream._handle_recv of <zmq.eventloop.zmqstream.ZMQStream object>>\n    451                 if not self.socket:\n    452                     return\n    453             if zmq_events & zmq.POLLOUT and self.sending():\n    454                 self._handle_send()\n\n...........................................................................\n/Users/yiru/.pyenv/versions/fashion_project/lib/python3.6/site-packages/zmq/eventloop/zmqstream.py in _handle_recv(self=<zmq.eventloop.zmqstream.ZMQStream object>)\n    475             else:\n    476                 raise\n    477         else:\n    478             if self._recv_callback:\n    479                 callback = self._recv_callback\n--> 480                 self._run_callback(callback, msg)\n        self._run_callback = <bound method ZMQStream._run_callback of <zmq.eventloop.zmqstream.ZMQStream object>>\n        callback = <function wrap.<locals>.null_wrapper>\n        msg = [<zmq.sugar.frame.Frame object>, <zmq.sugar.frame.Frame object>, <zmq.sugar.frame.Frame object>, <zmq.sugar.frame.Frame object>, <zmq.sugar.frame.Frame object>, <zmq.sugar.frame.Frame object>, <zmq.sugar.frame.Frame object>]\n    481         \n    482 \n    483     def _handle_send(self):\n    484         \"\"\"Handle a send event.\"\"\"\n\n...........................................................................\n/Users/yiru/.pyenv/versions/fashion_project/lib/python3.6/site-packages/zmq/eventloop/zmqstream.py in _run_callback(self=<zmq.eventloop.zmqstream.ZMQStream object>, callback=<function wrap.<locals>.null_wrapper>, *args=([<zmq.sugar.frame.Frame object>, <zmq.sugar.frame.Frame object>, <zmq.sugar.frame.Frame object>, <zmq.sugar.frame.Frame object>, <zmq.sugar.frame.Frame object>, <zmq.sugar.frame.Frame object>, <zmq.sugar.frame.Frame object>],), **kwargs={})\n    427         close our socket.\"\"\"\n    428         try:\n    429             # Use a NullContext to ensure that all StackContexts are run\n    430             # inside our blanket exception handler rather than outside.\n    431             with stack_context.NullContext():\n--> 432                 callback(*args, **kwargs)\n        callback = <function wrap.<locals>.null_wrapper>\n        args = ([<zmq.sugar.frame.Frame object>, <zmq.sugar.frame.Frame object>, <zmq.sugar.frame.Frame object>, <zmq.sugar.frame.Frame object>, <zmq.sugar.frame.Frame object>, <zmq.sugar.frame.Frame object>, <zmq.sugar.frame.Frame object>],)\n        kwargs = {}\n    433         except:\n    434             gen_log.error(\"Uncaught exception in ZMQStream callback\",\n    435                           exc_info=True)\n    436             # Re-raise the exception so that IOLoop.handle_callback_exception\n\n...........................................................................\n/Users/yiru/.pyenv/versions/fashion_project/lib/python3.6/site-packages/tornado/stack_context.py in null_wrapper(*args=([<zmq.sugar.frame.Frame object>, <zmq.sugar.frame.Frame object>, <zmq.sugar.frame.Frame object>, <zmq.sugar.frame.Frame object>, <zmq.sugar.frame.Frame object>, <zmq.sugar.frame.Frame object>, <zmq.sugar.frame.Frame object>],), **kwargs={})\n    271         # Fast path when there are no active contexts.\n    272         def null_wrapper(*args, **kwargs):\n    273             try:\n    274                 current_state = _state.contexts\n    275                 _state.contexts = cap_contexts[0]\n--> 276                 return fn(*args, **kwargs)\n        args = ([<zmq.sugar.frame.Frame object>, <zmq.sugar.frame.Frame object>, <zmq.sugar.frame.Frame object>, <zmq.sugar.frame.Frame object>, <zmq.sugar.frame.Frame object>, <zmq.sugar.frame.Frame object>, <zmq.sugar.frame.Frame object>],)\n        kwargs = {}\n    277             finally:\n    278                 _state.contexts = current_state\n    279         null_wrapper._wrapped = True\n    280         return null_wrapper\n\n...........................................................................\n/Users/yiru/.pyenv/versions/fashion_project/lib/python3.6/site-packages/ipykernel/kernelbase.py in dispatcher(msg=[<zmq.sugar.frame.Frame object>, <zmq.sugar.frame.Frame object>, <zmq.sugar.frame.Frame object>, <zmq.sugar.frame.Frame object>, <zmq.sugar.frame.Frame object>, <zmq.sugar.frame.Frame object>, <zmq.sugar.frame.Frame object>])\n    278         if self.control_stream:\n    279             self.control_stream.on_recv(self.dispatch_control, copy=False)\n    280 \n    281         def make_dispatcher(stream):\n    282             def dispatcher(msg):\n--> 283                 return self.dispatch_shell(stream, msg)\n        msg = [<zmq.sugar.frame.Frame object>, <zmq.sugar.frame.Frame object>, <zmq.sugar.frame.Frame object>, <zmq.sugar.frame.Frame object>, <zmq.sugar.frame.Frame object>, <zmq.sugar.frame.Frame object>, <zmq.sugar.frame.Frame object>]\n    284             return dispatcher\n    285 \n    286         for s in self.shell_streams:\n    287             s.on_recv(make_dispatcher(s), copy=False)\n\n...........................................................................\n/Users/yiru/.pyenv/versions/fashion_project/lib/python3.6/site-packages/ipykernel/kernelbase.py in dispatch_shell(self=<ipykernel.ipkernel.IPythonKernel object>, stream=<zmq.eventloop.zmqstream.ZMQStream object>, msg={'buffers': [], 'content': {'allow_stdin': True, 'code': \"%%time\\ngs_svm.fit(np.vstack(x_train['tf_wv_desc_....vstack(x_train['tf_wv_desc_embedding_200_nap']))\", 'silent': False, 'stop_on_error': True, 'store_history': True, 'user_expressions': {}}, 'header': {'date': datetime.datetime(2018, 9, 8, 17, 38, 42, 592065, tzinfo=tzutc()), 'msg_id': 'c53c3ba560604d52aef0e562aaf564b3', 'msg_type': 'execute_request', 'session': 'e2675bfc17b843d384d1724201b99fce', 'username': 'username', 'version': '5.2'}, 'metadata': {}, 'msg_id': 'c53c3ba560604d52aef0e562aaf564b3', 'msg_type': 'execute_request', 'parent_header': {}})\n    228             self.log.warn(\"Unknown message type: %r\", msg_type)\n    229         else:\n    230             self.log.debug(\"%s: %s\", msg_type, msg)\n    231             self.pre_handler_hook()\n    232             try:\n--> 233                 handler(stream, idents, msg)\n        handler = <bound method Kernel.execute_request of <ipykernel.ipkernel.IPythonKernel object>>\n        stream = <zmq.eventloop.zmqstream.ZMQStream object>\n        idents = [b'e2675bfc17b843d384d1724201b99fce']\n        msg = {'buffers': [], 'content': {'allow_stdin': True, 'code': \"%%time\\ngs_svm.fit(np.vstack(x_train['tf_wv_desc_....vstack(x_train['tf_wv_desc_embedding_200_nap']))\", 'silent': False, 'stop_on_error': True, 'store_history': True, 'user_expressions': {}}, 'header': {'date': datetime.datetime(2018, 9, 8, 17, 38, 42, 592065, tzinfo=tzutc()), 'msg_id': 'c53c3ba560604d52aef0e562aaf564b3', 'msg_type': 'execute_request', 'session': 'e2675bfc17b843d384d1724201b99fce', 'username': 'username', 'version': '5.2'}, 'metadata': {}, 'msg_id': 'c53c3ba560604d52aef0e562aaf564b3', 'msg_type': 'execute_request', 'parent_header': {}}\n    234             except Exception:\n    235                 self.log.error(\"Exception in message handler:\", exc_info=True)\n    236             finally:\n    237                 self.post_handler_hook()\n\n...........................................................................\n/Users/yiru/.pyenv/versions/fashion_project/lib/python3.6/site-packages/ipykernel/kernelbase.py in execute_request(self=<ipykernel.ipkernel.IPythonKernel object>, stream=<zmq.eventloop.zmqstream.ZMQStream object>, ident=[b'e2675bfc17b843d384d1724201b99fce'], parent={'buffers': [], 'content': {'allow_stdin': True, 'code': \"%%time\\ngs_svm.fit(np.vstack(x_train['tf_wv_desc_....vstack(x_train['tf_wv_desc_embedding_200_nap']))\", 'silent': False, 'stop_on_error': True, 'store_history': True, 'user_expressions': {}}, 'header': {'date': datetime.datetime(2018, 9, 8, 17, 38, 42, 592065, tzinfo=tzutc()), 'msg_id': 'c53c3ba560604d52aef0e562aaf564b3', 'msg_type': 'execute_request', 'session': 'e2675bfc17b843d384d1724201b99fce', 'username': 'username', 'version': '5.2'}, 'metadata': {}, 'msg_id': 'c53c3ba560604d52aef0e562aaf564b3', 'msg_type': 'execute_request', 'parent_header': {}})\n    394         if not silent:\n    395             self.execution_count += 1\n    396             self._publish_execute_input(code, parent, self.execution_count)\n    397 \n    398         reply_content = self.do_execute(code, silent, store_history,\n--> 399                                         user_expressions, allow_stdin)\n        user_expressions = {}\n        allow_stdin = True\n    400 \n    401         # Flush output before sending the reply.\n    402         sys.stdout.flush()\n    403         sys.stderr.flush()\n\n...........................................................................\n/Users/yiru/.pyenv/versions/fashion_project/lib/python3.6/site-packages/ipykernel/ipkernel.py in do_execute(self=<ipykernel.ipkernel.IPythonKernel object>, code=\"%%time\\ngs_svm.fit(np.vstack(x_train['tf_wv_desc_....vstack(x_train['tf_wv_desc_embedding_200_nap']))\", silent=False, store_history=True, user_expressions={}, allow_stdin=True)\n    203 \n    204         self._forward_input(allow_stdin)\n    205 \n    206         reply_content = {}\n    207         try:\n--> 208             res = shell.run_cell(code, store_history=store_history, silent=silent)\n        res = undefined\n        shell.run_cell = <bound method ZMQInteractiveShell.run_cell of <ipykernel.zmqshell.ZMQInteractiveShell object>>\n        code = \"%%time\\ngs_svm.fit(np.vstack(x_train['tf_wv_desc_....vstack(x_train['tf_wv_desc_embedding_200_nap']))\"\n        store_history = True\n        silent = False\n    209         finally:\n    210             self._restore_input()\n    211 \n    212         if res.error_before_exec is not None:\n\n...........................................................................\n/Users/yiru/.pyenv/versions/fashion_project/lib/python3.6/site-packages/ipykernel/zmqshell.py in run_cell(self=<ipykernel.zmqshell.ZMQInteractiveShell object>, *args=(\"%%time\\ngs_svm.fit(np.vstack(x_train['tf_wv_desc_....vstack(x_train['tf_wv_desc_embedding_200_nap']))\",), **kwargs={'silent': False, 'store_history': True})\n    532             )\n    533         self.payload_manager.write_payload(payload)\n    534 \n    535     def run_cell(self, *args, **kwargs):\n    536         self._last_traceback = None\n--> 537         return super(ZMQInteractiveShell, self).run_cell(*args, **kwargs)\n        self.run_cell = <bound method ZMQInteractiveShell.run_cell of <ipykernel.zmqshell.ZMQInteractiveShell object>>\n        args = (\"%%time\\ngs_svm.fit(np.vstack(x_train['tf_wv_desc_....vstack(x_train['tf_wv_desc_embedding_200_nap']))\",)\n        kwargs = {'silent': False, 'store_history': True}\n    538 \n    539     def _showtraceback(self, etype, evalue, stb):\n    540         # try to preserve ordering of tracebacks and print statements\n    541         sys.stdout.flush()\n\n...........................................................................\n/Users/yiru/.pyenv/versions/fashion_project/lib/python3.6/site-packages/IPython/core/interactiveshell.py in run_cell(self=<ipykernel.zmqshell.ZMQInteractiveShell object>, raw_cell=\"%%time\\ngs_svm.fit(np.vstack(x_train['tf_wv_desc_....vstack(x_train['tf_wv_desc_embedding_200_nap']))\", store_history=True, silent=False, shell_futures=True)\n   2657         -------\n   2658         result : :class:`ExecutionResult`\n   2659         \"\"\"\n   2660         try:\n   2661             result = self._run_cell(\n-> 2662                 raw_cell, store_history, silent, shell_futures)\n        raw_cell = \"%%time\\ngs_svm.fit(np.vstack(x_train['tf_wv_desc_....vstack(x_train['tf_wv_desc_embedding_200_nap']))\"\n        store_history = True\n        silent = False\n        shell_futures = True\n   2663         finally:\n   2664             self.events.trigger('post_execute')\n   2665             if not silent:\n   2666                 self.events.trigger('post_run_cell', result)\n\n...........................................................................\n/Users/yiru/.pyenv/versions/fashion_project/lib/python3.6/site-packages/IPython/core/interactiveshell.py in _run_cell(self=<ipykernel.zmqshell.ZMQInteractiveShell object>, raw_cell=\"%%time\\ngs_svm.fit(np.vstack(x_train['tf_wv_desc_....vstack(x_train['tf_wv_desc_embedding_200_nap']))\", store_history=True, silent=False, shell_futures=True)\n   2780                 self.displayhook.exec_result = result\n   2781 \n   2782                 # Execute the user code\n   2783                 interactivity = 'none' if silent else self.ast_node_interactivity\n   2784                 has_raised = self.run_ast_nodes(code_ast.body, cell_name,\n-> 2785                    interactivity=interactivity, compiler=compiler, result=result)\n        interactivity = 'last_expr'\n        compiler = <IPython.core.compilerop.CachingCompiler object>\n   2786                 \n   2787                 self.last_execution_succeeded = not has_raised\n   2788                 self.last_execution_result = result\n   2789 \n\n...........................................................................\n/Users/yiru/.pyenv/versions/fashion_project/lib/python3.6/site-packages/IPython/core/interactiveshell.py in run_ast_nodes(self=<ipykernel.zmqshell.ZMQInteractiveShell object>, nodelist=[<_ast.Expr object>], cell_name='<ipython-input-69-5d257ecdfa2e>', interactivity='last', compiler=<IPython.core.compilerop.CachingCompiler object>, result=<ExecutionResult object at 112eed358, execution_...rue silent=False shell_futures=True> result=None>)\n   2904                     return True\n   2905 \n   2906             for i, node in enumerate(to_run_interactive):\n   2907                 mod = ast.Interactive([node])\n   2908                 code = compiler(mod, cell_name, \"single\")\n-> 2909                 if self.run_code(code, result):\n        self.run_code = <bound method InteractiveShell.run_code of <ipykernel.zmqshell.ZMQInteractiveShell object>>\n        code = <code object <module> at 0x1119de270, file \"<ipython-input-69-5d257ecdfa2e>\", line 1>\n        result = <ExecutionResult object at 112eed358, execution_...rue silent=False shell_futures=True> result=None>\n   2910                     return True\n   2911 \n   2912             # Flush softspace\n   2913             if softspace(sys.stdout, 0):\n\n...........................................................................\n/Users/yiru/.pyenv/versions/fashion_project/lib/python3.6/site-packages/IPython/core/interactiveshell.py in run_code(self=<ipykernel.zmqshell.ZMQInteractiveShell object>, code_obj=<code object <module> at 0x1119de270, file \"<ipython-input-69-5d257ecdfa2e>\", line 1>, result=<ExecutionResult object at 112eed358, execution_...rue silent=False shell_futures=True> result=None>)\n   2958         outflag = True  # happens in more places, so it's easier as default\n   2959         try:\n   2960             try:\n   2961                 self.hooks.pre_run_code_hook()\n   2962                 #rprint('Running code', repr(code_obj)) # dbg\n-> 2963                 exec(code_obj, self.user_global_ns, self.user_ns)\n        code_obj = <code object <module> at 0x1119de270, file \"<ipython-input-69-5d257ecdfa2e>\", line 1>\n        self.user_global_ns = {'AdaBoostClassifier': <class 'sklearn.ensemble.weight_boosting.AdaBoostClassifier'>, 'CountVectorizer': <class 'sklearn.feature_extraction.text.CountVectorizer'>, 'Counter': <class 'collections.Counter'>, 'DecisionTreeClassifier': <class 'sklearn.tree.tree.DecisionTreeClassifier'>, 'GridSearchCV': <class 'sklearn.model_selection._search.GridSearchCV'>, 'HTML': <class 'IPython.core.display.HTML'>, 'In': ['', 'from IPython.core.display import display, HTML\\nd...>.container { width:100% !important; }</style>\"))', 'import sys\\nsys.path', 'import math\\nimport numpy as np\\nimport pandas as ... XGBClassifier\\n#from xgboost import XGBClassifier', 'import math\\nimport numpy as np\\nimport pandas as ... XGBClassifier\\n#from xgboost import XGBClassifier', 'import math\\nimport numpy as np\\nimport pandas as ...t XGBClassifier\\nfrom xgboost import XGBClassifier', 'import math\\nimport numpy as np\\nimport pandas as ...t XGBClassifier\\nfrom xgboost import XGBClassifier', 'import math\\nimport numpy as np\\nimport pandas as ...t XGBClassifier\\nfrom xgboost import XGBClassifier', 'import math\\nimport numpy as np\\nimport pandas as ...t XGBClassifier\\nfrom xgboost import XGBClassifier', 'import math\\nimport numpy as np\\nimport pandas as ... XGBClassifier\\n#from xgboost import XGBClassifier', \"get_ipython().run_line_magic('ls', '/Users/yiru/projects/Fashion_Project_18/data/embeddings')\", \"datapath = '/Users/yiru/projects/Fashion_Project..._hdf(datapath+'wv_embedding_200_nap.h5', 'table')\", 'df.head()', \"data = df[df['label'].notnull()]\", \"# # gothic+punk+rocker -> punk\\n\\n# # tailored+bus...', 'tailored').split(' ') for x in data['label']]\", 'from collections import Counter\\nstyle_counts = [...ct=Counter(style_counts)\\nstyle_dict.most_common()', 'from collections import Counter\\nstyle_counts = [...ct=Counter(style_counts)\\nstyle_dict.most_common()', \"indexes = list(style_dict.keys())\\nlabels, values...plt.bar(indexes, values, width, align='center', )\", \"data['label'].sample(10)\", \"# Convert labels to k-hot\\nmlb = MultiLabelBinarizer()\\nY = mlb.fit_transform(data['label'])\", ...], 'LabelBinarizer': <class 'sklearn.preprocessing.label.LabelBinarizer'>, 'LinearSVC': <class 'sklearn.svm.classes.LinearSVC'>, 'LogisticRegression': <class 'sklearn.linear_model.logistic.LogisticRegression'>, ...}\n        self.user_ns = {'AdaBoostClassifier': <class 'sklearn.ensemble.weight_boosting.AdaBoostClassifier'>, 'CountVectorizer': <class 'sklearn.feature_extraction.text.CountVectorizer'>, 'Counter': <class 'collections.Counter'>, 'DecisionTreeClassifier': <class 'sklearn.tree.tree.DecisionTreeClassifier'>, 'GridSearchCV': <class 'sklearn.model_selection._search.GridSearchCV'>, 'HTML': <class 'IPython.core.display.HTML'>, 'In': ['', 'from IPython.core.display import display, HTML\\nd...>.container { width:100% !important; }</style>\"))', 'import sys\\nsys.path', 'import math\\nimport numpy as np\\nimport pandas as ... XGBClassifier\\n#from xgboost import XGBClassifier', 'import math\\nimport numpy as np\\nimport pandas as ... XGBClassifier\\n#from xgboost import XGBClassifier', 'import math\\nimport numpy as np\\nimport pandas as ...t XGBClassifier\\nfrom xgboost import XGBClassifier', 'import math\\nimport numpy as np\\nimport pandas as ...t XGBClassifier\\nfrom xgboost import XGBClassifier', 'import math\\nimport numpy as np\\nimport pandas as ...t XGBClassifier\\nfrom xgboost import XGBClassifier', 'import math\\nimport numpy as np\\nimport pandas as ...t XGBClassifier\\nfrom xgboost import XGBClassifier', 'import math\\nimport numpy as np\\nimport pandas as ... XGBClassifier\\n#from xgboost import XGBClassifier', \"get_ipython().run_line_magic('ls', '/Users/yiru/projects/Fashion_Project_18/data/embeddings')\", \"datapath = '/Users/yiru/projects/Fashion_Project..._hdf(datapath+'wv_embedding_200_nap.h5', 'table')\", 'df.head()', \"data = df[df['label'].notnull()]\", \"# # gothic+punk+rocker -> punk\\n\\n# # tailored+bus...', 'tailored').split(' ') for x in data['label']]\", 'from collections import Counter\\nstyle_counts = [...ct=Counter(style_counts)\\nstyle_dict.most_common()', 'from collections import Counter\\nstyle_counts = [...ct=Counter(style_counts)\\nstyle_dict.most_common()', \"indexes = list(style_dict.keys())\\nlabels, values...plt.bar(indexes, values, width, align='center', )\", \"data['label'].sample(10)\", \"# Convert labels to k-hot\\nmlb = MultiLabelBinarizer()\\nY = mlb.fit_transform(data['label'])\", ...], 'LabelBinarizer': <class 'sklearn.preprocessing.label.LabelBinarizer'>, 'LinearSVC': <class 'sklearn.svm.classes.LinearSVC'>, 'LogisticRegression': <class 'sklearn.linear_model.logistic.LogisticRegression'>, ...}\n   2964             finally:\n   2965                 # Reset our crash handler in place\n   2966                 sys.excepthook = old_excepthook\n   2967         except SystemExit as e:\n\n...........................................................................\n/Users/yiru/projects/Fashion_Project_18/notebooks/<ipython-input-69-5d257ecdfa2e> in <module>()\n----> 1 get_ipython().run_cell_magic('time', '', \"gs_svm.fit(np.vstack(x_train['tf_wv_desc_embedding_200_nap']), y_train)\\ny_pred=gs_svm.predict(np.vstack(x_train['tf_wv_desc_embedding_200_nap']))\")\n\n...........................................................................\n/Users/yiru/.pyenv/versions/fashion_project/lib/python3.6/site-packages/IPython/core/interactiveshell.py in run_cell_magic(self=<ipykernel.zmqshell.ZMQInteractiveShell object>, magic_name='time', line='', cell=\"gs_svm.fit(np.vstack(x_train['tf_wv_desc_embeddi....vstack(x_train['tf_wv_desc_embedding_200_nap']))\")\n   2162             # This will need to be updated if the internal calling logic gets\n   2163             # refactored, or else we'll be expanding the wrong variables.\n   2164             stack_depth = 2\n   2165             magic_arg_s = self.var_expand(line, stack_depth)\n   2166             with self.builtin_trap:\n-> 2167                 result = fn(magic_arg_s, cell)\n        result = undefined\n        fn = <bound method ExecutionMagics.time of <IPython.core.magics.execution.ExecutionMagics object>>\n        magic_arg_s = ''\n        cell = \"gs_svm.fit(np.vstack(x_train['tf_wv_desc_embeddi....vstack(x_train['tf_wv_desc_embedding_200_nap']))\"\n   2168             return result\n   2169 \n   2170     def find_line_magic(self, magic_name):\n   2171         \"\"\"Find and return a line magic by name.\n\n...........................................................................\n/Users/yiru/projects/Fashion_Project_18/notebooks/<decorator-gen-62> in time(self=<IPython.core.magics.execution.ExecutionMagics object>, line='', cell=\"gs_svm.fit(np.vstack(x_train['tf_wv_desc_embeddi....vstack(x_train['tf_wv_desc_embedding_200_nap']))\", local_ns=None)\n\n...........................................................................\n/Users/yiru/.pyenv/versions/fashion_project/lib/python3.6/site-packages/IPython/core/magic.py in <lambda>(f=<function ExecutionMagics.time>, *a=(<IPython.core.magics.execution.ExecutionMagics object>, '', \"gs_svm.fit(np.vstack(x_train['tf_wv_desc_embeddi....vstack(x_train['tf_wv_desc_embedding_200_nap']))\", None), **k={})\n    182     validate_type(magic_kind)\n    183 \n    184     # This is a closure to capture the magic_kind.  We could also use a class,\n    185     # but it's overkill for just that one bit of state.\n    186     def magic_deco(arg):\n--> 187         call = lambda f, *a, **k: f(*a, **k)\n        f = <function ExecutionMagics.time>\n        a = (<IPython.core.magics.execution.ExecutionMagics object>, '', \"gs_svm.fit(np.vstack(x_train['tf_wv_desc_embeddi....vstack(x_train['tf_wv_desc_embedding_200_nap']))\", None)\n        k = {}\n    188 \n    189         if callable(arg):\n    190             # \"Naked\" decorator call (just @foo, no args)\n    191             func = arg\n\n...........................................................................\n/Users/yiru/.pyenv/versions/fashion_project/lib/python3.6/site-packages/IPython/core/magics/execution.py in time(self=<IPython.core.magics.execution.ExecutionMagics object>, line='', cell=\"gs_svm.fit(np.vstack(x_train['tf_wv_desc_embeddi....vstack(x_train['tf_wv_desc_embedding_200_nap']))\", local_ns=None)\n   1233                 return\n   1234             end = clock2()\n   1235         else:\n   1236             st = clock2()\n   1237             try:\n-> 1238                 exec(code, glob, local_ns)\n        code = <code object <module> at 0x112efee40, file \"<timed exec>\", line 1>\n        glob = {'AdaBoostClassifier': <class 'sklearn.ensemble.weight_boosting.AdaBoostClassifier'>, 'CountVectorizer': <class 'sklearn.feature_extraction.text.CountVectorizer'>, 'Counter': <class 'collections.Counter'>, 'DecisionTreeClassifier': <class 'sklearn.tree.tree.DecisionTreeClassifier'>, 'GridSearchCV': <class 'sklearn.model_selection._search.GridSearchCV'>, 'HTML': <class 'IPython.core.display.HTML'>, 'In': ['', 'from IPython.core.display import display, HTML\\nd...>.container { width:100% !important; }</style>\"))', 'import sys\\nsys.path', 'import math\\nimport numpy as np\\nimport pandas as ... XGBClassifier\\n#from xgboost import XGBClassifier', 'import math\\nimport numpy as np\\nimport pandas as ... XGBClassifier\\n#from xgboost import XGBClassifier', 'import math\\nimport numpy as np\\nimport pandas as ...t XGBClassifier\\nfrom xgboost import XGBClassifier', 'import math\\nimport numpy as np\\nimport pandas as ...t XGBClassifier\\nfrom xgboost import XGBClassifier', 'import math\\nimport numpy as np\\nimport pandas as ...t XGBClassifier\\nfrom xgboost import XGBClassifier', 'import math\\nimport numpy as np\\nimport pandas as ...t XGBClassifier\\nfrom xgboost import XGBClassifier', 'import math\\nimport numpy as np\\nimport pandas as ... XGBClassifier\\n#from xgboost import XGBClassifier', \"get_ipython().run_line_magic('ls', '/Users/yiru/projects/Fashion_Project_18/data/embeddings')\", \"datapath = '/Users/yiru/projects/Fashion_Project..._hdf(datapath+'wv_embedding_200_nap.h5', 'table')\", 'df.head()', \"data = df[df['label'].notnull()]\", \"# # gothic+punk+rocker -> punk\\n\\n# # tailored+bus...', 'tailored').split(' ') for x in data['label']]\", 'from collections import Counter\\nstyle_counts = [...ct=Counter(style_counts)\\nstyle_dict.most_common()', 'from collections import Counter\\nstyle_counts = [...ct=Counter(style_counts)\\nstyle_dict.most_common()', \"indexes = list(style_dict.keys())\\nlabels, values...plt.bar(indexes, values, width, align='center', )\", \"data['label'].sample(10)\", \"# Convert labels to k-hot\\nmlb = MultiLabelBinarizer()\\nY = mlb.fit_transform(data['label'])\", ...], 'LabelBinarizer': <class 'sklearn.preprocessing.label.LabelBinarizer'>, 'LinearSVC': <class 'sklearn.svm.classes.LinearSVC'>, 'LogisticRegression': <class 'sklearn.linear_model.logistic.LogisticRegression'>, ...}\n        local_ns = None\n   1239             except:\n   1240                 self.shell.showtraceback()\n   1241                 return\n   1242             end = clock2()\n\n...........................................................................\n/Users/yiru/projects/Fashion_Project_18/notebooks/<timed exec> in <module>()\n\n...........................................................................\n/Users/yiru/.pyenv/versions/fashion_project/lib/python3.6/site-packages/sklearn/model_selection/_search.py in fit(self=GridSearchCV(cv=10, error_score='raise',\n       ...'warn',\n       scoring='recall_micro', verbose=0), X=array([[ 0.01767812, -0.00841559, -0.00030525, ....        0.05616832, -0.01905157]], dtype=float32), y=array([[0, 1, 0, ..., 0, 0, 0],\n       [0, 0, 0,..., ..., 0, 0, 0],\n       [0, 0, 0, ..., 0, 0, 0]]), groups=None, **fit_params={})\n    634                                   return_train_score=self.return_train_score,\n    635                                   return_n_test_samples=True,\n    636                                   return_times=True, return_parameters=False,\n    637                                   error_score=self.error_score)\n    638           for parameters, (train, test) in product(candidate_params,\n--> 639                                                    cv.split(X, y, groups)))\n        cv.split = <bound method _BaseKFold.split of KFold(n_splits=10, random_state=None, shuffle=False)>\n        X = array([[ 0.01767812, -0.00841559, -0.00030525, ....        0.05616832, -0.01905157]], dtype=float32)\n        y = array([[0, 1, 0, ..., 0, 0, 0],\n       [0, 0, 0,..., ..., 0, 0, 0],\n       [0, 0, 0, ..., 0, 0, 0]])\n        groups = None\n    640 \n    641         # if one choose to see train score, \"out\" will contain train score info\n    642         if self.return_train_score:\n    643             (train_score_dicts, test_score_dicts, test_sample_counts, fit_time,\n\n...........................................................................\n/Users/yiru/.pyenv/versions/fashion_project/lib/python3.6/site-packages/sklearn/externals/joblib/parallel.py in __call__(self=Parallel(n_jobs=-1), iterable=<generator object BaseSearchCV.fit.<locals>.<genexpr>>)\n    784             if pre_dispatch == \"all\" or n_jobs == 1:\n    785                 # The iterable was consumed all at once by the above for loop.\n    786                 # No need to wait for async callbacks to trigger to\n    787                 # consumption.\n    788                 self._iterating = False\n--> 789             self.retrieve()\n        self.retrieve = <bound method Parallel.retrieve of Parallel(n_jobs=-1)>\n    790             # Make sure that we get a last message telling us we are done\n    791             elapsed_time = time.time() - self._start_time\n    792             self._print('Done %3i out of %3i | elapsed: %s finished',\n    793                         (len(self._output), len(self._output),\n\n---------------------------------------------------------------------------\nSub-process traceback:\n---------------------------------------------------------------------------\nValueError                                         Sun Sep  9 01:38:42 2018\nPID: 32988Python 3.6.1: /Users/yiru/.pyenv/versions/fashion_project/bin/python\n...........................................................................\n/Users/yiru/.pyenv/versions/fashion_project/lib/python3.6/site-packages/sklearn/externals/joblib/parallel.py in __call__(self=<sklearn.externals.joblib.parallel.BatchedCalls object>)\n    126     def __init__(self, iterator_slice):\n    127         self.items = list(iterator_slice)\n    128         self._size = len(self.items)\n    129 \n    130     def __call__(self):\n--> 131         return [func(*args, **kwargs) for func, args, kwargs in self.items]\n        self.items = [(<function _fit_and_score>, (Pipeline(memory=None,\n     steps=[('clf', Linear..., random_state=42, tol=0.0001,\n     verbose=0))]), memmap([[ 0.01767812, -0.00841559, -0.00030525, ...        0.05616832, -0.01905157]], dtype=float32), array([[0, 1, 0, ..., 0, 0, 0],\n       [0, 0, 0,..., ..., 0, 0, 0],\n       [0, 0, 0, ..., 0, 0, 0]]), {'score': make_scorer(recall_score, pos_label=None, average=micro)}, array([ 140,  141,  142, ..., 1388, 1389, 1390]), array([  0,   1,   2,   3,   4,   5,   6,   7,  ...30, 131, 132, 133, 134, 135, 136, 137, 138, 139]), 0, {'clf__C': 1, 'clf__kernel': 'linear'}), {'error_score': 'raise', 'fit_params': {}, 'return_n_test_samples': True, 'return_parameters': False, 'return_times': True, 'return_train_score': 'warn'})]\n    132 \n    133     def __len__(self):\n    134         return self._size\n    135 \n\n...........................................................................\n/Users/yiru/.pyenv/versions/fashion_project/lib/python3.6/site-packages/sklearn/externals/joblib/parallel.py in <listcomp>(.0=<list_iterator object>)\n    126     def __init__(self, iterator_slice):\n    127         self.items = list(iterator_slice)\n    128         self._size = len(self.items)\n    129 \n    130     def __call__(self):\n--> 131         return [func(*args, **kwargs) for func, args, kwargs in self.items]\n        func = <function _fit_and_score>\n        args = (Pipeline(memory=None,\n     steps=[('clf', Linear..., random_state=42, tol=0.0001,\n     verbose=0))]), memmap([[ 0.01767812, -0.00841559, -0.00030525, ...        0.05616832, -0.01905157]], dtype=float32), array([[0, 1, 0, ..., 0, 0, 0],\n       [0, 0, 0,..., ..., 0, 0, 0],\n       [0, 0, 0, ..., 0, 0, 0]]), {'score': make_scorer(recall_score, pos_label=None, average=micro)}, array([ 140,  141,  142, ..., 1388, 1389, 1390]), array([  0,   1,   2,   3,   4,   5,   6,   7,  ...30, 131, 132, 133, 134, 135, 136, 137, 138, 139]), 0, {'clf__C': 1, 'clf__kernel': 'linear'})\n        kwargs = {'error_score': 'raise', 'fit_params': {}, 'return_n_test_samples': True, 'return_parameters': False, 'return_times': True, 'return_train_score': 'warn'}\n    132 \n    133     def __len__(self):\n    134         return self._size\n    135 \n\n...........................................................................\n/Users/yiru/.pyenv/versions/fashion_project/lib/python3.6/site-packages/sklearn/model_selection/_validation.py in _fit_and_score(estimator=Pipeline(memory=None,\n     steps=[('clf', Linear..., random_state=42, tol=0.0001,\n     verbose=0))]), X=memmap([[ 0.01767812, -0.00841559, -0.00030525, ...        0.05616832, -0.01905157]], dtype=float32), y=array([[0, 1, 0, ..., 0, 0, 0],\n       [0, 0, 0,..., ..., 0, 0, 0],\n       [0, 0, 0, ..., 0, 0, 0]]), scorer={'score': make_scorer(recall_score, pos_label=None, average=micro)}, train=array([ 140,  141,  142, ..., 1388, 1389, 1390]), test=array([  0,   1,   2,   3,   4,   5,   6,   7,  ...30, 131, 132, 133, 134, 135, 136, 137, 138, 139]), verbose=0, parameters={'clf__C': 1, 'clf__kernel': 'linear'}, fit_params={}, return_train_score='warn', return_parameters=False, return_n_test_samples=True, return_times=True, error_score='raise')\n    439                       for k, v in fit_params.items()])\n    440 \n    441     test_scores = {}\n    442     train_scores = {}\n    443     if parameters is not None:\n--> 444         estimator.set_params(**parameters)\n        estimator.set_params = <bound method Pipeline.set_params of Pipeline(me... random_state=42, tol=0.0001,\n     verbose=0))])>\n        parameters = {'clf__C': 1, 'clf__kernel': 'linear'}\n    445 \n    446     start_time = time.time()\n    447 \n    448     X_train, y_train = _safe_split(estimator, X, y, train)\n\n...........................................................................\n/Users/yiru/.pyenv/versions/fashion_project/lib/python3.6/site-packages/sklearn/pipeline.py in set_params(self=Pipeline(memory=None,\n     steps=[('clf', Linear..., random_state=42, tol=0.0001,\n     verbose=0))]), **kwargs={'clf__C': 1, 'clf__kernel': 'linear'})\n    137 \n    138         Returns\n    139         -------\n    140         self\n    141         \"\"\"\n--> 142         self._set_params('steps', **kwargs)\n        self._set_params = <bound method _BaseComposition._set_params of Pi... random_state=42, tol=0.0001,\n     verbose=0))])>\n        kwargs = {'clf__C': 1, 'clf__kernel': 'linear'}\n    143         return self\n    144 \n    145     def _validate_steps(self):\n    146         names, estimators = zip(*self.steps)\n\n...........................................................................\n/Users/yiru/.pyenv/versions/fashion_project/lib/python3.6/site-packages/sklearn/utils/metaestimators.py in _set_params(self=Pipeline(memory=None,\n     steps=[('clf', Linear..., random_state=42, tol=0.0001,\n     verbose=0))]), attr='steps', **params={'clf__C': 1, 'clf__kernel': 'linear'})\n     44         names, _ = zip(*getattr(self, attr))\n     45         for name in list(six.iterkeys(params)):\n     46             if '__' not in name and name in names:\n     47                 self._replace_estimator(attr, name, params.pop(name))\n     48         # 3. Step parameters and other initilisation arguments\n---> 49         super(_BaseComposition, self).set_params(**params)\n        self.set_params = <bound method Pipeline.set_params of Pipeline(me... random_state=42, tol=0.0001,\n     verbose=0))])>\n        params = {'clf__C': 1, 'clf__kernel': 'linear'}\n     50         return self\n     51 \n     52     def _replace_estimator(self, attr, name, new_val):\n     53         # assumes `name` is a valid estimator name\n\n...........................................................................\n/Users/yiru/.pyenv/versions/fashion_project/lib/python3.6/site-packages/sklearn/base.py in set_params(self=Pipeline(memory=None,\n     steps=[('clf', Linear..., random_state=42, tol=0.0001,\n     verbose=0))]), **params={'clf__C': 1, 'clf__kernel': 'linear'})\n    277                 nested_params[key][sub_key] = value\n    278             else:\n    279                 setattr(self, key, value)\n    280 \n    281         for key, sub_params in nested_params.items():\n--> 282             valid_params[key].set_params(**sub_params)\n        valid_params = {'clf': LinearSVC(C=1, class_weight=None, dual=True, fit...l2', random_state=42, tol=0.0001,\n     verbose=0), 'clf__C': 1.0, 'clf__class_weight': None, 'clf__dual': True, 'clf__fit_intercept': True, 'clf__intercept_scaling': 1, 'clf__loss': 'squared_hinge', 'clf__max_iter': 1000, 'clf__multi_class': 'ovr', 'clf__penalty': 'l2', ...}\n        key.set_params = undefined\n        sub_params = {'C': 1, 'kernel': 'linear'}\n    283 \n    284         return self\n    285 \n    286     def __repr__(self):\n\n...........................................................................\n/Users/yiru/.pyenv/versions/fashion_project/lib/python3.6/site-packages/sklearn/base.py in set_params(self=LinearSVC(C=1, class_weight=None, dual=True, fit...l2', random_state=42, tol=0.0001,\n     verbose=0), **params={'C': 1, 'kernel': 'linear'})\n    269             key, delim, sub_key = key.partition('__')\n    270             if key not in valid_params:\n    271                 raise ValueError('Invalid parameter %s for estimator %s. '\n    272                                  'Check the list of available parameters '\n    273                                  'with `estimator.get_params().keys()`.' %\n--> 274                                  (key, self))\n        key = 'kernel'\n        self = LinearSVC(C=1, class_weight=None, dual=True, fit...l2', random_state=42, tol=0.0001,\n     verbose=0)\n    275 \n    276             if delim:\n    277                 nested_params[key][sub_key] = value\n    278             else:\n\nValueError: Invalid parameter kernel for estimator LinearSVC(C=1, class_weight=None, dual=True, fit_intercept=True,\n     intercept_scaling=1, loss='squared_hinge', max_iter=1000,\n     multi_class='ovr', penalty='l2', random_state=42, tol=0.0001,\n     verbose=0). Check the list of available parameters with `estimator.get_params().keys()`.\n___________________________________________________________________________",
     "output_type": "error",
     "traceback": [
      "\u001b[0;31m---------------------------------------------------------------------------\u001b[0m",
      "\u001b[0;31mRemoteTraceback\u001b[0m                           Traceback (most recent call last)",
      "\u001b[0;31mRemoteTraceback\u001b[0m: \n\"\"\"\nTraceback (most recent call last):\n  File \"/Users/yiru/.pyenv/versions/fashion_project/lib/python3.6/site-packages/sklearn/externals/joblib/_parallel_backends.py\", line 350, in __call__\n    return self.func(*args, **kwargs)\n  File \"/Users/yiru/.pyenv/versions/fashion_project/lib/python3.6/site-packages/sklearn/externals/joblib/parallel.py\", line 131, in __call__\n    return [func(*args, **kwargs) for func, args, kwargs in self.items]\n  File \"/Users/yiru/.pyenv/versions/fashion_project/lib/python3.6/site-packages/sklearn/externals/joblib/parallel.py\", line 131, in <listcomp>\n    return [func(*args, **kwargs) for func, args, kwargs in self.items]\n  File \"/Users/yiru/.pyenv/versions/fashion_project/lib/python3.6/site-packages/sklearn/model_selection/_validation.py\", line 444, in _fit_and_score\n    estimator.set_params(**parameters)\n  File \"/Users/yiru/.pyenv/versions/fashion_project/lib/python3.6/site-packages/sklearn/pipeline.py\", line 142, in set_params\n    self._set_params('steps', **kwargs)\n  File \"/Users/yiru/.pyenv/versions/fashion_project/lib/python3.6/site-packages/sklearn/utils/metaestimators.py\", line 49, in _set_params\n    super(_BaseComposition, self).set_params(**params)\n  File \"/Users/yiru/.pyenv/versions/fashion_project/lib/python3.6/site-packages/sklearn/base.py\", line 282, in set_params\n    valid_params[key].set_params(**sub_params)\n  File \"/Users/yiru/.pyenv/versions/fashion_project/lib/python3.6/site-packages/sklearn/base.py\", line 274, in set_params\n    (key, self))\nValueError: Invalid parameter kernel for estimator LinearSVC(C=1, class_weight=None, dual=True, fit_intercept=True,\n     intercept_scaling=1, loss='squared_hinge', max_iter=1000,\n     multi_class='ovr', penalty='l2', random_state=42, tol=0.0001,\n     verbose=0). Check the list of available parameters with `estimator.get_params().keys()`.\n\nDuring handling of the above exception, another exception occurred:\n\nTraceback (most recent call last):\n  File \"/Users/yiru/.pyenv/versions/3.6.1/lib/python3.6/multiprocessing/pool.py\", line 119, in worker\n    result = (True, func(*args, **kwds))\n  File \"/Users/yiru/.pyenv/versions/fashion_project/lib/python3.6/site-packages/sklearn/externals/joblib/_parallel_backends.py\", line 359, in __call__\n    raise TransportableException(text, e_type)\nsklearn.externals.joblib.my_exceptions.TransportableException: TransportableException\n___________________________________________________________________________\nValueError                                         Sun Sep  9 01:38:42 2018\nPID: 32988Python 3.6.1: /Users/yiru/.pyenv/versions/fashion_project/bin/python\n...........................................................................\n/Users/yiru/.pyenv/versions/fashion_project/lib/python3.6/site-packages/sklearn/externals/joblib/parallel.py in __call__(self=<sklearn.externals.joblib.parallel.BatchedCalls object>)\n    126     def __init__(self, iterator_slice):\n    127         self.items = list(iterator_slice)\n    128         self._size = len(self.items)\n    129 \n    130     def __call__(self):\n--> 131         return [func(*args, **kwargs) for func, args, kwargs in self.items]\n        self.items = [(<function _fit_and_score>, (Pipeline(memory=None,\n     steps=[('clf', Linear..., random_state=42, tol=0.0001,\n     verbose=0))]), memmap([[ 0.01767812, -0.00841559, -0.00030525, ...        0.05616832, -0.01905157]], dtype=float32), array([[0, 1, 0, ..., 0, 0, 0],\n       [0, 0, 0,..., ..., 0, 0, 0],\n       [0, 0, 0, ..., 0, 0, 0]]), {'score': make_scorer(recall_score, pos_label=None, average=micro)}, array([ 140,  141,  142, ..., 1388, 1389, 1390]), array([  0,   1,   2,   3,   4,   5,   6,   7,  ...30, 131, 132, 133, 134, 135, 136, 137, 138, 139]), 0, {'clf__C': 1, 'clf__kernel': 'linear'}), {'error_score': 'raise', 'fit_params': {}, 'return_n_test_samples': True, 'return_parameters': False, 'return_times': True, 'return_train_score': 'warn'})]\n    132 \n    133     def __len__(self):\n    134         return self._size\n    135 \n\n...........................................................................\n/Users/yiru/.pyenv/versions/fashion_project/lib/python3.6/site-packages/sklearn/externals/joblib/parallel.py in <listcomp>(.0=<list_iterator object>)\n    126     def __init__(self, iterator_slice):\n    127         self.items = list(iterator_slice)\n    128         self._size = len(self.items)\n    129 \n    130     def __call__(self):\n--> 131         return [func(*args, **kwargs) for func, args, kwargs in self.items]\n        func = <function _fit_and_score>\n        args = (Pipeline(memory=None,\n     steps=[('clf', Linear..., random_state=42, tol=0.0001,\n     verbose=0))]), memmap([[ 0.01767812, -0.00841559, -0.00030525, ...        0.05616832, -0.01905157]], dtype=float32), array([[0, 1, 0, ..., 0, 0, 0],\n       [0, 0, 0,..., ..., 0, 0, 0],\n       [0, 0, 0, ..., 0, 0, 0]]), {'score': make_scorer(recall_score, pos_label=None, average=micro)}, array([ 140,  141,  142, ..., 1388, 1389, 1390]), array([  0,   1,   2,   3,   4,   5,   6,   7,  ...30, 131, 132, 133, 134, 135, 136, 137, 138, 139]), 0, {'clf__C': 1, 'clf__kernel': 'linear'})\n        kwargs = {'error_score': 'raise', 'fit_params': {}, 'return_n_test_samples': True, 'return_parameters': False, 'return_times': True, 'return_train_score': 'warn'}\n    132 \n    133     def __len__(self):\n    134         return self._size\n    135 \n\n...........................................................................\n/Users/yiru/.pyenv/versions/fashion_project/lib/python3.6/site-packages/sklearn/model_selection/_validation.py in _fit_and_score(estimator=Pipeline(memory=None,\n     steps=[('clf', Linear..., random_state=42, tol=0.0001,\n     verbose=0))]), X=memmap([[ 0.01767812, -0.00841559, -0.00030525, ...        0.05616832, -0.01905157]], dtype=float32), y=array([[0, 1, 0, ..., 0, 0, 0],\n       [0, 0, 0,..., ..., 0, 0, 0],\n       [0, 0, 0, ..., 0, 0, 0]]), scorer={'score': make_scorer(recall_score, pos_label=None, average=micro)}, train=array([ 140,  141,  142, ..., 1388, 1389, 1390]), test=array([  0,   1,   2,   3,   4,   5,   6,   7,  ...30, 131, 132, 133, 134, 135, 136, 137, 138, 139]), verbose=0, parameters={'clf__C': 1, 'clf__kernel': 'linear'}, fit_params={}, return_train_score='warn', return_parameters=False, return_n_test_samples=True, return_times=True, error_score='raise')\n    439                       for k, v in fit_params.items()])\n    440 \n    441     test_scores = {}\n    442     train_scores = {}\n    443     if parameters is not None:\n--> 444         estimator.set_params(**parameters)\n        estimator.set_params = <bound method Pipeline.set_params of Pipeline(me... random_state=42, tol=0.0001,\n     verbose=0))])>\n        parameters = {'clf__C': 1, 'clf__kernel': 'linear'}\n    445 \n    446     start_time = time.time()\n    447 \n    448     X_train, y_train = _safe_split(estimator, X, y, train)\n\n...........................................................................\n/Users/yiru/.pyenv/versions/fashion_project/lib/python3.6/site-packages/sklearn/pipeline.py in set_params(self=Pipeline(memory=None,\n     steps=[('clf', Linear..., random_state=42, tol=0.0001,\n     verbose=0))]), **kwargs={'clf__C': 1, 'clf__kernel': 'linear'})\n    137 \n    138         Returns\n    139         -------\n    140         self\n    141         \"\"\"\n--> 142         self._set_params('steps', **kwargs)\n        self._set_params = <bound method _BaseComposition._set_params of Pi... random_state=42, tol=0.0001,\n     verbose=0))])>\n        kwargs = {'clf__C': 1, 'clf__kernel': 'linear'}\n    143         return self\n    144 \n    145     def _validate_steps(self):\n    146         names, estimators = zip(*self.steps)\n\n...........................................................................\n/Users/yiru/.pyenv/versions/fashion_project/lib/python3.6/site-packages/sklearn/utils/metaestimators.py in _set_params(self=Pipeline(memory=None,\n     steps=[('clf', Linear..., random_state=42, tol=0.0001,\n     verbose=0))]), attr='steps', **params={'clf__C': 1, 'clf__kernel': 'linear'})\n     44         names, _ = zip(*getattr(self, attr))\n     45         for name in list(six.iterkeys(params)):\n     46             if '__' not in name and name in names:\n     47                 self._replace_estimator(attr, name, params.pop(name))\n     48         # 3. Step parameters and other initilisation arguments\n---> 49         super(_BaseComposition, self).set_params(**params)\n        self.set_params = <bound method Pipeline.set_params of Pipeline(me... random_state=42, tol=0.0001,\n     verbose=0))])>\n        params = {'clf__C': 1, 'clf__kernel': 'linear'}\n     50         return self\n     51 \n     52     def _replace_estimator(self, attr, name, new_val):\n     53         # assumes `name` is a valid estimator name\n\n...........................................................................\n/Users/yiru/.pyenv/versions/fashion_project/lib/python3.6/site-packages/sklearn/base.py in set_params(self=Pipeline(memory=None,\n     steps=[('clf', Linear..., random_state=42, tol=0.0001,\n     verbose=0))]), **params={'clf__C': 1, 'clf__kernel': 'linear'})\n    277                 nested_params[key][sub_key] = value\n    278             else:\n    279                 setattr(self, key, value)\n    280 \n    281         for key, sub_params in nested_params.items():\n--> 282             valid_params[key].set_params(**sub_params)\n        valid_params = {'clf': LinearSVC(C=1, class_weight=None, dual=True, fit...l2', random_state=42, tol=0.0001,\n     verbose=0), 'clf__C': 1.0, 'clf__class_weight': None, 'clf__dual': True, 'clf__fit_intercept': True, 'clf__intercept_scaling': 1, 'clf__loss': 'squared_hinge', 'clf__max_iter': 1000, 'clf__multi_class': 'ovr', 'clf__penalty': 'l2', ...}\n        key.set_params = undefined\n        sub_params = {'C': 1, 'kernel': 'linear'}\n    283 \n    284         return self\n    285 \n    286     def __repr__(self):\n\n...........................................................................\n/Users/yiru/.pyenv/versions/fashion_project/lib/python3.6/site-packages/sklearn/base.py in set_params(self=LinearSVC(C=1, class_weight=None, dual=True, fit...l2', random_state=42, tol=0.0001,\n     verbose=0), **params={'C': 1, 'kernel': 'linear'})\n    269             key, delim, sub_key = key.partition('__')\n    270             if key not in valid_params:\n    271                 raise ValueError('Invalid parameter %s for estimator %s. '\n    272                                  'Check the list of available parameters '\n    273                                  'with `estimator.get_params().keys()`.' %\n--> 274                                  (key, self))\n        key = 'kernel'\n        self = LinearSVC(C=1, class_weight=None, dual=True, fit...l2', random_state=42, tol=0.0001,\n     verbose=0)\n    275 \n    276             if delim:\n    277                 nested_params[key][sub_key] = value\n    278             else:\n\nValueError: Invalid parameter kernel for estimator LinearSVC(C=1, class_weight=None, dual=True, fit_intercept=True,\n     intercept_scaling=1, loss='squared_hinge', max_iter=1000,\n     multi_class='ovr', penalty='l2', random_state=42, tol=0.0001,\n     verbose=0). Check the list of available parameters with `estimator.get_params().keys()`.\n___________________________________________________________________________\n\"\"\"",
      "\nThe above exception was the direct cause of the following exception:\n",
      "\u001b[0;31mTransportableException\u001b[0m                    Traceback (most recent call last)",
      "\u001b[0;32m~/.pyenv/versions/fashion_project/lib/python3.6/site-packages/sklearn/externals/joblib/parallel.py\u001b[0m in \u001b[0;36mretrieve\u001b[0;34m(self)\u001b[0m\n\u001b[1;32m    698\u001b[0m                 \u001b[0;32mif\u001b[0m \u001b[0mgetattr\u001b[0m\u001b[0;34m(\u001b[0m\u001b[0mself\u001b[0m\u001b[0;34m.\u001b[0m\u001b[0m_backend\u001b[0m\u001b[0;34m,\u001b[0m \u001b[0;34m'supports_timeout'\u001b[0m\u001b[0;34m,\u001b[0m \u001b[0;32mFalse\u001b[0m\u001b[0;34m)\u001b[0m\u001b[0;34m:\u001b[0m\u001b[0;34m\u001b[0m\u001b[0m\n\u001b[0;32m--> 699\u001b[0;31m                     \u001b[0mself\u001b[0m\u001b[0;34m.\u001b[0m\u001b[0m_output\u001b[0m\u001b[0;34m.\u001b[0m\u001b[0mextend\u001b[0m\u001b[0;34m(\u001b[0m\u001b[0mjob\u001b[0m\u001b[0;34m.\u001b[0m\u001b[0mget\u001b[0m\u001b[0;34m(\u001b[0m\u001b[0mtimeout\u001b[0m\u001b[0;34m=\u001b[0m\u001b[0mself\u001b[0m\u001b[0;34m.\u001b[0m\u001b[0mtimeout\u001b[0m\u001b[0;34m)\u001b[0m\u001b[0;34m)\u001b[0m\u001b[0;34m\u001b[0m\u001b[0m\n\u001b[0m\u001b[1;32m    700\u001b[0m                 \u001b[0;32melse\u001b[0m\u001b[0;34m:\u001b[0m\u001b[0;34m\u001b[0m\u001b[0m\n",
      "\u001b[0;32m~/.pyenv/versions/3.6.1/lib/python3.6/multiprocessing/pool.py\u001b[0m in \u001b[0;36mget\u001b[0;34m(self, timeout)\u001b[0m\n\u001b[1;32m    607\u001b[0m         \u001b[0;32melse\u001b[0m\u001b[0;34m:\u001b[0m\u001b[0;34m\u001b[0m\u001b[0m\n\u001b[0;32m--> 608\u001b[0;31m             \u001b[0;32mraise\u001b[0m \u001b[0mself\u001b[0m\u001b[0;34m.\u001b[0m\u001b[0m_value\u001b[0m\u001b[0;34m\u001b[0m\u001b[0m\n\u001b[0m\u001b[1;32m    609\u001b[0m \u001b[0;34m\u001b[0m\u001b[0m\n",
      "\u001b[0;31mTransportableException\u001b[0m: TransportableException\n___________________________________________________________________________\nValueError                                         Sun Sep  9 01:38:42 2018\nPID: 32988Python 3.6.1: /Users/yiru/.pyenv/versions/fashion_project/bin/python\n...........................................................................\n/Users/yiru/.pyenv/versions/fashion_project/lib/python3.6/site-packages/sklearn/externals/joblib/parallel.py in __call__(self=<sklearn.externals.joblib.parallel.BatchedCalls object>)\n    126     def __init__(self, iterator_slice):\n    127         self.items = list(iterator_slice)\n    128         self._size = len(self.items)\n    129 \n    130     def __call__(self):\n--> 131         return [func(*args, **kwargs) for func, args, kwargs in self.items]\n        self.items = [(<function _fit_and_score>, (Pipeline(memory=None,\n     steps=[('clf', Linear..., random_state=42, tol=0.0001,\n     verbose=0))]), memmap([[ 0.01767812, -0.00841559, -0.00030525, ...        0.05616832, -0.01905157]], dtype=float32), array([[0, 1, 0, ..., 0, 0, 0],\n       [0, 0, 0,..., ..., 0, 0, 0],\n       [0, 0, 0, ..., 0, 0, 0]]), {'score': make_scorer(recall_score, pos_label=None, average=micro)}, array([ 140,  141,  142, ..., 1388, 1389, 1390]), array([  0,   1,   2,   3,   4,   5,   6,   7,  ...30, 131, 132, 133, 134, 135, 136, 137, 138, 139]), 0, {'clf__C': 1, 'clf__kernel': 'linear'}), {'error_score': 'raise', 'fit_params': {}, 'return_n_test_samples': True, 'return_parameters': False, 'return_times': True, 'return_train_score': 'warn'})]\n    132 \n    133     def __len__(self):\n    134         return self._size\n    135 \n\n...........................................................................\n/Users/yiru/.pyenv/versions/fashion_project/lib/python3.6/site-packages/sklearn/externals/joblib/parallel.py in <listcomp>(.0=<list_iterator object>)\n    126     def __init__(self, iterator_slice):\n    127         self.items = list(iterator_slice)\n    128         self._size = len(self.items)\n    129 \n    130     def __call__(self):\n--> 131         return [func(*args, **kwargs) for func, args, kwargs in self.items]\n        func = <function _fit_and_score>\n        args = (Pipeline(memory=None,\n     steps=[('clf', Linear..., random_state=42, tol=0.0001,\n     verbose=0))]), memmap([[ 0.01767812, -0.00841559, -0.00030525, ...        0.05616832, -0.01905157]], dtype=float32), array([[0, 1, 0, ..., 0, 0, 0],\n       [0, 0, 0,..., ..., 0, 0, 0],\n       [0, 0, 0, ..., 0, 0, 0]]), {'score': make_scorer(recall_score, pos_label=None, average=micro)}, array([ 140,  141,  142, ..., 1388, 1389, 1390]), array([  0,   1,   2,   3,   4,   5,   6,   7,  ...30, 131, 132, 133, 134, 135, 136, 137, 138, 139]), 0, {'clf__C': 1, 'clf__kernel': 'linear'})\n        kwargs = {'error_score': 'raise', 'fit_params': {}, 'return_n_test_samples': True, 'return_parameters': False, 'return_times': True, 'return_train_score': 'warn'}\n    132 \n    133     def __len__(self):\n    134         return self._size\n    135 \n\n...........................................................................\n/Users/yiru/.pyenv/versions/fashion_project/lib/python3.6/site-packages/sklearn/model_selection/_validation.py in _fit_and_score(estimator=Pipeline(memory=None,\n     steps=[('clf', Linear..., random_state=42, tol=0.0001,\n     verbose=0))]), X=memmap([[ 0.01767812, -0.00841559, -0.00030525, ...        0.05616832, -0.01905157]], dtype=float32), y=array([[0, 1, 0, ..., 0, 0, 0],\n       [0, 0, 0,..., ..., 0, 0, 0],\n       [0, 0, 0, ..., 0, 0, 0]]), scorer={'score': make_scorer(recall_score, pos_label=None, average=micro)}, train=array([ 140,  141,  142, ..., 1388, 1389, 1390]), test=array([  0,   1,   2,   3,   4,   5,   6,   7,  ...30, 131, 132, 133, 134, 135, 136, 137, 138, 139]), verbose=0, parameters={'clf__C': 1, 'clf__kernel': 'linear'}, fit_params={}, return_train_score='warn', return_parameters=False, return_n_test_samples=True, return_times=True, error_score='raise')\n    439                       for k, v in fit_params.items()])\n    440 \n    441     test_scores = {}\n    442     train_scores = {}\n    443     if parameters is not None:\n--> 444         estimator.set_params(**parameters)\n        estimator.set_params = <bound method Pipeline.set_params of Pipeline(me... random_state=42, tol=0.0001,\n     verbose=0))])>\n        parameters = {'clf__C': 1, 'clf__kernel': 'linear'}\n    445 \n    446     start_time = time.time()\n    447 \n    448     X_train, y_train = _safe_split(estimator, X, y, train)\n\n...........................................................................\n/Users/yiru/.pyenv/versions/fashion_project/lib/python3.6/site-packages/sklearn/pipeline.py in set_params(self=Pipeline(memory=None,\n     steps=[('clf', Linear..., random_state=42, tol=0.0001,\n     verbose=0))]), **kwargs={'clf__C': 1, 'clf__kernel': 'linear'})\n    137 \n    138         Returns\n    139         -------\n    140         self\n    141         \"\"\"\n--> 142         self._set_params('steps', **kwargs)\n        self._set_params = <bound method _BaseComposition._set_params of Pi... random_state=42, tol=0.0001,\n     verbose=0))])>\n        kwargs = {'clf__C': 1, 'clf__kernel': 'linear'}\n    143         return self\n    144 \n    145     def _validate_steps(self):\n    146         names, estimators = zip(*self.steps)\n\n...........................................................................\n/Users/yiru/.pyenv/versions/fashion_project/lib/python3.6/site-packages/sklearn/utils/metaestimators.py in _set_params(self=Pipeline(memory=None,\n     steps=[('clf', Linear..., random_state=42, tol=0.0001,\n     verbose=0))]), attr='steps', **params={'clf__C': 1, 'clf__kernel': 'linear'})\n     44         names, _ = zip(*getattr(self, attr))\n     45         for name in list(six.iterkeys(params)):\n     46             if '__' not in name and name in names:\n     47                 self._replace_estimator(attr, name, params.pop(name))\n     48         # 3. Step parameters and other initilisation arguments\n---> 49         super(_BaseComposition, self).set_params(**params)\n        self.set_params = <bound method Pipeline.set_params of Pipeline(me... random_state=42, tol=0.0001,\n     verbose=0))])>\n        params = {'clf__C': 1, 'clf__kernel': 'linear'}\n     50         return self\n     51 \n     52     def _replace_estimator(self, attr, name, new_val):\n     53         # assumes `name` is a valid estimator name\n\n...........................................................................\n/Users/yiru/.pyenv/versions/fashion_project/lib/python3.6/site-packages/sklearn/base.py in set_params(self=Pipeline(memory=None,\n     steps=[('clf', Linear..., random_state=42, tol=0.0001,\n     verbose=0))]), **params={'clf__C': 1, 'clf__kernel': 'linear'})\n    277                 nested_params[key][sub_key] = value\n    278             else:\n    279                 setattr(self, key, value)\n    280 \n    281         for key, sub_params in nested_params.items():\n--> 282             valid_params[key].set_params(**sub_params)\n        valid_params = {'clf': LinearSVC(C=1, class_weight=None, dual=True, fit...l2', random_state=42, tol=0.0001,\n     verbose=0), 'clf__C': 1.0, 'clf__class_weight': None, 'clf__dual': True, 'clf__fit_intercept': True, 'clf__intercept_scaling': 1, 'clf__loss': 'squared_hinge', 'clf__max_iter': 1000, 'clf__multi_class': 'ovr', 'clf__penalty': 'l2', ...}\n        key.set_params = undefined\n        sub_params = {'C': 1, 'kernel': 'linear'}\n    283 \n    284         return self\n    285 \n    286     def __repr__(self):\n\n...........................................................................\n/Users/yiru/.pyenv/versions/fashion_project/lib/python3.6/site-packages/sklearn/base.py in set_params(self=LinearSVC(C=1, class_weight=None, dual=True, fit...l2', random_state=42, tol=0.0001,\n     verbose=0), **params={'C': 1, 'kernel': 'linear'})\n    269             key, delim, sub_key = key.partition('__')\n    270             if key not in valid_params:\n    271                 raise ValueError('Invalid parameter %s for estimator %s. '\n    272                                  'Check the list of available parameters '\n    273                                  'with `estimator.get_params().keys()`.' %\n--> 274                                  (key, self))\n        key = 'kernel'\n        self = LinearSVC(C=1, class_weight=None, dual=True, fit...l2', random_state=42, tol=0.0001,\n     verbose=0)\n    275 \n    276             if delim:\n    277                 nested_params[key][sub_key] = value\n    278             else:\n\nValueError: Invalid parameter kernel for estimator LinearSVC(C=1, class_weight=None, dual=True, fit_intercept=True,\n     intercept_scaling=1, loss='squared_hinge', max_iter=1000,\n     multi_class='ovr', penalty='l2', random_state=42, tol=0.0001,\n     verbose=0). Check the list of available parameters with `estimator.get_params().keys()`.\n___________________________________________________________________________",
      "\nDuring handling of the above exception, another exception occurred:\n",
      "\u001b[0;31mJoblibValueError\u001b[0m                          Traceback (most recent call last)",
      "\u001b[0;32m<timed exec>\u001b[0m in \u001b[0;36m<module>\u001b[0;34m()\u001b[0m\n",
      "\u001b[0;32m~/.pyenv/versions/fashion_project/lib/python3.6/site-packages/sklearn/model_selection/_search.py\u001b[0m in \u001b[0;36mfit\u001b[0;34m(self, X, y, groups, **fit_params)\u001b[0m\n\u001b[1;32m    637\u001b[0m                                   error_score=self.error_score)\n\u001b[1;32m    638\u001b[0m           for parameters, (train, test) in product(candidate_params,\n\u001b[0;32m--> 639\u001b[0;31m                                                    cv.split(X, y, groups)))\n\u001b[0m\u001b[1;32m    640\u001b[0m \u001b[0;34m\u001b[0m\u001b[0m\n\u001b[1;32m    641\u001b[0m         \u001b[0;31m# if one choose to see train score, \"out\" will contain train score info\u001b[0m\u001b[0;34m\u001b[0m\u001b[0;34m\u001b[0m\u001b[0m\n",
      "\u001b[0;32m~/.pyenv/versions/fashion_project/lib/python3.6/site-packages/sklearn/externals/joblib/parallel.py\u001b[0m in \u001b[0;36m__call__\u001b[0;34m(self, iterable)\u001b[0m\n\u001b[1;32m    787\u001b[0m                 \u001b[0;31m# consumption.\u001b[0m\u001b[0;34m\u001b[0m\u001b[0;34m\u001b[0m\u001b[0m\n\u001b[1;32m    788\u001b[0m                 \u001b[0mself\u001b[0m\u001b[0;34m.\u001b[0m\u001b[0m_iterating\u001b[0m \u001b[0;34m=\u001b[0m \u001b[0;32mFalse\u001b[0m\u001b[0;34m\u001b[0m\u001b[0m\n\u001b[0;32m--> 789\u001b[0;31m             \u001b[0mself\u001b[0m\u001b[0;34m.\u001b[0m\u001b[0mretrieve\u001b[0m\u001b[0;34m(\u001b[0m\u001b[0;34m)\u001b[0m\u001b[0;34m\u001b[0m\u001b[0m\n\u001b[0m\u001b[1;32m    790\u001b[0m             \u001b[0;31m# Make sure that we get a last message telling us we are done\u001b[0m\u001b[0;34m\u001b[0m\u001b[0;34m\u001b[0m\u001b[0m\n\u001b[1;32m    791\u001b[0m             \u001b[0melapsed_time\u001b[0m \u001b[0;34m=\u001b[0m \u001b[0mtime\u001b[0m\u001b[0;34m.\u001b[0m\u001b[0mtime\u001b[0m\u001b[0;34m(\u001b[0m\u001b[0;34m)\u001b[0m \u001b[0;34m-\u001b[0m \u001b[0mself\u001b[0m\u001b[0;34m.\u001b[0m\u001b[0m_start_time\u001b[0m\u001b[0;34m\u001b[0m\u001b[0m\n",
      "\u001b[0;32m~/.pyenv/versions/fashion_project/lib/python3.6/site-packages/sklearn/externals/joblib/parallel.py\u001b[0m in \u001b[0;36mretrieve\u001b[0;34m(self)\u001b[0m\n\u001b[1;32m    738\u001b[0m                     \u001b[0mexception\u001b[0m \u001b[0;34m=\u001b[0m \u001b[0mexception_type\u001b[0m\u001b[0;34m(\u001b[0m\u001b[0mreport\u001b[0m\u001b[0;34m)\u001b[0m\u001b[0;34m\u001b[0m\u001b[0m\n\u001b[1;32m    739\u001b[0m \u001b[0;34m\u001b[0m\u001b[0m\n\u001b[0;32m--> 740\u001b[0;31m                     \u001b[0;32mraise\u001b[0m \u001b[0mexception\u001b[0m\u001b[0;34m\u001b[0m\u001b[0m\n\u001b[0m\u001b[1;32m    741\u001b[0m \u001b[0;34m\u001b[0m\u001b[0m\n\u001b[1;32m    742\u001b[0m     \u001b[0;32mdef\u001b[0m \u001b[0m__call__\u001b[0m\u001b[0;34m(\u001b[0m\u001b[0mself\u001b[0m\u001b[0;34m,\u001b[0m \u001b[0miterable\u001b[0m\u001b[0;34m)\u001b[0m\u001b[0;34m:\u001b[0m\u001b[0;34m\u001b[0m\u001b[0m\n",
      "\u001b[0;31mJoblibValueError\u001b[0m: JoblibValueError\n___________________________________________________________________________\nMultiprocessing exception:\n...........................................................................\n/Users/yiru/.pyenv/versions/3.6.1/lib/python3.6/runpy.py in _run_module_as_main(mod_name='ipykernel_launcher', alter_argv=1)\n    188         sys.exit(msg)\n    189     main_globals = sys.modules[\"__main__\"].__dict__\n    190     if alter_argv:\n    191         sys.argv[0] = mod_spec.origin\n    192     return _run_code(code, main_globals, None,\n--> 193                      \"__main__\", mod_spec)\n        mod_spec = ModuleSpec(name='ipykernel_launcher', loader=<_f...b/python3.6/site-packages/ipykernel_launcher.py')\n    194 \n    195 def run_module(mod_name, init_globals=None,\n    196                run_name=None, alter_sys=False):\n    197     \"\"\"Execute a module's code without importing it\n\n...........................................................................\n/Users/yiru/.pyenv/versions/3.6.1/lib/python3.6/runpy.py in _run_code(code=<code object <module> at 0x10971a9c0, file \"/Use...3.6/site-packages/ipykernel_launcher.py\", line 5>, run_globals={'__annotations__': {}, '__builtins__': <module 'builtins' (built-in)>, '__cached__': '/Users/yiru/.pyenv/versions/fashion_project/lib/...ges/__pycache__/ipykernel_launcher.cpython-36.pyc', '__doc__': 'Entry point for launching an IPython kernel.\\n\\nTh...orts until\\nafter removing the cwd from sys.path.\\n', '__file__': '/Users/yiru/.pyenv/versions/fashion_project/lib/python3.6/site-packages/ipykernel_launcher.py', '__loader__': <_frozen_importlib_external.SourceFileLoader object>, '__name__': '__main__', '__package__': '', '__spec__': ModuleSpec(name='ipykernel_launcher', loader=<_f...b/python3.6/site-packages/ipykernel_launcher.py'), 'app': <module 'ipykernel.kernelapp' from '/Users/yiru/.../python3.6/site-packages/ipykernel/kernelapp.py'>, ...}, init_globals=None, mod_name='__main__', mod_spec=ModuleSpec(name='ipykernel_launcher', loader=<_f...b/python3.6/site-packages/ipykernel_launcher.py'), pkg_name='', script_name=None)\n     80                        __cached__ = cached,\n     81                        __doc__ = None,\n     82                        __loader__ = loader,\n     83                        __package__ = pkg_name,\n     84                        __spec__ = mod_spec)\n---> 85     exec(code, run_globals)\n        code = <code object <module> at 0x10971a9c0, file \"/Use...3.6/site-packages/ipykernel_launcher.py\", line 5>\n        run_globals = {'__annotations__': {}, '__builtins__': <module 'builtins' (built-in)>, '__cached__': '/Users/yiru/.pyenv/versions/fashion_project/lib/...ges/__pycache__/ipykernel_launcher.cpython-36.pyc', '__doc__': 'Entry point for launching an IPython kernel.\\n\\nTh...orts until\\nafter removing the cwd from sys.path.\\n', '__file__': '/Users/yiru/.pyenv/versions/fashion_project/lib/python3.6/site-packages/ipykernel_launcher.py', '__loader__': <_frozen_importlib_external.SourceFileLoader object>, '__name__': '__main__', '__package__': '', '__spec__': ModuleSpec(name='ipykernel_launcher', loader=<_f...b/python3.6/site-packages/ipykernel_launcher.py'), 'app': <module 'ipykernel.kernelapp' from '/Users/yiru/.../python3.6/site-packages/ipykernel/kernelapp.py'>, ...}\n     86     return run_globals\n     87 \n     88 def _run_module_code(code, init_globals=None,\n     89                     mod_name=None, mod_spec=None,\n\n...........................................................................\n/Users/yiru/.pyenv/versions/fashion_project/lib/python3.6/site-packages/ipykernel_launcher.py in <module>()\n     11     # This is added back by InteractiveShellApp.init_path()\n     12     if sys.path[0] == '':\n     13         del sys.path[0]\n     14 \n     15     from ipykernel import kernelapp as app\n---> 16     app.launch_new_instance()\n\n...........................................................................\n/Users/yiru/.pyenv/versions/fashion_project/lib/python3.6/site-packages/traitlets/config/application.py in launch_instance(cls=<class 'ipykernel.kernelapp.IPKernelApp'>, argv=None, **kwargs={})\n    653 \n    654         If a global instance already exists, this reinitializes and starts it\n    655         \"\"\"\n    656         app = cls.instance(**kwargs)\n    657         app.initialize(argv)\n--> 658         app.start()\n        app.start = <bound method IPKernelApp.start of <ipykernel.kernelapp.IPKernelApp object>>\n    659 \n    660 #-----------------------------------------------------------------------------\n    661 # utility functions, for convenience\n    662 #-----------------------------------------------------------------------------\n\n...........................................................................\n/Users/yiru/.pyenv/versions/fashion_project/lib/python3.6/site-packages/ipykernel/kernelapp.py in start(self=<ipykernel.kernelapp.IPKernelApp object>)\n    481         if self.poller is not None:\n    482             self.poller.start()\n    483         self.kernel.start()\n    484         self.io_loop = ioloop.IOLoop.current()\n    485         try:\n--> 486             self.io_loop.start()\n        self.io_loop.start = <bound method BaseAsyncIOLoop.start of <tornado.platform.asyncio.AsyncIOMainLoop object>>\n    487         except KeyboardInterrupt:\n    488             pass\n    489 \n    490 launch_new_instance = IPKernelApp.launch_instance\n\n...........................................................................\n/Users/yiru/.pyenv/versions/fashion_project/lib/python3.6/site-packages/tornado/platform/asyncio.py in start(self=<tornado.platform.asyncio.AsyncIOMainLoop object>)\n    122         except (RuntimeError, AssertionError):\n    123             old_loop = None\n    124         try:\n    125             self._setup_logging()\n    126             asyncio.set_event_loop(self.asyncio_loop)\n--> 127             self.asyncio_loop.run_forever()\n        self.asyncio_loop.run_forever = <bound method BaseEventLoop.run_forever of <_Uni...EventLoop running=True closed=False debug=False>>\n    128         finally:\n    129             asyncio.set_event_loop(old_loop)\n    130 \n    131     def stop(self):\n\n...........................................................................\n/Users/yiru/.pyenv/versions/3.6.1/lib/python3.6/asyncio/base_events.py in run_forever(self=<_UnixSelectorEventLoop running=True closed=False debug=False>)\n    416             sys.set_asyncgen_hooks(firstiter=self._asyncgen_firstiter_hook,\n    417                                    finalizer=self._asyncgen_finalizer_hook)\n    418         try:\n    419             events._set_running_loop(self)\n    420             while True:\n--> 421                 self._run_once()\n        self._run_once = <bound method BaseEventLoop._run_once of <_UnixS...EventLoop running=True closed=False debug=False>>\n    422                 if self._stopping:\n    423                     break\n    424         finally:\n    425             self._stopping = False\n\n...........................................................................\n/Users/yiru/.pyenv/versions/3.6.1/lib/python3.6/asyncio/base_events.py in _run_once(self=<_UnixSelectorEventLoop running=True closed=False debug=False>)\n   1420                         logger.warning('Executing %s took %.3f seconds',\n   1421                                        _format_handle(handle), dt)\n   1422                 finally:\n   1423                     self._current_handle = None\n   1424             else:\n-> 1425                 handle._run()\n        handle._run = <bound method Handle._run of <Handle BaseAsyncIOLoop._handle_events(13, 1)>>\n   1426         handle = None  # Needed to break cycles when an exception occurs.\n   1427 \n   1428     def _set_coroutine_wrapper(self, enabled):\n   1429         try:\n\n...........................................................................\n/Users/yiru/.pyenv/versions/3.6.1/lib/python3.6/asyncio/events.py in _run(self=<Handle BaseAsyncIOLoop._handle_events(13, 1)>)\n    122             self._callback = None\n    123             self._args = None\n    124 \n    125     def _run(self):\n    126         try:\n--> 127             self._callback(*self._args)\n        self._callback = <bound method BaseAsyncIOLoop._handle_events of <tornado.platform.asyncio.AsyncIOMainLoop object>>\n        self._args = (13, 1)\n    128         except Exception as exc:\n    129             cb = _format_callback_source(self._callback, self._args)\n    130             msg = 'Exception in callback {}'.format(cb)\n    131             context = {\n\n...........................................................................\n/Users/yiru/.pyenv/versions/fashion_project/lib/python3.6/site-packages/tornado/platform/asyncio.py in _handle_events(self=<tornado.platform.asyncio.AsyncIOMainLoop object>, fd=13, events=1)\n    112             self.writers.remove(fd)\n    113         del self.handlers[fd]\n    114 \n    115     def _handle_events(self, fd, events):\n    116         fileobj, handler_func = self.handlers[fd]\n--> 117         handler_func(fileobj, events)\n        handler_func = <function wrap.<locals>.null_wrapper>\n        fileobj = <zmq.sugar.socket.Socket object>\n        events = 1\n    118 \n    119     def start(self):\n    120         try:\n    121             old_loop = asyncio.get_event_loop()\n\n...........................................................................\n/Users/yiru/.pyenv/versions/fashion_project/lib/python3.6/site-packages/tornado/stack_context.py in null_wrapper(*args=(<zmq.sugar.socket.Socket object>, 1), **kwargs={})\n    271         # Fast path when there are no active contexts.\n    272         def null_wrapper(*args, **kwargs):\n    273             try:\n    274                 current_state = _state.contexts\n    275                 _state.contexts = cap_contexts[0]\n--> 276                 return fn(*args, **kwargs)\n        args = (<zmq.sugar.socket.Socket object>, 1)\n        kwargs = {}\n    277             finally:\n    278                 _state.contexts = current_state\n    279         null_wrapper._wrapped = True\n    280         return null_wrapper\n\n...........................................................................\n/Users/yiru/.pyenv/versions/fashion_project/lib/python3.6/site-packages/zmq/eventloop/zmqstream.py in _handle_events(self=<zmq.eventloop.zmqstream.ZMQStream object>, fd=<zmq.sugar.socket.Socket object>, events=1)\n    445             return\n    446         zmq_events = self.socket.EVENTS\n    447         try:\n    448             # dispatch events:\n    449             if zmq_events & zmq.POLLIN and self.receiving():\n--> 450                 self._handle_recv()\n        self._handle_recv = <bound method ZMQStream._handle_recv of <zmq.eventloop.zmqstream.ZMQStream object>>\n    451                 if not self.socket:\n    452                     return\n    453             if zmq_events & zmq.POLLOUT and self.sending():\n    454                 self._handle_send()\n\n...........................................................................\n/Users/yiru/.pyenv/versions/fashion_project/lib/python3.6/site-packages/zmq/eventloop/zmqstream.py in _handle_recv(self=<zmq.eventloop.zmqstream.ZMQStream object>)\n    475             else:\n    476                 raise\n    477         else:\n    478             if self._recv_callback:\n    479                 callback = self._recv_callback\n--> 480                 self._run_callback(callback, msg)\n        self._run_callback = <bound method ZMQStream._run_callback of <zmq.eventloop.zmqstream.ZMQStream object>>\n        callback = <function wrap.<locals>.null_wrapper>\n        msg = [<zmq.sugar.frame.Frame object>, <zmq.sugar.frame.Frame object>, <zmq.sugar.frame.Frame object>, <zmq.sugar.frame.Frame object>, <zmq.sugar.frame.Frame object>, <zmq.sugar.frame.Frame object>, <zmq.sugar.frame.Frame object>]\n    481         \n    482 \n    483     def _handle_send(self):\n    484         \"\"\"Handle a send event.\"\"\"\n\n...........................................................................\n/Users/yiru/.pyenv/versions/fashion_project/lib/python3.6/site-packages/zmq/eventloop/zmqstream.py in _run_callback(self=<zmq.eventloop.zmqstream.ZMQStream object>, callback=<function wrap.<locals>.null_wrapper>, *args=([<zmq.sugar.frame.Frame object>, <zmq.sugar.frame.Frame object>, <zmq.sugar.frame.Frame object>, <zmq.sugar.frame.Frame object>, <zmq.sugar.frame.Frame object>, <zmq.sugar.frame.Frame object>, <zmq.sugar.frame.Frame object>],), **kwargs={})\n    427         close our socket.\"\"\"\n    428         try:\n    429             # Use a NullContext to ensure that all StackContexts are run\n    430             # inside our blanket exception handler rather than outside.\n    431             with stack_context.NullContext():\n--> 432                 callback(*args, **kwargs)\n        callback = <function wrap.<locals>.null_wrapper>\n        args = ([<zmq.sugar.frame.Frame object>, <zmq.sugar.frame.Frame object>, <zmq.sugar.frame.Frame object>, <zmq.sugar.frame.Frame object>, <zmq.sugar.frame.Frame object>, <zmq.sugar.frame.Frame object>, <zmq.sugar.frame.Frame object>],)\n        kwargs = {}\n    433         except:\n    434             gen_log.error(\"Uncaught exception in ZMQStream callback\",\n    435                           exc_info=True)\n    436             # Re-raise the exception so that IOLoop.handle_callback_exception\n\n...........................................................................\n/Users/yiru/.pyenv/versions/fashion_project/lib/python3.6/site-packages/tornado/stack_context.py in null_wrapper(*args=([<zmq.sugar.frame.Frame object>, <zmq.sugar.frame.Frame object>, <zmq.sugar.frame.Frame object>, <zmq.sugar.frame.Frame object>, <zmq.sugar.frame.Frame object>, <zmq.sugar.frame.Frame object>, <zmq.sugar.frame.Frame object>],), **kwargs={})\n    271         # Fast path when there are no active contexts.\n    272         def null_wrapper(*args, **kwargs):\n    273             try:\n    274                 current_state = _state.contexts\n    275                 _state.contexts = cap_contexts[0]\n--> 276                 return fn(*args, **kwargs)\n        args = ([<zmq.sugar.frame.Frame object>, <zmq.sugar.frame.Frame object>, <zmq.sugar.frame.Frame object>, <zmq.sugar.frame.Frame object>, <zmq.sugar.frame.Frame object>, <zmq.sugar.frame.Frame object>, <zmq.sugar.frame.Frame object>],)\n        kwargs = {}\n    277             finally:\n    278                 _state.contexts = current_state\n    279         null_wrapper._wrapped = True\n    280         return null_wrapper\n\n...........................................................................\n/Users/yiru/.pyenv/versions/fashion_project/lib/python3.6/site-packages/ipykernel/kernelbase.py in dispatcher(msg=[<zmq.sugar.frame.Frame object>, <zmq.sugar.frame.Frame object>, <zmq.sugar.frame.Frame object>, <zmq.sugar.frame.Frame object>, <zmq.sugar.frame.Frame object>, <zmq.sugar.frame.Frame object>, <zmq.sugar.frame.Frame object>])\n    278         if self.control_stream:\n    279             self.control_stream.on_recv(self.dispatch_control, copy=False)\n    280 \n    281         def make_dispatcher(stream):\n    282             def dispatcher(msg):\n--> 283                 return self.dispatch_shell(stream, msg)\n        msg = [<zmq.sugar.frame.Frame object>, <zmq.sugar.frame.Frame object>, <zmq.sugar.frame.Frame object>, <zmq.sugar.frame.Frame object>, <zmq.sugar.frame.Frame object>, <zmq.sugar.frame.Frame object>, <zmq.sugar.frame.Frame object>]\n    284             return dispatcher\n    285 \n    286         for s in self.shell_streams:\n    287             s.on_recv(make_dispatcher(s), copy=False)\n\n...........................................................................\n/Users/yiru/.pyenv/versions/fashion_project/lib/python3.6/site-packages/ipykernel/kernelbase.py in dispatch_shell(self=<ipykernel.ipkernel.IPythonKernel object>, stream=<zmq.eventloop.zmqstream.ZMQStream object>, msg={'buffers': [], 'content': {'allow_stdin': True, 'code': \"%%time\\ngs_svm.fit(np.vstack(x_train['tf_wv_desc_....vstack(x_train['tf_wv_desc_embedding_200_nap']))\", 'silent': False, 'stop_on_error': True, 'store_history': True, 'user_expressions': {}}, 'header': {'date': datetime.datetime(2018, 9, 8, 17, 38, 42, 592065, tzinfo=tzutc()), 'msg_id': 'c53c3ba560604d52aef0e562aaf564b3', 'msg_type': 'execute_request', 'session': 'e2675bfc17b843d384d1724201b99fce', 'username': 'username', 'version': '5.2'}, 'metadata': {}, 'msg_id': 'c53c3ba560604d52aef0e562aaf564b3', 'msg_type': 'execute_request', 'parent_header': {}})\n    228             self.log.warn(\"Unknown message type: %r\", msg_type)\n    229         else:\n    230             self.log.debug(\"%s: %s\", msg_type, msg)\n    231             self.pre_handler_hook()\n    232             try:\n--> 233                 handler(stream, idents, msg)\n        handler = <bound method Kernel.execute_request of <ipykernel.ipkernel.IPythonKernel object>>\n        stream = <zmq.eventloop.zmqstream.ZMQStream object>\n        idents = [b'e2675bfc17b843d384d1724201b99fce']\n        msg = {'buffers': [], 'content': {'allow_stdin': True, 'code': \"%%time\\ngs_svm.fit(np.vstack(x_train['tf_wv_desc_....vstack(x_train['tf_wv_desc_embedding_200_nap']))\", 'silent': False, 'stop_on_error': True, 'store_history': True, 'user_expressions': {}}, 'header': {'date': datetime.datetime(2018, 9, 8, 17, 38, 42, 592065, tzinfo=tzutc()), 'msg_id': 'c53c3ba560604d52aef0e562aaf564b3', 'msg_type': 'execute_request', 'session': 'e2675bfc17b843d384d1724201b99fce', 'username': 'username', 'version': '5.2'}, 'metadata': {}, 'msg_id': 'c53c3ba560604d52aef0e562aaf564b3', 'msg_type': 'execute_request', 'parent_header': {}}\n    234             except Exception:\n    235                 self.log.error(\"Exception in message handler:\", exc_info=True)\n    236             finally:\n    237                 self.post_handler_hook()\n\n...........................................................................\n/Users/yiru/.pyenv/versions/fashion_project/lib/python3.6/site-packages/ipykernel/kernelbase.py in execute_request(self=<ipykernel.ipkernel.IPythonKernel object>, stream=<zmq.eventloop.zmqstream.ZMQStream object>, ident=[b'e2675bfc17b843d384d1724201b99fce'], parent={'buffers': [], 'content': {'allow_stdin': True, 'code': \"%%time\\ngs_svm.fit(np.vstack(x_train['tf_wv_desc_....vstack(x_train['tf_wv_desc_embedding_200_nap']))\", 'silent': False, 'stop_on_error': True, 'store_history': True, 'user_expressions': {}}, 'header': {'date': datetime.datetime(2018, 9, 8, 17, 38, 42, 592065, tzinfo=tzutc()), 'msg_id': 'c53c3ba560604d52aef0e562aaf564b3', 'msg_type': 'execute_request', 'session': 'e2675bfc17b843d384d1724201b99fce', 'username': 'username', 'version': '5.2'}, 'metadata': {}, 'msg_id': 'c53c3ba560604d52aef0e562aaf564b3', 'msg_type': 'execute_request', 'parent_header': {}})\n    394         if not silent:\n    395             self.execution_count += 1\n    396             self._publish_execute_input(code, parent, self.execution_count)\n    397 \n    398         reply_content = self.do_execute(code, silent, store_history,\n--> 399                                         user_expressions, allow_stdin)\n        user_expressions = {}\n        allow_stdin = True\n    400 \n    401         # Flush output before sending the reply.\n    402         sys.stdout.flush()\n    403         sys.stderr.flush()\n\n...........................................................................\n/Users/yiru/.pyenv/versions/fashion_project/lib/python3.6/site-packages/ipykernel/ipkernel.py in do_execute(self=<ipykernel.ipkernel.IPythonKernel object>, code=\"%%time\\ngs_svm.fit(np.vstack(x_train['tf_wv_desc_....vstack(x_train['tf_wv_desc_embedding_200_nap']))\", silent=False, store_history=True, user_expressions={}, allow_stdin=True)\n    203 \n    204         self._forward_input(allow_stdin)\n    205 \n    206         reply_content = {}\n    207         try:\n--> 208             res = shell.run_cell(code, store_history=store_history, silent=silent)\n        res = undefined\n        shell.run_cell = <bound method ZMQInteractiveShell.run_cell of <ipykernel.zmqshell.ZMQInteractiveShell object>>\n        code = \"%%time\\ngs_svm.fit(np.vstack(x_train['tf_wv_desc_....vstack(x_train['tf_wv_desc_embedding_200_nap']))\"\n        store_history = True\n        silent = False\n    209         finally:\n    210             self._restore_input()\n    211 \n    212         if res.error_before_exec is not None:\n\n...........................................................................\n/Users/yiru/.pyenv/versions/fashion_project/lib/python3.6/site-packages/ipykernel/zmqshell.py in run_cell(self=<ipykernel.zmqshell.ZMQInteractiveShell object>, *args=(\"%%time\\ngs_svm.fit(np.vstack(x_train['tf_wv_desc_....vstack(x_train['tf_wv_desc_embedding_200_nap']))\",), **kwargs={'silent': False, 'store_history': True})\n    532             )\n    533         self.payload_manager.write_payload(payload)\n    534 \n    535     def run_cell(self, *args, **kwargs):\n    536         self._last_traceback = None\n--> 537         return super(ZMQInteractiveShell, self).run_cell(*args, **kwargs)\n        self.run_cell = <bound method ZMQInteractiveShell.run_cell of <ipykernel.zmqshell.ZMQInteractiveShell object>>\n        args = (\"%%time\\ngs_svm.fit(np.vstack(x_train['tf_wv_desc_....vstack(x_train['tf_wv_desc_embedding_200_nap']))\",)\n        kwargs = {'silent': False, 'store_history': True}\n    538 \n    539     def _showtraceback(self, etype, evalue, stb):\n    540         # try to preserve ordering of tracebacks and print statements\n    541         sys.stdout.flush()\n\n...........................................................................\n/Users/yiru/.pyenv/versions/fashion_project/lib/python3.6/site-packages/IPython/core/interactiveshell.py in run_cell(self=<ipykernel.zmqshell.ZMQInteractiveShell object>, raw_cell=\"%%time\\ngs_svm.fit(np.vstack(x_train['tf_wv_desc_....vstack(x_train['tf_wv_desc_embedding_200_nap']))\", store_history=True, silent=False, shell_futures=True)\n   2657         -------\n   2658         result : :class:`ExecutionResult`\n   2659         \"\"\"\n   2660         try:\n   2661             result = self._run_cell(\n-> 2662                 raw_cell, store_history, silent, shell_futures)\n        raw_cell = \"%%time\\ngs_svm.fit(np.vstack(x_train['tf_wv_desc_....vstack(x_train['tf_wv_desc_embedding_200_nap']))\"\n        store_history = True\n        silent = False\n        shell_futures = True\n   2663         finally:\n   2664             self.events.trigger('post_execute')\n   2665             if not silent:\n   2666                 self.events.trigger('post_run_cell', result)\n\n...........................................................................\n/Users/yiru/.pyenv/versions/fashion_project/lib/python3.6/site-packages/IPython/core/interactiveshell.py in _run_cell(self=<ipykernel.zmqshell.ZMQInteractiveShell object>, raw_cell=\"%%time\\ngs_svm.fit(np.vstack(x_train['tf_wv_desc_....vstack(x_train['tf_wv_desc_embedding_200_nap']))\", store_history=True, silent=False, shell_futures=True)\n   2780                 self.displayhook.exec_result = result\n   2781 \n   2782                 # Execute the user code\n   2783                 interactivity = 'none' if silent else self.ast_node_interactivity\n   2784                 has_raised = self.run_ast_nodes(code_ast.body, cell_name,\n-> 2785                    interactivity=interactivity, compiler=compiler, result=result)\n        interactivity = 'last_expr'\n        compiler = <IPython.core.compilerop.CachingCompiler object>\n   2786                 \n   2787                 self.last_execution_succeeded = not has_raised\n   2788                 self.last_execution_result = result\n   2789 \n\n...........................................................................\n/Users/yiru/.pyenv/versions/fashion_project/lib/python3.6/site-packages/IPython/core/interactiveshell.py in run_ast_nodes(self=<ipykernel.zmqshell.ZMQInteractiveShell object>, nodelist=[<_ast.Expr object>], cell_name='<ipython-input-69-5d257ecdfa2e>', interactivity='last', compiler=<IPython.core.compilerop.CachingCompiler object>, result=<ExecutionResult object at 112eed358, execution_...rue silent=False shell_futures=True> result=None>)\n   2904                     return True\n   2905 \n   2906             for i, node in enumerate(to_run_interactive):\n   2907                 mod = ast.Interactive([node])\n   2908                 code = compiler(mod, cell_name, \"single\")\n-> 2909                 if self.run_code(code, result):\n        self.run_code = <bound method InteractiveShell.run_code of <ipykernel.zmqshell.ZMQInteractiveShell object>>\n        code = <code object <module> at 0x1119de270, file \"<ipython-input-69-5d257ecdfa2e>\", line 1>\n        result = <ExecutionResult object at 112eed358, execution_...rue silent=False shell_futures=True> result=None>\n   2910                     return True\n   2911 \n   2912             # Flush softspace\n   2913             if softspace(sys.stdout, 0):\n\n...........................................................................\n/Users/yiru/.pyenv/versions/fashion_project/lib/python3.6/site-packages/IPython/core/interactiveshell.py in run_code(self=<ipykernel.zmqshell.ZMQInteractiveShell object>, code_obj=<code object <module> at 0x1119de270, file \"<ipython-input-69-5d257ecdfa2e>\", line 1>, result=<ExecutionResult object at 112eed358, execution_...rue silent=False shell_futures=True> result=None>)\n   2958         outflag = True  # happens in more places, so it's easier as default\n   2959         try:\n   2960             try:\n   2961                 self.hooks.pre_run_code_hook()\n   2962                 #rprint('Running code', repr(code_obj)) # dbg\n-> 2963                 exec(code_obj, self.user_global_ns, self.user_ns)\n        code_obj = <code object <module> at 0x1119de270, file \"<ipython-input-69-5d257ecdfa2e>\", line 1>\n        self.user_global_ns = {'AdaBoostClassifier': <class 'sklearn.ensemble.weight_boosting.AdaBoostClassifier'>, 'CountVectorizer': <class 'sklearn.feature_extraction.text.CountVectorizer'>, 'Counter': <class 'collections.Counter'>, 'DecisionTreeClassifier': <class 'sklearn.tree.tree.DecisionTreeClassifier'>, 'GridSearchCV': <class 'sklearn.model_selection._search.GridSearchCV'>, 'HTML': <class 'IPython.core.display.HTML'>, 'In': ['', 'from IPython.core.display import display, HTML\\nd...>.container { width:100% !important; }</style>\"))', 'import sys\\nsys.path', 'import math\\nimport numpy as np\\nimport pandas as ... XGBClassifier\\n#from xgboost import XGBClassifier', 'import math\\nimport numpy as np\\nimport pandas as ... XGBClassifier\\n#from xgboost import XGBClassifier', 'import math\\nimport numpy as np\\nimport pandas as ...t XGBClassifier\\nfrom xgboost import XGBClassifier', 'import math\\nimport numpy as np\\nimport pandas as ...t XGBClassifier\\nfrom xgboost import XGBClassifier', 'import math\\nimport numpy as np\\nimport pandas as ...t XGBClassifier\\nfrom xgboost import XGBClassifier', 'import math\\nimport numpy as np\\nimport pandas as ...t XGBClassifier\\nfrom xgboost import XGBClassifier', 'import math\\nimport numpy as np\\nimport pandas as ... XGBClassifier\\n#from xgboost import XGBClassifier', \"get_ipython().run_line_magic('ls', '/Users/yiru/projects/Fashion_Project_18/data/embeddings')\", \"datapath = '/Users/yiru/projects/Fashion_Project..._hdf(datapath+'wv_embedding_200_nap.h5', 'table')\", 'df.head()', \"data = df[df['label'].notnull()]\", \"# # gothic+punk+rocker -> punk\\n\\n# # tailored+bus...', 'tailored').split(' ') for x in data['label']]\", 'from collections import Counter\\nstyle_counts = [...ct=Counter(style_counts)\\nstyle_dict.most_common()', 'from collections import Counter\\nstyle_counts = [...ct=Counter(style_counts)\\nstyle_dict.most_common()', \"indexes = list(style_dict.keys())\\nlabels, values...plt.bar(indexes, values, width, align='center', )\", \"data['label'].sample(10)\", \"# Convert labels to k-hot\\nmlb = MultiLabelBinarizer()\\nY = mlb.fit_transform(data['label'])\", ...], 'LabelBinarizer': <class 'sklearn.preprocessing.label.LabelBinarizer'>, 'LinearSVC': <class 'sklearn.svm.classes.LinearSVC'>, 'LogisticRegression': <class 'sklearn.linear_model.logistic.LogisticRegression'>, ...}\n        self.user_ns = {'AdaBoostClassifier': <class 'sklearn.ensemble.weight_boosting.AdaBoostClassifier'>, 'CountVectorizer': <class 'sklearn.feature_extraction.text.CountVectorizer'>, 'Counter': <class 'collections.Counter'>, 'DecisionTreeClassifier': <class 'sklearn.tree.tree.DecisionTreeClassifier'>, 'GridSearchCV': <class 'sklearn.model_selection._search.GridSearchCV'>, 'HTML': <class 'IPython.core.display.HTML'>, 'In': ['', 'from IPython.core.display import display, HTML\\nd...>.container { width:100% !important; }</style>\"))', 'import sys\\nsys.path', 'import math\\nimport numpy as np\\nimport pandas as ... XGBClassifier\\n#from xgboost import XGBClassifier', 'import math\\nimport numpy as np\\nimport pandas as ... XGBClassifier\\n#from xgboost import XGBClassifier', 'import math\\nimport numpy as np\\nimport pandas as ...t XGBClassifier\\nfrom xgboost import XGBClassifier', 'import math\\nimport numpy as np\\nimport pandas as ...t XGBClassifier\\nfrom xgboost import XGBClassifier', 'import math\\nimport numpy as np\\nimport pandas as ...t XGBClassifier\\nfrom xgboost import XGBClassifier', 'import math\\nimport numpy as np\\nimport pandas as ...t XGBClassifier\\nfrom xgboost import XGBClassifier', 'import math\\nimport numpy as np\\nimport pandas as ... XGBClassifier\\n#from xgboost import XGBClassifier', \"get_ipython().run_line_magic('ls', '/Users/yiru/projects/Fashion_Project_18/data/embeddings')\", \"datapath = '/Users/yiru/projects/Fashion_Project..._hdf(datapath+'wv_embedding_200_nap.h5', 'table')\", 'df.head()', \"data = df[df['label'].notnull()]\", \"# # gothic+punk+rocker -> punk\\n\\n# # tailored+bus...', 'tailored').split(' ') for x in data['label']]\", 'from collections import Counter\\nstyle_counts = [...ct=Counter(style_counts)\\nstyle_dict.most_common()', 'from collections import Counter\\nstyle_counts = [...ct=Counter(style_counts)\\nstyle_dict.most_common()', \"indexes = list(style_dict.keys())\\nlabels, values...plt.bar(indexes, values, width, align='center', )\", \"data['label'].sample(10)\", \"# Convert labels to k-hot\\nmlb = MultiLabelBinarizer()\\nY = mlb.fit_transform(data['label'])\", ...], 'LabelBinarizer': <class 'sklearn.preprocessing.label.LabelBinarizer'>, 'LinearSVC': <class 'sklearn.svm.classes.LinearSVC'>, 'LogisticRegression': <class 'sklearn.linear_model.logistic.LogisticRegression'>, ...}\n   2964             finally:\n   2965                 # Reset our crash handler in place\n   2966                 sys.excepthook = old_excepthook\n   2967         except SystemExit as e:\n\n...........................................................................\n/Users/yiru/projects/Fashion_Project_18/notebooks/<ipython-input-69-5d257ecdfa2e> in <module>()\n----> 1 get_ipython().run_cell_magic('time', '', \"gs_svm.fit(np.vstack(x_train['tf_wv_desc_embedding_200_nap']), y_train)\\ny_pred=gs_svm.predict(np.vstack(x_train['tf_wv_desc_embedding_200_nap']))\")\n\n...........................................................................\n/Users/yiru/.pyenv/versions/fashion_project/lib/python3.6/site-packages/IPython/core/interactiveshell.py in run_cell_magic(self=<ipykernel.zmqshell.ZMQInteractiveShell object>, magic_name='time', line='', cell=\"gs_svm.fit(np.vstack(x_train['tf_wv_desc_embeddi....vstack(x_train['tf_wv_desc_embedding_200_nap']))\")\n   2162             # This will need to be updated if the internal calling logic gets\n   2163             # refactored, or else we'll be expanding the wrong variables.\n   2164             stack_depth = 2\n   2165             magic_arg_s = self.var_expand(line, stack_depth)\n   2166             with self.builtin_trap:\n-> 2167                 result = fn(magic_arg_s, cell)\n        result = undefined\n        fn = <bound method ExecutionMagics.time of <IPython.core.magics.execution.ExecutionMagics object>>\n        magic_arg_s = ''\n        cell = \"gs_svm.fit(np.vstack(x_train['tf_wv_desc_embeddi....vstack(x_train['tf_wv_desc_embedding_200_nap']))\"\n   2168             return result\n   2169 \n   2170     def find_line_magic(self, magic_name):\n   2171         \"\"\"Find and return a line magic by name.\n\n...........................................................................\n/Users/yiru/projects/Fashion_Project_18/notebooks/<decorator-gen-62> in time(self=<IPython.core.magics.execution.ExecutionMagics object>, line='', cell=\"gs_svm.fit(np.vstack(x_train['tf_wv_desc_embeddi....vstack(x_train['tf_wv_desc_embedding_200_nap']))\", local_ns=None)\n\n...........................................................................\n/Users/yiru/.pyenv/versions/fashion_project/lib/python3.6/site-packages/IPython/core/magic.py in <lambda>(f=<function ExecutionMagics.time>, *a=(<IPython.core.magics.execution.ExecutionMagics object>, '', \"gs_svm.fit(np.vstack(x_train['tf_wv_desc_embeddi....vstack(x_train['tf_wv_desc_embedding_200_nap']))\", None), **k={})\n    182     validate_type(magic_kind)\n    183 \n    184     # This is a closure to capture the magic_kind.  We could also use a class,\n    185     # but it's overkill for just that one bit of state.\n    186     def magic_deco(arg):\n--> 187         call = lambda f, *a, **k: f(*a, **k)\n        f = <function ExecutionMagics.time>\n        a = (<IPython.core.magics.execution.ExecutionMagics object>, '', \"gs_svm.fit(np.vstack(x_train['tf_wv_desc_embeddi....vstack(x_train['tf_wv_desc_embedding_200_nap']))\", None)\n        k = {}\n    188 \n    189         if callable(arg):\n    190             # \"Naked\" decorator call (just @foo, no args)\n    191             func = arg\n\n...........................................................................\n/Users/yiru/.pyenv/versions/fashion_project/lib/python3.6/site-packages/IPython/core/magics/execution.py in time(self=<IPython.core.magics.execution.ExecutionMagics object>, line='', cell=\"gs_svm.fit(np.vstack(x_train['tf_wv_desc_embeddi....vstack(x_train['tf_wv_desc_embedding_200_nap']))\", local_ns=None)\n   1233                 return\n   1234             end = clock2()\n   1235         else:\n   1236             st = clock2()\n   1237             try:\n-> 1238                 exec(code, glob, local_ns)\n        code = <code object <module> at 0x112efee40, file \"<timed exec>\", line 1>\n        glob = {'AdaBoostClassifier': <class 'sklearn.ensemble.weight_boosting.AdaBoostClassifier'>, 'CountVectorizer': <class 'sklearn.feature_extraction.text.CountVectorizer'>, 'Counter': <class 'collections.Counter'>, 'DecisionTreeClassifier': <class 'sklearn.tree.tree.DecisionTreeClassifier'>, 'GridSearchCV': <class 'sklearn.model_selection._search.GridSearchCV'>, 'HTML': <class 'IPython.core.display.HTML'>, 'In': ['', 'from IPython.core.display import display, HTML\\nd...>.container { width:100% !important; }</style>\"))', 'import sys\\nsys.path', 'import math\\nimport numpy as np\\nimport pandas as ... XGBClassifier\\n#from xgboost import XGBClassifier', 'import math\\nimport numpy as np\\nimport pandas as ... XGBClassifier\\n#from xgboost import XGBClassifier', 'import math\\nimport numpy as np\\nimport pandas as ...t XGBClassifier\\nfrom xgboost import XGBClassifier', 'import math\\nimport numpy as np\\nimport pandas as ...t XGBClassifier\\nfrom xgboost import XGBClassifier', 'import math\\nimport numpy as np\\nimport pandas as ...t XGBClassifier\\nfrom xgboost import XGBClassifier', 'import math\\nimport numpy as np\\nimport pandas as ...t XGBClassifier\\nfrom xgboost import XGBClassifier', 'import math\\nimport numpy as np\\nimport pandas as ... XGBClassifier\\n#from xgboost import XGBClassifier', \"get_ipython().run_line_magic('ls', '/Users/yiru/projects/Fashion_Project_18/data/embeddings')\", \"datapath = '/Users/yiru/projects/Fashion_Project..._hdf(datapath+'wv_embedding_200_nap.h5', 'table')\", 'df.head()', \"data = df[df['label'].notnull()]\", \"# # gothic+punk+rocker -> punk\\n\\n# # tailored+bus...', 'tailored').split(' ') for x in data['label']]\", 'from collections import Counter\\nstyle_counts = [...ct=Counter(style_counts)\\nstyle_dict.most_common()', 'from collections import Counter\\nstyle_counts = [...ct=Counter(style_counts)\\nstyle_dict.most_common()', \"indexes = list(style_dict.keys())\\nlabels, values...plt.bar(indexes, values, width, align='center', )\", \"data['label'].sample(10)\", \"# Convert labels to k-hot\\nmlb = MultiLabelBinarizer()\\nY = mlb.fit_transform(data['label'])\", ...], 'LabelBinarizer': <class 'sklearn.preprocessing.label.LabelBinarizer'>, 'LinearSVC': <class 'sklearn.svm.classes.LinearSVC'>, 'LogisticRegression': <class 'sklearn.linear_model.logistic.LogisticRegression'>, ...}\n        local_ns = None\n   1239             except:\n   1240                 self.shell.showtraceback()\n   1241                 return\n   1242             end = clock2()\n\n...........................................................................\n/Users/yiru/projects/Fashion_Project_18/notebooks/<timed exec> in <module>()\n\n...........................................................................\n/Users/yiru/.pyenv/versions/fashion_project/lib/python3.6/site-packages/sklearn/model_selection/_search.py in fit(self=GridSearchCV(cv=10, error_score='raise',\n       ...'warn',\n       scoring='recall_micro', verbose=0), X=array([[ 0.01767812, -0.00841559, -0.00030525, ....        0.05616832, -0.01905157]], dtype=float32), y=array([[0, 1, 0, ..., 0, 0, 0],\n       [0, 0, 0,..., ..., 0, 0, 0],\n       [0, 0, 0, ..., 0, 0, 0]]), groups=None, **fit_params={})\n    634                                   return_train_score=self.return_train_score,\n    635                                   return_n_test_samples=True,\n    636                                   return_times=True, return_parameters=False,\n    637                                   error_score=self.error_score)\n    638           for parameters, (train, test) in product(candidate_params,\n--> 639                                                    cv.split(X, y, groups)))\n        cv.split = <bound method _BaseKFold.split of KFold(n_splits=10, random_state=None, shuffle=False)>\n        X = array([[ 0.01767812, -0.00841559, -0.00030525, ....        0.05616832, -0.01905157]], dtype=float32)\n        y = array([[0, 1, 0, ..., 0, 0, 0],\n       [0, 0, 0,..., ..., 0, 0, 0],\n       [0, 0, 0, ..., 0, 0, 0]])\n        groups = None\n    640 \n    641         # if one choose to see train score, \"out\" will contain train score info\n    642         if self.return_train_score:\n    643             (train_score_dicts, test_score_dicts, test_sample_counts, fit_time,\n\n...........................................................................\n/Users/yiru/.pyenv/versions/fashion_project/lib/python3.6/site-packages/sklearn/externals/joblib/parallel.py in __call__(self=Parallel(n_jobs=-1), iterable=<generator object BaseSearchCV.fit.<locals>.<genexpr>>)\n    784             if pre_dispatch == \"all\" or n_jobs == 1:\n    785                 # The iterable was consumed all at once by the above for loop.\n    786                 # No need to wait for async callbacks to trigger to\n    787                 # consumption.\n    788                 self._iterating = False\n--> 789             self.retrieve()\n        self.retrieve = <bound method Parallel.retrieve of Parallel(n_jobs=-1)>\n    790             # Make sure that we get a last message telling us we are done\n    791             elapsed_time = time.time() - self._start_time\n    792             self._print('Done %3i out of %3i | elapsed: %s finished',\n    793                         (len(self._output), len(self._output),\n\n---------------------------------------------------------------------------\nSub-process traceback:\n---------------------------------------------------------------------------\nValueError                                         Sun Sep  9 01:38:42 2018\nPID: 32988Python 3.6.1: /Users/yiru/.pyenv/versions/fashion_project/bin/python\n...........................................................................\n/Users/yiru/.pyenv/versions/fashion_project/lib/python3.6/site-packages/sklearn/externals/joblib/parallel.py in __call__(self=<sklearn.externals.joblib.parallel.BatchedCalls object>)\n    126     def __init__(self, iterator_slice):\n    127         self.items = list(iterator_slice)\n    128         self._size = len(self.items)\n    129 \n    130     def __call__(self):\n--> 131         return [func(*args, **kwargs) for func, args, kwargs in self.items]\n        self.items = [(<function _fit_and_score>, (Pipeline(memory=None,\n     steps=[('clf', Linear..., random_state=42, tol=0.0001,\n     verbose=0))]), memmap([[ 0.01767812, -0.00841559, -0.00030525, ...        0.05616832, -0.01905157]], dtype=float32), array([[0, 1, 0, ..., 0, 0, 0],\n       [0, 0, 0,..., ..., 0, 0, 0],\n       [0, 0, 0, ..., 0, 0, 0]]), {'score': make_scorer(recall_score, pos_label=None, average=micro)}, array([ 140,  141,  142, ..., 1388, 1389, 1390]), array([  0,   1,   2,   3,   4,   5,   6,   7,  ...30, 131, 132, 133, 134, 135, 136, 137, 138, 139]), 0, {'clf__C': 1, 'clf__kernel': 'linear'}), {'error_score': 'raise', 'fit_params': {}, 'return_n_test_samples': True, 'return_parameters': False, 'return_times': True, 'return_train_score': 'warn'})]\n    132 \n    133     def __len__(self):\n    134         return self._size\n    135 \n\n...........................................................................\n/Users/yiru/.pyenv/versions/fashion_project/lib/python3.6/site-packages/sklearn/externals/joblib/parallel.py in <listcomp>(.0=<list_iterator object>)\n    126     def __init__(self, iterator_slice):\n    127         self.items = list(iterator_slice)\n    128         self._size = len(self.items)\n    129 \n    130     def __call__(self):\n--> 131         return [func(*args, **kwargs) for func, args, kwargs in self.items]\n        func = <function _fit_and_score>\n        args = (Pipeline(memory=None,\n     steps=[('clf', Linear..., random_state=42, tol=0.0001,\n     verbose=0))]), memmap([[ 0.01767812, -0.00841559, -0.00030525, ...        0.05616832, -0.01905157]], dtype=float32), array([[0, 1, 0, ..., 0, 0, 0],\n       [0, 0, 0,..., ..., 0, 0, 0],\n       [0, 0, 0, ..., 0, 0, 0]]), {'score': make_scorer(recall_score, pos_label=None, average=micro)}, array([ 140,  141,  142, ..., 1388, 1389, 1390]), array([  0,   1,   2,   3,   4,   5,   6,   7,  ...30, 131, 132, 133, 134, 135, 136, 137, 138, 139]), 0, {'clf__C': 1, 'clf__kernel': 'linear'})\n        kwargs = {'error_score': 'raise', 'fit_params': {}, 'return_n_test_samples': True, 'return_parameters': False, 'return_times': True, 'return_train_score': 'warn'}\n    132 \n    133     def __len__(self):\n    134         return self._size\n    135 \n\n...........................................................................\n/Users/yiru/.pyenv/versions/fashion_project/lib/python3.6/site-packages/sklearn/model_selection/_validation.py in _fit_and_score(estimator=Pipeline(memory=None,\n     steps=[('clf', Linear..., random_state=42, tol=0.0001,\n     verbose=0))]), X=memmap([[ 0.01767812, -0.00841559, -0.00030525, ...        0.05616832, -0.01905157]], dtype=float32), y=array([[0, 1, 0, ..., 0, 0, 0],\n       [0, 0, 0,..., ..., 0, 0, 0],\n       [0, 0, 0, ..., 0, 0, 0]]), scorer={'score': make_scorer(recall_score, pos_label=None, average=micro)}, train=array([ 140,  141,  142, ..., 1388, 1389, 1390]), test=array([  0,   1,   2,   3,   4,   5,   6,   7,  ...30, 131, 132, 133, 134, 135, 136, 137, 138, 139]), verbose=0, parameters={'clf__C': 1, 'clf__kernel': 'linear'}, fit_params={}, return_train_score='warn', return_parameters=False, return_n_test_samples=True, return_times=True, error_score='raise')\n    439                       for k, v in fit_params.items()])\n    440 \n    441     test_scores = {}\n    442     train_scores = {}\n    443     if parameters is not None:\n--> 444         estimator.set_params(**parameters)\n        estimator.set_params = <bound method Pipeline.set_params of Pipeline(me... random_state=42, tol=0.0001,\n     verbose=0))])>\n        parameters = {'clf__C': 1, 'clf__kernel': 'linear'}\n    445 \n    446     start_time = time.time()\n    447 \n    448     X_train, y_train = _safe_split(estimator, X, y, train)\n\n...........................................................................\n/Users/yiru/.pyenv/versions/fashion_project/lib/python3.6/site-packages/sklearn/pipeline.py in set_params(self=Pipeline(memory=None,\n     steps=[('clf', Linear..., random_state=42, tol=0.0001,\n     verbose=0))]), **kwargs={'clf__C': 1, 'clf__kernel': 'linear'})\n    137 \n    138         Returns\n    139         -------\n    140         self\n    141         \"\"\"\n--> 142         self._set_params('steps', **kwargs)\n        self._set_params = <bound method _BaseComposition._set_params of Pi... random_state=42, tol=0.0001,\n     verbose=0))])>\n        kwargs = {'clf__C': 1, 'clf__kernel': 'linear'}\n    143         return self\n    144 \n    145     def _validate_steps(self):\n    146         names, estimators = zip(*self.steps)\n\n...........................................................................\n/Users/yiru/.pyenv/versions/fashion_project/lib/python3.6/site-packages/sklearn/utils/metaestimators.py in _set_params(self=Pipeline(memory=None,\n     steps=[('clf', Linear..., random_state=42, tol=0.0001,\n     verbose=0))]), attr='steps', **params={'clf__C': 1, 'clf__kernel': 'linear'})\n     44         names, _ = zip(*getattr(self, attr))\n     45         for name in list(six.iterkeys(params)):\n     46             if '__' not in name and name in names:\n     47                 self._replace_estimator(attr, name, params.pop(name))\n     48         # 3. Step parameters and other initilisation arguments\n---> 49         super(_BaseComposition, self).set_params(**params)\n        self.set_params = <bound method Pipeline.set_params of Pipeline(me... random_state=42, tol=0.0001,\n     verbose=0))])>\n        params = {'clf__C': 1, 'clf__kernel': 'linear'}\n     50         return self\n     51 \n     52     def _replace_estimator(self, attr, name, new_val):\n     53         # assumes `name` is a valid estimator name\n\n...........................................................................\n/Users/yiru/.pyenv/versions/fashion_project/lib/python3.6/site-packages/sklearn/base.py in set_params(self=Pipeline(memory=None,\n     steps=[('clf', Linear..., random_state=42, tol=0.0001,\n     verbose=0))]), **params={'clf__C': 1, 'clf__kernel': 'linear'})\n    277                 nested_params[key][sub_key] = value\n    278             else:\n    279                 setattr(self, key, value)\n    280 \n    281         for key, sub_params in nested_params.items():\n--> 282             valid_params[key].set_params(**sub_params)\n        valid_params = {'clf': LinearSVC(C=1, class_weight=None, dual=True, fit...l2', random_state=42, tol=0.0001,\n     verbose=0), 'clf__C': 1.0, 'clf__class_weight': None, 'clf__dual': True, 'clf__fit_intercept': True, 'clf__intercept_scaling': 1, 'clf__loss': 'squared_hinge', 'clf__max_iter': 1000, 'clf__multi_class': 'ovr', 'clf__penalty': 'l2', ...}\n        key.set_params = undefined\n        sub_params = {'C': 1, 'kernel': 'linear'}\n    283 \n    284         return self\n    285 \n    286     def __repr__(self):\n\n...........................................................................\n/Users/yiru/.pyenv/versions/fashion_project/lib/python3.6/site-packages/sklearn/base.py in set_params(self=LinearSVC(C=1, class_weight=None, dual=True, fit...l2', random_state=42, tol=0.0001,\n     verbose=0), **params={'C': 1, 'kernel': 'linear'})\n    269             key, delim, sub_key = key.partition('__')\n    270             if key not in valid_params:\n    271                 raise ValueError('Invalid parameter %s for estimator %s. '\n    272                                  'Check the list of available parameters '\n    273                                  'with `estimator.get_params().keys()`.' %\n--> 274                                  (key, self))\n        key = 'kernel'\n        self = LinearSVC(C=1, class_weight=None, dual=True, fit...l2', random_state=42, tol=0.0001,\n     verbose=0)\n    275 \n    276             if delim:\n    277                 nested_params[key][sub_key] = value\n    278             else:\n\nValueError: Invalid parameter kernel for estimator LinearSVC(C=1, class_weight=None, dual=True, fit_intercept=True,\n     intercept_scaling=1, loss='squared_hinge', max_iter=1000,\n     multi_class='ovr', penalty='l2', random_state=42, tol=0.0001,\n     verbose=0). Check the list of available parameters with `estimator.get_params().keys()`.\n___________________________________________________________________________"
     ]
    }
   ],
   "source": [
    "%%time\n",
    "gs_svm.fit(np.vstack(x_train['tf_wv_desc_embedding_200_nap']), y_train)\n",
    "y_pred=gs_svm.predict(np.vstack(x_train['tf_wv_desc_embedding_200_nap']))"
   ]
  },
  {
   "cell_type": "code",
   "execution_count": null,
   "metadata": {},
   "outputs": [],
   "source": []
  },
  {
   "cell_type": "code",
   "execution_count": null,
   "metadata": {},
   "outputs": [],
   "source": []
  },
  {
   "cell_type": "code",
   "execution_count": null,
   "metadata": {},
   "outputs": [],
   "source": []
  },
  {
   "cell_type": "markdown",
   "metadata": {},
   "source": [
    "# Multi-label Classification"
   ]
  },
  {
   "cell_type": "markdown",
   "metadata": {},
   "source": [
    "### target"
   ]
  },
  {
   "cell_type": "code",
   "execution_count": 19,
   "metadata": {},
   "outputs": [],
   "source": [
    " # Convert labels to k-hot\n",
    "mlb = MultiLabelBinarizer()\n",
    "Y = mlb.fit_transform(data['label'])"
   ]
  },
  {
   "cell_type": "code",
   "execution_count": 20,
   "metadata": {},
   "outputs": [
    {
     "data": {
      "text/plain": [
       "array(['artsy', 'athleisure', 'bohemian', 'business', 'casual', 'chic',\n",
       "       'classic', 'edgy', 'exotic', 'glam', 'gothic', 'hipster',\n",
       "       'minimalistic', 'preppy', 'punk', 'rocker', 'romantic',\n",
       "       'sartorial', 'sexy', 'sophisticated', 'street', 'tailored',\n",
       "       'vintage', 'western'], dtype=object)"
      ]
     },
     "execution_count": 20,
     "metadata": {},
     "output_type": "execute_result"
    }
   ],
   "source": [
    "mlb.classes_"
   ]
  },
  {
   "cell_type": "code",
   "execution_count": 21,
   "metadata": {},
   "outputs": [],
   "source": [
    "embeddings = ['tf_wv_desc_embedding_200_nap']"
   ]
  },
  {
   "cell_type": "code",
   "execution_count": 22,
   "metadata": {},
   "outputs": [],
   "source": [
    "# Select embeddings from dataframe\n",
    "X = data[embeddings]"
   ]
  },
  {
   "cell_type": "code",
   "execution_count": 23,
   "metadata": {},
   "outputs": [],
   "source": [
    "# 80/20 train/test\n",
    "x_train, x_test, y_train, y_test = train_test_split(X, Y, test_size = 0.2, random_state = 2018)"
   ]
  },
  {
   "cell_type": "code",
   "execution_count": 24,
   "metadata": {},
   "outputs": [
    {
     "data": {
      "text/plain": [
       "array([[0, 1, 0, ..., 0, 0, 0],\n",
       "       [0, 0, 0, ..., 0, 0, 0],\n",
       "       [0, 0, 0, ..., 0, 0, 0],\n",
       "       ...,\n",
       "       [0, 0, 1, ..., 0, 0, 0],\n",
       "       [0, 0, 0, ..., 0, 1, 0],\n",
       "       [0, 0, 1, ..., 0, 0, 0]])"
      ]
     },
     "execution_count": 24,
     "metadata": {},
     "output_type": "execute_result"
    }
   ],
   "source": [
    "y_train"
   ]
  },
  {
   "cell_type": "code",
   "execution_count": 25,
   "metadata": {},
   "outputs": [],
   "source": [
    "# x_train, x_val, y_train, y_val = train_test_split(x_train, y_train, test_size = 0.2, random_state = 2018)\n",
    "# x_train.shape, y_train.shape, x_val.shape, y_val.shape, x_test.shape, y_test.shape"
   ]
  },
  {
   "cell_type": "markdown",
   "metadata": {},
   "source": [
    "## metrics"
   ]
  },
  {
   "cell_type": "code",
   "execution_count": 26,
   "metadata": {},
   "outputs": [],
   "source": [
    "def eval(predict_label_and_marked_label_list):\n",
    "    right_label_num = 0  #total correct label nums\n",
    "    right_label_at_pos_num = [0, 0, 0, 0, 0, 0, 0, 0, 0, 0]  #on each position the total correct labels\n",
    "    sample_num = 0   #\n",
    "    all_marked_label_num = 0    #all style labels nums\n",
    "    for predict_labels, marked_labels in predict_label_and_marked_label_list:\n",
    "        sample_num += 1\n",
    "        marked_label_set = set(marked_labels)\n",
    "        all_marked_label_num += len(marked_label_set)\n",
    "        for pos, label in zip(range(0, min(len(predict_labels), 10)), predict_labels):\n",
    "            if label in marked_label_set:     #correct\n",
    "                right_label_num += 1\n",
    "                right_label_at_pos_num[pos] += 1\n",
    "\n",
    "    precision = 0.0\n",
    "    for pos, right_num in zip(range(0, 10), right_label_at_pos_num):\n",
    "        precision += ((right_num / float(sample_num))) / math.log(2.0 + pos)  # 0-4 -> pos1-5 + 1，so +2\n",
    "    recall = float(right_label_num) / all_marked_label_num\n",
    "\n",
    "    return 2*(precision * recall) / (precision + recall+0.00001)"
   ]
  },
  {
   "cell_type": "markdown",
   "metadata": {},
   "source": [
    "##  model selection"
   ]
  },
  {
   "cell_type": "code",
   "execution_count": 22,
   "metadata": {},
   "outputs": [],
   "source": [
    "# from sklearn.multiclass import OneVsRestClassifier\n",
    "# from sklearn.linear_model import LogisticRegression\n",
    "# from sklearn.ensemble import RandomForestClassifier\n",
    "# from sklearn.svm import LinearSVC\n",
    "\n",
    "# Construct some pipelines\n",
    "\n",
    "pipe_lr_tfidf = Pipeline([('tf', TfidfVectorizer()), ('clf', OneVsRestClassifier(LogisticRegression(random_state=42)))])\n",
    "\n",
    "pipe_lr = Pipeline([('clf', OneVsRestClassifier(LogisticRegression(random_state=42)))])\n",
    "\n",
    "pipe_rf = Pipeline([('clf', RandomForestClassifier(random_state=42))])\n",
    "\n",
    "pipe_svm = Pipeline([('clf', OneVsRestClassifier(LinearSVC(random_state=42)))])\n",
    "\n",
    "pipe_ada = Pipeline([('ada', OneVsRestClassifier(AdaBoostClassifier()))])\n",
    "\n",
    "#pipe_xgb = Pipeline([('xgb', OneVsRestClassifier(XGBClassifier()))])\n",
    "\n",
    "\n",
    "# Set grid search params\n",
    "param_range = [1, 2, 3, 4, 5, 6, 7, 8, 9, 10]\n",
    "param_range_fl = [1.0, 0.5, 0.1]\n",
    "\n",
    "grid_params_lr = [{'clf__estimator__penalty': ['l1', 'l2'],\n",
    "                    'clf__estimator__C': range(1,50,10)}] \n",
    "\n",
    "grid_params_rf = [{'clf__criterion': ['gini', 'entropy'],\n",
    "                    'clf__min_samples_leaf': range(1,20,1),\n",
    "                    'clf__max_depth': param_range,\n",
    "                    'clf__min_samples_split': param_range[1:]}]\n",
    "\n",
    "grid_params_svm = [{'clf__kernel': ['linear', 'rbf'], \n",
    "                    'clf__C': param_range}]\n",
    "\n",
    "grid_params_ada = [{'ada__estimator__n_estimators': [50,100,200]}]\n",
    "\n",
    "#grid_params_xgb = [{'xgb__estimator__n_estimators': [50,100,200, 300, ],}]"
   ]
  },
  {
   "cell_type": "markdown",
   "metadata": {},
   "source": [
    "'accuracy', 'adjusted_mutual_info_score', 'adjusted_rand_score', 'average_precision', 'completeness_score', 'explained_variance', 'f1', 'f1_macro', 'f1_micro', 'f1_samples', 'f1_weighted', 'fowlkes_mallows_score', 'homogeneity_score', 'mutual_info_score', 'neg_log_loss', 'neg_mean_absolute_error', 'neg_mean_squared_error', 'neg_mean_squared_log_error', 'neg_median_absolute_error', 'normalized_mutual_info_score', 'precision', 'precision_macro', 'precision_micro', 'precision_samples', 'precision_weighted', 'r2', 'recall', 'recall_macro', 'recall_micro', 'recall_samples', 'recall_weighted', 'roc_auc', 'v_measure_score'"
   ]
  },
  {
   "cell_type": "code",
   "execution_count": 23,
   "metadata": {
    "scrolled": true
   },
   "outputs": [],
   "source": [
    "# Construct grid searches\n",
    "jobs = -1\n",
    "\n",
    "# gs_lr_tf_idf = GridSearchCV(estimator=pipe_lr_tfidf,\n",
    "#         param_grid=grid_params_lr,\n",
    "#         scoring='precision',\n",
    "#         cv=5)\n",
    "\n",
    "# gs_lr = GridSearchCV(estimator=pipe_lr,\n",
    "#         param_grid=grid_params_lr,\n",
    "#         scoring='accuracy',\n",
    "#         cv=5) \n",
    "\n",
    "# gs_rf = GridSearchCV(estimator=pipe_rf,\n",
    "#         param_grid=grid_params_rf,\n",
    "#         scoring='accuracy',\n",
    "#         cv=10, \n",
    "#         n_jobs=jobs)\n",
    "\n",
    "# gs_svm = GridSearchCV(estimator=pipe_svm,\n",
    "#         param_grid=grid_params_svm,\n",
    "#         scoring='recall_micro',\n",
    "#         cv=10, \n",
    "#         n_jobs=jobs)\n",
    "\n",
    "# gs_ada = GridSearchCV(\n",
    "#         estimator=pipe_ada,\n",
    "#         param_grid=grid_params_ada,\n",
    "#         scoring='recall_micro',\n",
    "#         cv=10, \n",
    "#         n_jobs=jobs)\n",
    "\n",
    "gs_xgb = GridSearchCV(estimator=pipe_xgb,\n",
    "        param_grid=grid_params_xgb,\n",
    "        scoring='recall_micro',\n",
    "        cv=10, \n",
    "        n_jobs=jobs)\n",
    "\n",
    "# gs_rf.fit(np.vstack(x_train['tf_wv_desc_embedding']), y_train)\n",
    "            # gs_rf.fit(d/ata['comb_desc'][:400], Y[:400])\n",
    "            # gs_svm.fit(newdata, Y[:400])"
   ]
  },
  {
   "cell_type": "code",
   "execution_count": 24,
   "metadata": {
    "scrolled": false
   },
   "outputs": [
    {
     "name": "stdout",
     "output_type": "stream",
     "text": [
      "CPU times: user 59.6 s, sys: 139 ms, total: 59.7 s\n",
      "Wall time: 3min 26s\n"
     ]
    }
   ],
   "source": [
    "%%time\n",
    "gs_xgb.fit(np.vstack(x_train['tf_wv_desc_embedding_200_nap']), y_train)\n",
    "y_pred=gs_xgb.predict(np.vstack(x_train['tf_wv_desc_embedding_200_nap']))"
   ]
  },
  {
   "cell_type": "code",
   "execution_count": 91,
   "metadata": {
    "scrolled": false
   },
   "outputs": [
    {
     "name": "stdout",
     "output_type": "stream",
     "text": [
      "               precision    recall  f1-score   support\n",
      "\n",
      "        artsy       0.89      1.00      0.94       227\n",
      "   athleisure       1.00      1.00      1.00       130\n",
      "     bohemian       1.00      0.54      0.70        63\n",
      "     business       1.00      1.00      1.00       139\n",
      "       casual       0.98      0.99      0.98       394\n",
      "         chic       0.95      0.96      0.96       151\n",
      "      classic       1.00      1.00      1.00        94\n",
      "         edgy       1.00      0.99      0.99        71\n",
      "       exotic       0.96      1.00      0.98       136\n",
      "         glam       1.00      1.00      1.00       128\n",
      "       gothic       1.00      1.00      1.00         9\n",
      "      hipster       1.00      0.62      0.77        16\n",
      " minimalistic       0.99      0.96      0.98       173\n",
      "       preppy       1.00      1.00      1.00        29\n",
      "         punk       1.00      0.86      0.93        44\n",
      "       rocker       1.00      1.00      1.00        29\n",
      "     romantic       0.98      1.00      0.99       322\n",
      "    sartorial       1.00      1.00      1.00        60\n",
      "         sexy       1.00      0.95      0.97       110\n",
      "sophisticated       1.00      1.00      1.00       167\n",
      "       street       0.95      1.00      0.97       110\n",
      "     tailored       1.00      1.00      1.00       161\n",
      "      vintage       1.00      0.79      0.88       159\n",
      "      western       1.00      1.00      1.00        44\n",
      "\n",
      "  avg / total       0.98      0.97      0.97      2966\n",
      "\n"
     ]
    }
   ],
   "source": [
    "print(classification_report(y_pred=gs_xgb.predict(np.vstack(x_train['tf_wv_desc_embedding_200_nap'])), y_true=y_train, target_names=mlb.classes_))"
   ]
  },
  {
   "cell_type": "code",
   "execution_count": 162,
   "metadata": {
    "scrolled": true
   },
   "outputs": [
    {
     "data": {
      "text/plain": [
       "array([[ 6, 10, 23],\n",
       "       [23,  7, 13],\n",
       "       [ 9, 10,  7],\n",
       "       ...,\n",
       "       [14, 13, 10],\n",
       "       [13, 23, 10],\n",
       "       [14, 21, 23]])"
      ]
     },
     "execution_count": 162,
     "metadata": {},
     "output_type": "execute_result"
    }
   ],
   "source": [
    "y_pred_prob=gs_xgb.predict_proba(np.vstack(x_train['tf_wv_desc_embedding_200_nap']))\n",
    "\n",
    "n=3 #get best five style labels\n",
    "best_n = np.argsort(y_pred_prob, axis=1)[:,:n]\n",
    "best_n"
   ]
  },
  {
   "cell_type": "code",
   "execution_count": 120,
   "metadata": {
    "scrolled": false
   },
   "outputs": [
    {
     "name": "stdout",
     "output_type": "stream",
     "text": [
      "               precision    recall  f1-score   support\n",
      "\n",
      "        artsy       0.72      0.35      0.47        51\n",
      "   athleisure       0.91      0.26      0.41        38\n",
      "     bohemian       0.00      0.00      0.00        13\n",
      "     business       0.14      0.04      0.06        28\n",
      "       casual       0.54      0.39      0.46       109\n",
      "         chic       0.33      0.07      0.12        28\n",
      "      classic       0.80      0.14      0.24        28\n",
      "         edgy       0.00      0.00      0.00        25\n",
      "       exotic       0.87      0.47      0.61        43\n",
      "         glam       0.77      0.52      0.62        33\n",
      "       gothic       0.00      0.00      0.00         4\n",
      "      hipster       0.00      0.00      0.00         7\n",
      " minimalistic       0.18      0.05      0.08        39\n",
      "       preppy       0.00      0.00      0.00        13\n",
      "         punk       1.00      0.15      0.27        13\n",
      "       rocker       0.00      0.00      0.00        11\n",
      "     romantic       0.59      0.23      0.33        75\n",
      "    sartorial       0.00      0.00      0.00        12\n",
      "         sexy       0.50      0.04      0.07        28\n",
      "sophisticated       0.40      0.05      0.09        38\n",
      "       street       0.58      0.18      0.27        39\n",
      "     tailored       0.82      0.56      0.67        32\n",
      "      vintage       0.50      0.06      0.10        36\n",
      "      western       0.50      0.18      0.27        11\n",
      "\n",
      "  avg / total       0.52      0.22      0.30       754\n",
      "\n"
     ]
    },
    {
     "name": "stderr",
     "output_type": "stream",
     "text": [
      "/home/ubuntu/.virtualenvs/hana/lib/python3.6/site-packages/sklearn/metrics/classification.py:1135: UndefinedMetricWarning: Precision and F-score are ill-defined and being set to 0.0 in labels with no predicted samples.\n",
      "  'precision', 'predicted', average, warn_for)\n"
     ]
    }
   ],
   "source": [
    "print(classification_report(y_pred=gs_xgb.predict(np.vstack(x_test['tf_wv_desc_embedding_200_nap'])), y_true=y_test, target_names=mlb.classes_))"
   ]
  },
  {
   "cell_type": "code",
   "execution_count": 168,
   "metadata": {
    "scrolled": true
   },
   "outputs": [
    {
     "data": {
      "text/plain": [
       "array([[ 0, 21, 20, ..., 18, 17, 16],\n",
       "       [ 0, 21, 20, ..., 18, 17, 16],\n",
       "       [ 0, 20, 19, ..., 17, 16, 15],\n",
       "       ...,\n",
       "       [ 0, 21, 20, ..., 18, 17, 16],\n",
       "       [ 0, 21, 20, ..., 18, 17, 16],\n",
       "       [ 0, 21, 20, ..., 18, 17, 16]])"
      ]
     },
     "execution_count": 168,
     "metadata": {},
     "output_type": "execute_result"
    }
   ],
   "source": [
    "n=7 #get best five style labels\n",
    "\n",
    "y_pred_prob=gs_xgb.predict(np.vstack(x_test['tf_wv_desc_embedding_200_nap']))\n",
    "best_n = np.argsort(y_pred_prob, axis=1)[:,:n]\n",
    "best_n"
   ]
  },
  {
   "cell_type": "code",
   "execution_count": 50,
   "metadata": {},
   "outputs": [
    {
     "data": {
      "text/plain": [
       "{'artsy': 0,\n",
       " 'athleisure': 1,\n",
       " 'bohemian': 2,\n",
       " 'business': 3,\n",
       " 'casual': 4,\n",
       " 'chic': 5,\n",
       " 'classic': 6,\n",
       " 'edgy': 7,\n",
       " 'exotic': 8,\n",
       " 'glam': 9,\n",
       " 'gothic': 10,\n",
       " 'hipster': 11,\n",
       " 'minimalistic': 12,\n",
       " 'preppy': 13,\n",
       " 'punk': 14,\n",
       " 'rocker': 15,\n",
       " 'romantic': 16,\n",
       " 'sartorial': 17,\n",
       " 'sexy': 18,\n",
       " 'sophisticated': 19,\n",
       " 'street': 20,\n",
       " 'tailored': 21,\n",
       " 'vintage': 22,\n",
       " 'western': 23}"
      ]
     },
     "execution_count": 50,
     "metadata": {},
     "output_type": "execute_result"
    }
   ],
   "source": [
    "{k: v for v, k in enumerate(list(mlb.classes_))}"
   ]
  },
  {
   "cell_type": "code",
   "execution_count": 60,
   "metadata": {
    "scrolled": false
   },
   "outputs": [],
   "source": [
    "y_test_reallabels = mlb.inverse_transform(y_test)\n",
    "y_test_reallabels=pd.Series(y_test_reallabels)"
   ]
  },
  {
   "cell_type": "code",
   "execution_count": 71,
   "metadata": {},
   "outputs": [],
   "source": [
    "y_test_reallabels=y_test_reallabels.apply(lambda row: [w.replace('artsy', '0') for w in list(row)])\n",
    "y_test_reallabels=y_test_reallabels.apply(lambda row: [w.replace('athleisure', '1') for w in list(row)])\n",
    "y_test_reallabels=y_test_reallabels.apply(lambda row: [w.replace('bohemian', '2') for w in list(row)])\n",
    "y_test_reallabels=y_test_reallabels.apply(lambda row: [w.replace('business', '3') for w in list(row)])\n",
    "y_test_reallabels=y_test_reallabels.apply(lambda row: [w.replace('casual', '4') for w in list(row)])\n",
    "y_test_reallabels=y_test_reallabels.apply(lambda row: [w.replace('chic', '5') for w in list(row)])\n",
    "y_test_reallabels=y_test_reallabels.apply(lambda row: [w.replace('classic', '6') for w in list(row)])\n",
    "y_test_reallabels=y_test_reallabels.apply(lambda row: [w.replace('edgy', '7') for w in list(row)])\n",
    "y_test_reallabels=y_test_reallabels.apply(lambda row: [w.replace('exotic', '8') for w in list(row)])\n",
    "y_test_reallabels=y_test_reallabels.apply(lambda row: [w.replace('glam', '9') for w in list(row)])\n",
    "y_test_reallabels=y_test_reallabels.apply(lambda row: [w.replace('gothic', '10') for w in list(row)])\n",
    "y_test_reallabels=y_test_reallabels.apply(lambda row: [w.replace('hipster', '11') for w in list(row)])\n",
    "y_test_reallabels=y_test_reallabels.apply(lambda row: [w.replace('minimalistic', '12') for w in list(row)])\n",
    "y_test_reallabels=y_test_reallabels.apply(lambda row: [w.replace('preppy', '13') for w in list(row)])\n",
    "y_test_reallabels=y_test_reallabels.apply(lambda row: [w.replace('punk', '14') for w in list(row)])\n",
    "y_test_reallabels=y_test_reallabels.apply(lambda row: [w.replace('rocker', '15') for w in list(row)])\n",
    "y_test_reallabels=y_test_reallabels.apply(lambda row: [w.replace('romantic', '16') for w in list(row)])\n",
    "y_test_reallabels=y_test_reallabels.apply(lambda row: [w.replace('sartorial', '17') for w in list(row)])\n",
    "y_test_reallabels=y_test_reallabels.apply(lambda row: [w.replace('sexy', '18') for w in list(row)])\n",
    "y_test_reallabels=y_test_reallabels.apply(lambda row: [w.replace('sophisticated', '19') for w in list(row)])\n",
    "y_test_reallabels=y_test_reallabels.apply(lambda row: [w.replace('street', '20') for w in list(row)])\n",
    "y_test_reallabels=y_test_reallabels.apply(lambda row: [w.replace('tailored', '21') for w in list(row)])\n",
    "y_test_reallabels=y_test_reallabels.apply(lambda row: [w.replace('vintage', '22') for w in list(row)])\n",
    "y_test_reallabels=y_test_reallabels.apply(lambda row: [w.replace('western', '23') for w in list(row)])"
   ]
  },
  {
   "cell_type": "code",
   "execution_count": 169,
   "metadata": {},
   "outputs": [],
   "source": [
    "best_df = pd.Series( (v for v in best_n) )"
   ]
  },
  {
   "cell_type": "code",
   "execution_count": 170,
   "metadata": {},
   "outputs": [],
   "source": [
    "merged_res = pd.concat([best_df, y_test_reallabels], axis=1).apply(lambda r: (r[0].tolist(),r[1]), axis=1)"
   ]
  },
  {
   "cell_type": "code",
   "execution_count": 171,
   "metadata": {},
   "outputs": [
    {
     "data": {
      "text/plain": [
       "0.0"
      ]
     },
     "execution_count": 171,
     "metadata": {},
     "output_type": "execute_result"
    }
   ],
   "source": [
    "res = eval(list(merged_res))\n",
    "res"
   ]
  },
  {
   "cell_type": "code",
   "execution_count": 34,
   "metadata": {},
   "outputs": [],
   "source": [
    "# res=gs_xgb.predict(np.vstack(x_test['tf_wv_desc_embedding_200_nap']))\n",
    "# res[:10]"
   ]
  },
  {
   "cell_type": "code",
   "execution_count": 130,
   "metadata": {},
   "outputs": [
    {
     "data": {
      "text/plain": [
       "0.9176245210727969"
      ]
     },
     "execution_count": 130,
     "metadata": {},
     "output_type": "execute_result"
    }
   ],
   "source": [
    "np.mean(gs_xgb.predict(np.vstack(x_test['tf_wv_desc_embedding_200_nap']))==y_test)"
   ]
  },
  {
   "cell_type": "code",
   "execution_count": null,
   "metadata": {},
   "outputs": [],
   "source": []
  },
  {
   "cell_type": "code",
   "execution_count": null,
   "metadata": {},
   "outputs": [],
   "source": []
  },
  {
   "cell_type": "code",
   "execution_count": null,
   "metadata": {},
   "outputs": [],
   "source": []
  },
  {
   "cell_type": "code",
   "execution_count": null,
   "metadata": {},
   "outputs": [],
   "source": []
  },
  {
   "cell_type": "code",
   "execution_count": null,
   "metadata": {},
   "outputs": [],
   "source": []
  },
  {
   "cell_type": "code",
   "execution_count": null,
   "metadata": {},
   "outputs": [],
   "source": []
  }
 ],
 "metadata": {
  "kernelspec": {
   "display_name": "Python (fashion_project)",
   "language": "python",
   "name": "fashion_project"
  },
  "language_info": {
   "codemirror_mode": {
    "name": "ipython",
    "version": 3
   },
   "file_extension": ".py",
   "mimetype": "text/x-python",
   "name": "python",
   "nbconvert_exporter": "python",
   "pygments_lexer": "ipython3",
   "version": "3.6.1"
  }
 },
 "nbformat": 4,
 "nbformat_minor": 2
}
